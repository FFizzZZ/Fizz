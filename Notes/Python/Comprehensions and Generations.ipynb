{
 "cells": [
  {
   "cell_type": "markdown",
   "metadata": {},
   "source": [
    "# Functions and Syntax"
   ]
  },
  {
   "cell_type": "markdown",
   "metadata": {},
   "source": [
    " ## Comprehensions and Generations"
   ]
  },
  {
   "cell_type": "code",
   "execution_count": 1,
   "metadata": {},
   "outputs": [],
   "source": [
    "from IPython.core.interactiveshell import InteractiveShell\n",
    "InteractiveShell.ast_node_interactivity = \"all\"\n",
    "\n",
    "import os\n",
    "os.getcwd()\n",
    "os.chdir('/Users/fizz/Document/Notes/Python/codes')"
   ]
  },
  {
   "cell_type": "code",
   "execution_count": 3,
   "metadata": {},
   "outputs": [
    {
     "data": {
      "text/plain": [
       "[0, 4, 16, 36, 64]"
      ]
     },
     "execution_count": 3,
     "metadata": {},
     "output_type": "execute_result"
    },
    {
     "data": {
      "text/plain": [
       "[0, 4, 16, 36, 64]"
      ]
     },
     "execution_count": 3,
     "metadata": {},
     "output_type": "execute_result"
    }
   ],
   "source": [
    "[x ** 2 for x in range(10) if x % 2 == 0]\n",
    "list(map(lambda x: x ** 2, filter(lambda x: x % 2 ==0, range(10))))"
   ]
  },
  {
   "cell_type": "code",
   "execution_count": 5,
   "metadata": {},
   "outputs": [
    {
     "data": {
      "text/plain": [
       "[100, 200, 300, 101, 201, 301, 102, 202, 302]"
      ]
     },
     "execution_count": 5,
     "metadata": {},
     "output_type": "execute_result"
    },
    {
     "data": {
      "text/plain": [
       "['sP2', 'sP3', 'sA2', 'sA3', 'mP2', 'mP3', 'mA2', 'mA3']"
      ]
     },
     "execution_count": 5,
     "metadata": {},
     "output_type": "execute_result"
    }
   ],
   "source": [
    "[x + y for x in [0, 1, 2] for y in [100, 200, 300]]\n",
    "\n",
    "[x + y + z for x in 'spam' if x in 'sm'\n",
    "              for y in 'SPAM' if y in ('P', 'A')\n",
    "              for z in '123' if z > '1']"
   ]
  },
  {
   "cell_type": "code",
   "execution_count": 20,
   "metadata": {},
   "outputs": [
    {
     "data": {
      "text/plain": [
       "[2, 5, 8]"
      ]
     },
     "execution_count": 20,
     "metadata": {},
     "output_type": "execute_result"
    },
    {
     "data": {
      "text/plain": [
       "[1, 5, 9]"
      ]
     },
     "execution_count": 20,
     "metadata": {},
     "output_type": "execute_result"
    },
    {
     "data": {
      "text/plain": [
       "[3, 5, 7]"
      ]
     },
     "execution_count": 20,
     "metadata": {},
     "output_type": "execute_result"
    },
    {
     "data": {
      "text/plain": [
       "[11, 12, 13, 14, 15, 16, 17, 18, 19]"
      ]
     },
     "execution_count": 20,
     "metadata": {},
     "output_type": "execute_result"
    },
    {
     "data": {
      "text/plain": [
       "[[11, 12, 13], [14, 15, 16], [17, 18, 19]]"
      ]
     },
     "execution_count": 20,
     "metadata": {},
     "output_type": "execute_result"
    },
    {
     "data": {
      "text/plain": [
       "[[2, 4, 6], [12, 15, 18], [28, 32, 36]]"
      ]
     },
     "execution_count": 20,
     "metadata": {},
     "output_type": "execute_result"
    },
    {
     "data": {
      "text/plain": [
       "[[2, 4, 6], [12, 15, 18], [28, 32, 36]]"
      ]
     },
     "execution_count": 20,
     "metadata": {},
     "output_type": "execute_result"
    }
   ],
   "source": [
    "M = [[1, 2, 3], [4, 5, 6], [7, 8, 9]]\n",
    "N = [[2, 2, 2], [3, 3, 3], [4, 4, 4]]\n",
    "\n",
    "[row[1] for row in M]\n",
    "[M[i][i] for i in range(len(M))]      # Diagonals\n",
    "[M[i][len(M)-1-i] for i in range(len(M))]\n",
    "\n",
    "[col + 10 for row in M for col in row]\n",
    "[[col + 10 for col in row] for row in M]  # !!\n",
    "\n",
    "[[M[row][col] * N[row][col] for col in range(3)] for row in range(3)]\n",
    "[[col1 * col2 for col1, col2 in zip(row1, row2)] for row1, row2 in zip(M, N)]   # !!!"
   ]
  },
  {
   "cell_type": "markdown",
   "metadata": {},
   "source": [
    "Extended generator function protocol: send versus next\n",
    "\n",
    "Technically, **yield** is an expression form that returns the item passed to **send**, not a statement (though it can be called either way - as **yield X**, or **A = (yield x)**). The expression must be enclosed in parentheses unless it's the only item on the right side of the assignment statement. For example, **X = yield Y** is OK, as is **X = (yield Y) + 42**.\n",
    "\n",
    "When this extra protocol is used, values are sent into a generator G by calling **G.send(value)**. The generator's code is then resumed, and the **yield** expression in the generator returns the value passed to **send**. If the regular **G.__next__()** (or its **next(G)** equivalent) is called to advance, they **yield** simply returns **None**. For example:"
   ]
  },
  {
   "cell_type": "code",
   "execution_count": 55,
   "metadata": {},
   "outputs": [
    {
     "data": {
      "text/plain": [
       "0"
      ]
     },
     "execution_count": 55,
     "metadata": {},
     "output_type": "execute_result"
    },
    {
     "name": "stdout",
     "output_type": "stream",
     "text": [
      "77\n"
     ]
    },
    {
     "data": {
      "text/plain": [
       "1"
      ]
     },
     "execution_count": 55,
     "metadata": {},
     "output_type": "execute_result"
    },
    {
     "name": "stdout",
     "output_type": "stream",
     "text": [
      "88\n"
     ]
    },
    {
     "data": {
      "text/plain": [
       "2"
      ]
     },
     "execution_count": 55,
     "metadata": {},
     "output_type": "execute_result"
    },
    {
     "name": "stdout",
     "output_type": "stream",
     "text": [
      "None\n"
     ]
    },
    {
     "data": {
      "text/plain": [
       "3"
      ]
     },
     "execution_count": 55,
     "metadata": {},
     "output_type": "execute_result"
    }
   ],
   "source": [
    "def gen():\n",
    "    for i in range(10):\n",
    "        x = yield i\n",
    "        print(x)\n",
    "G = gen()\n",
    "next(G)\n",
    "G.send(77)\n",
    "G.send(88)\n",
    "next(G)"
   ]
  },
  {
   "cell_type": "code",
   "execution_count": 64,
   "metadata": {},
   "outputs": [
    {
     "name": "stdout",
     "output_type": "stream",
     "text": [
      "Here\n",
      "[PRODUCE] Producing 1...\n",
      "[CONSUMER] Consuming 1...\n",
      "[PRODUCE] Consumer return: 200 OK1\n",
      "[PRODUCE] Producing 2...\n",
      "[CONSUMER] Consuming 2...\n",
      "[PRODUCE] Consumer return: 200 OK2\n",
      "[PRODUCE] Producing 3...\n",
      "[CONSUMER] Consuming 3...\n",
      "[PRODUCE] Consumer return: 200 OK3\n",
      "[PRODUCE] Producing 4...\n",
      "[CONSUMER] Consuming 4...\n",
      "[PRODUCE] Consumer return: 200 OK4\n",
      "[PRODUCE] Producing 5...\n",
      "[CONSUMER] Consuming 5...\n",
      "[PRODUCE] Consumer return: 200 OK5\n"
     ]
    }
   ],
   "source": [
    "def consumer():\n",
    "    r = 'Here'\n",
    "    while True:\n",
    "        n1 = yield r\n",
    "        if not n1:\n",
    "            return\n",
    "        print('[CONSUMER] Consuming %s...' % n1 )\n",
    "        r = '200 OK' + str(n1)\n",
    "\n",
    "def produce(c):\n",
    "    aa = c.send(None)\n",
    "    print(aa)\n",
    "    n = 0\n",
    "    while n < 5:\n",
    "        n = n + 1\n",
    "        print('[PRODUCE] Producing %s...' % n)\n",
    "        r1 = c.send(n)\n",
    "        print('[PRODUCE] Consumer return: %s' % r1)\n",
    "    c.close()\n",
    "    \n",
    "c = consumer()\n",
    "produce(c)"
   ]
  },
  {
   "cell_type": "code",
   "execution_count": 76,
   "metadata": {},
   "outputs": [
    {
     "data": {
      "text/plain": [
       "<generator object <genexpr> at 0x10d7f5c78>"
      ]
     },
     "execution_count": 76,
     "metadata": {},
     "output_type": "execute_result"
    },
    {
     "data": {
      "text/plain": [
       "[0, 1, 4, 9]"
      ]
     },
     "execution_count": 76,
     "metadata": {},
     "output_type": "execute_result"
    },
    {
     "data": {
      "text/plain": [
       "'AAABBBCCC'"
      ]
     },
     "execution_count": 76,
     "metadata": {},
     "output_type": "execute_result"
    },
    {
     "data": {
      "text/plain": [
       "('aaa\\n', 'ccc\\n')"
      ]
     },
     "execution_count": 76,
     "metadata": {},
     "output_type": "execute_result"
    },
    {
     "data": {
      "text/plain": [
       "[0, 1, 4, 9]"
      ]
     },
     "execution_count": 76,
     "metadata": {},
     "output_type": "execute_result"
    },
    {
     "data": {
      "text/plain": [
       "[9, 4, 1, 0]"
      ]
     },
     "execution_count": 76,
     "metadata": {},
     "output_type": "execute_result"
    },
    {
     "data": {
      "text/plain": [
       "[2, 4, 6, 8]"
      ]
     },
     "execution_count": 76,
     "metadata": {},
     "output_type": "execute_result"
    }
   ],
   "source": [
    "(x ** 2 for x in range(4))    # Generator expression: make an iterable\n",
    "list(x ** 2 for x in range(4))\n",
    "\n",
    "# Syntactically, parentheses are not required around a generator expression that is the sole\n",
    "# item already enclosed in parentheses used for other purposes\n",
    "''.join(x.upper() for x in 'aaa,bbb,ccc'.split(','))\n",
    "\n",
    "a, b, c = (x + '\\n' for x in 'aaa,bbb,ccc'.split(','))\n",
    "a, c\n",
    "\n",
    "sorted(x ** 2 for x in range(4))    # Parens optional\n",
    "sorted((x ** 2 for x in range(4)), reverse = True)     # Parens required\n",
    "\n",
    "list(x * 2 for x in (abs(x) for x in (-1, -2, -3, -4)))"
   ]
  },
  {
   "cell_type": "code",
   "execution_count": 79,
   "metadata": {},
   "outputs": [
    {
     "data": {
      "text/plain": [
       "True"
      ]
     },
     "execution_count": 79,
     "metadata": {},
     "output_type": "execute_result"
    },
    {
     "data": {
      "text/plain": [
       "'SSSS'"
      ]
     },
     "execution_count": 79,
     "metadata": {},
     "output_type": "execute_result"
    },
    {
     "data": {
      "text/plain": [
       "'PPPP'"
      ]
     },
     "execution_count": 79,
     "metadata": {},
     "output_type": "execute_result"
    }
   ],
   "source": [
    "G = (c*4 for c in 'SPAM')\n",
    "iter(G) is G   # a generator's iterator is the generator itself\n",
    "I1 = iter(G)\n",
    "next(I1)\n",
    "I2 = iter(G)\n",
    "next(I2)   # Second iterator at same position"
   ]
  },
  {
   "cell_type": "code",
   "execution_count": 84,
   "metadata": {},
   "outputs": [
    {
     "data": {
      "text/plain": [
       "[0, 1, 2, 3, 4, 0, 1, 4, 9, 16]"
      ]
     },
     "execution_count": 84,
     "metadata": {},
     "output_type": "execute_result"
    },
    {
     "data": {
      "text/plain": [
       "[0, 1, 2, 3, 4, 0, 1, 4, 9, 16]"
      ]
     },
     "execution_count": 84,
     "metadata": {},
     "output_type": "execute_result"
    }
   ],
   "source": [
    "def both(N):\n",
    "    for i in range(N): yield i\n",
    "    for i in (x ** 2 for x in range(N)): yield i\n",
    "list(both(5))\n",
    "\n",
    "# Python 3.3 introduces extend syntax for the yield statement that allows delegation to a\n",
    "# subgenerator with a from generator clause.\n",
    "def both(N):\n",
    "    yield from range(N)\n",
    "    yield from (x ** 2 for x in range(N))\n",
    "list(both(5))"
   ]
  },
  {
   "cell_type": "code",
   "execution_count": 96,
   "metadata": {
    "scrolled": true
   },
   "outputs": [
    {
     "data": {
      "text/plain": [
       "('.',\n",
       " ['__pycache__'],\n",
       " ['kkp.py',\n",
       "  'temp2',\n",
       "  '.DS_Store',\n",
       "  'saveit.txt',\n",
       "  'thismod.py',\n",
       "  'files.jpg',\n",
       "  'script1.py',\n",
       "  'makeopen.py',\n",
       "  'log.txt',\n",
       "  'script2.py',\n",
       "  'temp1',\n",
       "  'nmsl.py',\n",
       "  'testjson.txt',\n",
       "  'datafile.pkl',\n",
       "  'myfile.txt',\n",
       "  'datafile.txt',\n",
       "  'data.txt',\n",
       "  'arguments.jpg'])"
      ]
     },
     "execution_count": 96,
     "metadata": {},
     "output_type": "execute_result"
    },
    {
     "data": {
      "text/plain": [
       "('./__pycache__',\n",
       " [],\n",
       " ['makeopen.cpython-37.pyc',\n",
       "  'script2.cpython-37.pyc',\n",
       "  'script1.cpython-37.pyc',\n",
       "  'kkp.cpython-37.pyc',\n",
       "  'thismod.cpython-37.pyc',\n",
       "  'nmsl.cpython-37.pyc'])"
      ]
     },
     "execution_count": 96,
     "metadata": {},
     "output_type": "execute_result"
    }
   ],
   "source": [
    "import os\n",
    "for (root, subs, files) in os.walk('.'):\n",
    "    for name in files:\n",
    "        if name.startswith('call'):\n",
    "            print(root, name)\n",
    "            \n",
    "# os.walk is coded as recursive function\n",
    "G = os.walk('.')\n",
    "next(G)\n",
    "next(G)"
   ]
  },
  {
   "cell_type": "code",
   "execution_count": 120,
   "metadata": {},
   "outputs": [
    {
     "name": "stdout",
     "output_type": "stream",
     "text": [
      "0, 1, and 2\n",
      "0, 1, and 2\n",
      "S P A M "
     ]
    },
    {
     "data": {
      "text/plain": [
       "[None, None, None, None]"
      ]
     },
     "execution_count": 120,
     "metadata": {},
     "output_type": "execute_result"
    },
    {
     "name": "stdout",
     "output_type": "stream",
     "text": [
      "S P A M\n"
     ]
    }
   ],
   "source": [
    "def f(a, b, c): print('%s, %s, and %s' % (a, b, c))\n",
    "f(*range(3))\n",
    "f(*(i for i in range(3)))\n",
    "\n",
    "list(print(x.upper(), end=' ') for x in 'spam')\n",
    "print(*(x.upper() for x in 'spam'))"
   ]
  },
  {
   "cell_type": "code",
   "execution_count": 133,
   "metadata": {},
   "outputs": [
    {
     "name": "stdout",
     "output_type": "stream",
     "text": [
      "def permute1(seq):\n",
      "    if not seq:\n",
      "        return [seq]\n",
      "    else:\n",
      "        res = []\n",
      "    for i in range(len(seq)):\n",
      "        rest = seq[:i] + seq[i+1:]\n",
      "        for x in permute1(rest):\n",
      "            res.append(seq[i:i+1] + x)\n",
      "    return res\n",
      "    \n",
      "def permute2(seq):\n",
      "    if not seq:\n",
      "        yield seq\n",
      "    else:\n",
      "        for i in range(len(seq)):\n",
      "            rest = seq[:i] + seq[i+1:]\n",
      "            for x in permute2(rest):\n",
      "                yield seq[i:i+1] + x\n"
     ]
    }
   ],
   "source": [
    "# !!!\n",
    "f = open('permute.py')\n",
    "print(f.read())"
   ]
  },
  {
   "cell_type": "code",
   "execution_count": 2,
   "metadata": {},
   "outputs": [
    {
     "data": {
      "text/plain": [
       "['abc', 'acb', 'bac', 'bca', 'cab', 'cba']"
      ]
     },
     "execution_count": 2,
     "metadata": {},
     "output_type": "execute_result"
    },
    {
     "data": {
      "text/plain": [
       "['abc', 'acb', 'bac', 'bca', 'cab', 'cba']"
      ]
     },
     "execution_count": 2,
     "metadata": {},
     "output_type": "execute_result"
    }
   ],
   "source": [
    "from permute import permute1, permute2\n",
    "permute1('abc')\n",
    "list(permute2('abc'))"
   ]
  },
  {
   "cell_type": "code",
   "execution_count": 41,
   "metadata": {},
   "outputs": [
    {
     "data": {
      "text/plain": [
       "<map at 0x12105de80>"
      ]
     },
     "execution_count": 41,
     "metadata": {},
     "output_type": "execute_result"
    },
    {
     "data": {
      "text/plain": [
       "['import sys\\nimport sys\\n',\n",
       " 'print(sys.path)\\nprint(sys.path)\\n',\n",
       " 'x = 2\\nx = 2\\n',\n",
       " 'print(x ** 32)\\nprint(x ** 32)\\n']"
      ]
     },
     "execution_count": 41,
     "metadata": {},
     "output_type": "execute_result"
    }
   ],
   "source": [
    "# map and zip accept arbitrary iterables\n",
    "map(lambda x, y: x + y, open('script2.py'), open('script2.py'))\n",
    "[x + y for x, y in zip(open('script2.py'), open('script2.py'))]"
   ]
  },
  {
   "cell_type": "code",
   "execution_count": null,
   "metadata": {},
   "outputs": [],
   "source": [
    "# Coding your own map(func, ...)\n",
    "def mymap(func, *seqs):\n",
    "    res = []\n",
    "    for args in zip(*seqs):\n",
    "        yield func(*args)\n",
    "def mymap(func, *seqs):\n",
    "    return (func(*args) for args in zip(*seqs))\n",
    "\n",
    "# zip(seqs...) and 2.X map(None, seqs...) workalikes\n",
    "def myzip(*seqs):\n",
    "    seqs = [list(s) for s in seqs]\n",
    "    res = []\n",
    "    while all(seqs):\n",
    "        res.append(tuple(s.pop(0) for s in seqs))\n",
    "    return res\n",
    "def mymapPad(*seqs, pad=None):\n",
    "    seqs = [list(S) for S in seqs]\n",
    "    res = []\n",
    "    while any(seqs):\n",
    "        res.append(tuple((S.pop(0) if S else pad) for S in seqs))\n",
    "    return res\n",
    "\n",
    "# Using generators: yield\n",
    "def myzip(*seqs):\n",
    "    seqs = [list(S) for S in seqs]\n",
    "    while all(seqs):\n",
    "        yield tuple(S.pop(0) for S in seqs)\n",
    "def mymapPad(*seqs, pad=None):\n",
    "    seqs = [list(S) for S in seqs]\n",
    "    while any(seqs):\n",
    "        yield tuple((S.pop(0) if S else pad) for S in seqs)\n",
    "\n",
    "# Alternate implementation with lengths\n",
    "def myzip(*seqs):\n",
    "    minlen = min(len(S) for S in seqs)\n",
    "    return [tuple(S[i] for S in seqs) for i in range(minlen)]\n",
    "def mymapPad(*seqs, pad=None):\n",
    "    maxlen = max(len(S) for S in seqs)\n",
    "    index = range(maxlen)\n",
    "    return [tuple((S[i] if len(S) > i else pad) for S in seqs) for i in index]\n",
    "\n",
    "# Using generators: (...)\n",
    "def myzip(*seqs):\n",
    "    minlen = min(len(S) for S in seqs)\n",
    "    return tuple((S[i] for S in seqs) for i in range(minlen))"
   ]
  },
  {
   "cell_type": "code",
   "execution_count": null,
   "metadata": {},
   "outputs": [],
   "source": [
    "dict(zip(keys, vals))\n",
    "{x: x * x for x in range(10)}\n",
    "dict((x, x * x) for x in range(10))"
   ]
  },
  {
   "cell_type": "code",
   "execution_count": null,
   "metadata": {},
   "outputs": [],
   "source": []
  },
  {
   "cell_type": "code",
   "execution_count": null,
   "metadata": {},
   "outputs": [],
   "source": []
  },
  {
   "cell_type": "code",
   "execution_count": null,
   "metadata": {},
   "outputs": [],
   "source": []
  },
  {
   "cell_type": "code",
   "execution_count": null,
   "metadata": {},
   "outputs": [],
   "source": []
  },
  {
   "cell_type": "code",
   "execution_count": null,
   "metadata": {},
   "outputs": [],
   "source": []
  },
  {
   "cell_type": "code",
   "execution_count": null,
   "metadata": {},
   "outputs": [],
   "source": []
  },
  {
   "cell_type": "code",
   "execution_count": null,
   "metadata": {},
   "outputs": [],
   "source": []
  },
  {
   "cell_type": "code",
   "execution_count": null,
   "metadata": {},
   "outputs": [],
   "source": []
  },
  {
   "cell_type": "code",
   "execution_count": null,
   "metadata": {},
   "outputs": [],
   "source": []
  },
  {
   "cell_type": "code",
   "execution_count": null,
   "metadata": {},
   "outputs": [],
   "source": []
  },
  {
   "cell_type": "code",
   "execution_count": null,
   "metadata": {},
   "outputs": [],
   "source": []
  },
  {
   "cell_type": "code",
   "execution_count": null,
   "metadata": {},
   "outputs": [],
   "source": []
  },
  {
   "cell_type": "code",
   "execution_count": null,
   "metadata": {},
   "outputs": [],
   "source": []
  },
  {
   "cell_type": "code",
   "execution_count": null,
   "metadata": {},
   "outputs": [],
   "source": []
  },
  {
   "cell_type": "code",
   "execution_count": null,
   "metadata": {},
   "outputs": [],
   "source": []
  }
 ],
 "metadata": {
  "kernelspec": {
   "display_name": "Python 3",
   "language": "python",
   "name": "python3"
  },
  "language_info": {
   "codemirror_mode": {
    "name": "ipython",
    "version": 3
   },
   "file_extension": ".py",
   "mimetype": "text/x-python",
   "name": "python",
   "nbconvert_exporter": "python",
   "pygments_lexer": "ipython3",
   "version": "3.7.2"
  },
  "toc": {
   "base_numbering": 1,
   "nav_menu": {},
   "number_sections": true,
   "sideBar": true,
   "skip_h1_title": false,
   "title_cell": "Table of Contents",
   "title_sidebar": "Contents",
   "toc_cell": false,
   "toc_position": {},
   "toc_section_display": true,
   "toc_window_display": false
  }
 },
 "nbformat": 4,
 "nbformat_minor": 2
}
