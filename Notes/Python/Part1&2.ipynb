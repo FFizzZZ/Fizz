{
 "cells": [
  {
   "cell_type": "markdown",
   "metadata": {},
   "source": [
    "\n",
    "*stream redirection*: you can route the printed output of a Python script to a file to save it for later use or inspection by using special shell syntax: %python script1.py > saveit.txt"
   ]
  },
  {
   "cell_type": "code",
   "execution_count": 2,
   "metadata": {},
   "outputs": [],
   "source": [
    "from IPython.core.interactiveshell import InteractiveShell\n",
    "InteractiveShell.ast_node_interactivity = \"all\""
   ]
  },
  {
   "cell_type": "code",
   "execution_count": 3,
   "metadata": {},
   "outputs": [
    {
     "data": {
      "text/plain": [
       "'/Users/fizz/Document/Notes/Python'"
      ]
     },
     "execution_count": 3,
     "metadata": {},
     "output_type": "execute_result"
    }
   ],
   "source": [
    "import os\n",
    "os.getcwd()\n",
    "os.chdir('/Users/fizz/Document/Notes/Python/codes')"
   ]
  },
  {
   "cell_type": "code",
   "execution_count": 2,
   "metadata": {},
   "outputs": [
    {
     "name": "stdout",
     "output_type": "stream",
     "text": [
      "darwin\n",
      "200\n",
      "Spam!Spam!Spam!Spam!Spam!Spam!Spam!Spam!\n"
     ]
    }
   ],
   "source": [
    "import script1"
   ]
  },
  {
   "cell_type": "code",
   "execution_count": 4,
   "metadata": {},
   "outputs": [
    {
     "name": "stdout",
     "output_type": "stream",
     "text": [
      "darwin\n",
      "200\n",
      "Spam!Spam!Spam!Spam!Spam!Spam!Spam!Spam!\n"
     ]
    },
    {
     "data": {
      "text/plain": [
       "<module 'script1' from '/Users/fizz/Document/Notes/Python/codes/script1.py'>"
      ]
     },
     "execution_count": 4,
     "metadata": {},
     "output_type": "execute_result"
    }
   ],
   "source": [
    "from imp import reload   # Run file; copy its names\n",
    "reload(script1)"
   ]
  },
  {
   "cell_type": "code",
   "execution_count": 6,
   "metadata": {},
   "outputs": [
    {
     "data": {
      "text/plain": [
       "['__builtins__',\n",
       " '__cached__',\n",
       " '__doc__',\n",
       " '__file__',\n",
       " '__loader__',\n",
       " '__name__',\n",
       " '__package__',\n",
       " '__spec__',\n",
       " 'sys',\n",
       " 'x']"
      ]
     },
     "execution_count": 6,
     "metadata": {},
     "output_type": "execute_result"
    }
   ],
   "source": [
    "dir(script1)"
   ]
  },
  {
   "cell_type": "markdown",
   "metadata": {},
   "source": [
    "reloads aren't transitive - reloading a module reloads that module only, not any modules it may import - so you sometiomes have to reload multiple files"
   ]
  },
  {
   "cell_type": "code",
   "execution_count": 9,
   "metadata": {},
   "outputs": [
    {
     "name": "stdout",
     "output_type": "stream",
     "text": [
      "darwin\n",
      "200\n",
      "Spam!Spam!Spam!Spam!Spam!Spam!Spam!Spam!\n"
     ]
    }
   ],
   "source": [
    "# Using exec to Run Module Files\n",
    "exec(open('script1.py').read())"
   ]
  },
  {
   "cell_type": "markdown",
   "metadata": {},
   "source": [
    "# Types and Operations\n",
    "## Introducing Python Object Types"
   ]
  },
  {
   "cell_type": "code",
   "execution_count": 17,
   "metadata": {},
   "outputs": [
    {
     "data": {
      "text/plain": [
       "9.219544457292887"
      ]
     },
     "execution_count": 17,
     "metadata": {},
     "output_type": "execute_result"
    }
   ],
   "source": [
    "import math\n",
    "math.pi\n",
    "math.sqrt(85)"
   ]
  },
  {
   "cell_type": "code",
   "execution_count": 25,
   "metadata": {},
   "outputs": [
    {
     "data": {
      "text/plain": [
       "1"
      ]
     },
     "execution_count": 25,
     "metadata": {},
     "output_type": "execute_result"
    }
   ],
   "source": [
    "import random\n",
    "random.random()\n",
    "random.choice([1, 2, 3, 4])"
   ]
  },
  {
   "cell_type": "code",
   "execution_count": 30,
   "metadata": {},
   "outputs": [
    {
     "data": {
      "text/plain": [
       "'spam'"
      ]
     },
     "execution_count": 30,
     "metadata": {},
     "output_type": "execute_result"
    }
   ],
   "source": [
    "s='spam'\n",
    "s[:]    # All of s as a top-level copy"
   ]
  },
  {
   "cell_type": "markdown",
   "metadata": {},
   "source": [
    "In terms of the core types, *number, strings, and tuples* are immutable; *lists, dictionaries, and sets* are not - they can be changed in place freely, as can most new objects you'll code with classes."
   ]
  },
  {
   "cell_type": "code",
   "execution_count": 31,
   "metadata": {},
   "outputs": [
    {
     "data": {
      "text/plain": [
       "'scrubbery'"
      ]
     },
     "execution_count": 31,
     "metadata": {},
     "output_type": "execute_result"
    }
   ],
   "source": [
    "S='shrubbery'\n",
    "L=list(S)\n",
    "L[1]='c'\n",
    "''.join(L)    # Join with empty delimiter"
   ]
  },
  {
   "cell_type": "code",
   "execution_count": 34,
   "metadata": {},
   "outputs": [
    {
     "data": {
      "text/plain": [
       "['aaa', 'bbb', 'ccccc', 'dd']"
      ]
     },
     "execution_count": 34,
     "metadata": {},
     "output_type": "execute_result"
    }
   ],
   "source": [
    "S='Spam'\n",
    "S.find('pa')\n",
    "S.replace('pa', 'XYZ')\n",
    "\n",
    "line='aaa,bbb,ccccc,dd'\n",
    "line.split(',')\n",
    "\n",
    "S='spam'\n",
    "S.upper()\n",
    "S.isalpha()\n",
    "\n",
    "line='aaa,bbb,ccccc,dd\\n'\n",
    "line.rstrip().split(',')"
   ]
  },
  {
   "cell_type": "code",
   "execution_count": 36,
   "metadata": {},
   "outputs": [
    {
     "data": {
      "text/plain": [
       "'3.14 | -0042'"
      ]
     },
     "execution_count": 36,
     "metadata": {},
     "output_type": "execute_result"
    }
   ],
   "source": [
    "'%s, eggs, and %s' % ('spam', 'SPAM!')   # Formatting expression (all)\n",
    "'{0}, eggs, and {1}'.format('spam', 'SPAM!')  # Formatting method\n",
    "'{}, eggs, and {}'.format('spam', \"SPAM!\")    # Numbers optional\n",
    "\n",
    "'{:,.2f}'.format(296999.2567)    # Separators, decimal digits\n",
    "'%.2f | %+05d' % (3.14159, -42)   # Digits, padding, signs"
   ]
  },
  {
   "cell_type": "code",
   "execution_count": 38,
   "metadata": {},
   "outputs": [
    {
     "name": "stdout",
     "output_type": "stream",
     "text": [
      "Help on built-in function replace:\n",
      "\n",
      "replace(old, new, count=-1, /) method of builtins.str instance\n",
      "    Return a copy with all occurrences of substring old replaced by new.\n",
      "    \n",
      "      count\n",
      "        Maximum number of occurrences to replace.\n",
      "        -1 (the default value) means replace all occurrences.\n",
      "    \n",
      "    If the optional argument count is given, only the first count occurrences are\n",
      "    replaced.\n",
      "\n"
     ]
    }
   ],
   "source": [
    "# Getting Help\n",
    "dir(S)\n",
    "help(S.replace)"
   ]
  },
  {
   "cell_type": "code",
   "execution_count": 44,
   "metadata": {},
   "outputs": [
    {
     "data": {
      "text/plain": [
       "'\\naaaaa\\nbbbbbbbb\\ncc\\n'"
      ]
     },
     "execution_count": 44,
     "metadata": {},
     "output_type": "execute_result"
    }
   ],
   "source": [
    "msg=\"\"\"\n",
    "aaaaa\n",
    "bbbbbbbb\n",
    "cc\n",
    "\"\"\"\n",
    "msg"
   ]
  },
  {
   "cell_type": "code",
   "execution_count": 104,
   "metadata": {},
   "outputs": [
    {
     "data": {
      "text/plain": [
       "'Python '"
      ]
     },
     "execution_count": 104,
     "metadata": {},
     "output_type": "execute_result"
    }
   ],
   "source": [
    "import re\n",
    "match=re.match('Hello[ \\t]*(.*)world', 'Hello      Python world')\n",
    "match.group(1)"
   ]
  },
  {
   "cell_type": "code",
   "execution_count": 116,
   "metadata": {},
   "outputs": [
    {
     "data": {
      "text/plain": [
       "('usr', 'home', 'lumberjack')"
      ]
     },
     "execution_count": 116,
     "metadata": {},
     "output_type": "execute_result"
    }
   ],
   "source": [
    "match=re.match('[/:](.*)[/:](.*)[/:](.*)', '/usr/home:lumberjack')\n",
    "match.groups()"
   ]
  },
  {
   "cell_type": "code",
   "execution_count": null,
   "metadata": {},
   "outputs": [],
   "source": [
    "L=[123, 'spam', 1.23]\n",
    "L.append('NI')\n",
    "L.pop(2)\n",
    "M=['bb', 'aa', 'cc']\n",
    "M.sort()\n",
    "M.reverse()\n",
    "\n",
    "M=[[1, 2, 3], [4, 5, 6], [7, 8, 9]]\n",
    "[row[1] for row in M if row[1] % 2 == 0]\n",
    "\n",
    "[[x, x/2, x*2] for x in range(-6, 7, 2) if x>0]"
   ]
  },
  {
   "cell_type": "code",
   "execution_count": 120,
   "metadata": {},
   "outputs": [
    {
     "data": {
      "text/plain": [
       "6"
      ]
     },
     "execution_count": 120,
     "metadata": {},
     "output_type": "execute_result"
    },
    {
     "data": {
      "text/plain": [
       "15"
      ]
     },
     "execution_count": 120,
     "metadata": {},
     "output_type": "execute_result"
    },
    {
     "data": {
      "text/plain": [
       "24"
      ]
     },
     "execution_count": 120,
     "metadata": {},
     "output_type": "execute_result"
    }
   ],
   "source": [
    "G=(sum(row) for row in M)\n",
    "next(G)\n",
    "next(G)\n",
    "next(G)"
   ]
  },
  {
   "cell_type": "code",
   "execution_count": 122,
   "metadata": {},
   "outputs": [
    {
     "data": {
      "text/plain": [
       "[6, 15, 24]"
      ]
     },
     "execution_count": 122,
     "metadata": {},
     "output_type": "execute_result"
    },
    {
     "data": {
      "text/plain": [
       "{6, 15, 24}"
      ]
     },
     "execution_count": 122,
     "metadata": {},
     "output_type": "execute_result"
    },
    {
     "data": {
      "text/plain": [
       "{0: 6, 1: 15, 2: 24}"
      ]
     },
     "execution_count": 122,
     "metadata": {},
     "output_type": "execute_result"
    },
    {
     "data": {
      "text/plain": [
       "[115, 112, 97, 97, 109]"
      ]
     },
     "execution_count": 122,
     "metadata": {},
     "output_type": "execute_result"
    },
    {
     "data": {
      "text/plain": [
       "<generator object <genexpr> at 0x118f88b88>"
      ]
     },
     "execution_count": 122,
     "metadata": {},
     "output_type": "execute_result"
    }
   ],
   "source": [
    "list(map(sum, M))\n",
    "{sum(row) for row in M}\n",
    "{i : sum(M[i]) for i in range(3)}\n",
    "\n",
    "[ord(x) for x in 'spaam']\n",
    "(ord(x) for x in 'spaam')    # Generator of values"
   ]
  },
  {
   "cell_type": "code",
   "execution_count": null,
   "metadata": {},
   "outputs": [],
   "source": [
    "bob=dict(zip(['name', 'job', 'age'], ['Bob', 'dev', '40']))    # Zipping\n",
    "bob=dict(name='Bob', job='dev', age=40)   # Keywords\n",
    "\n",
    "D={'a':1, 'b':2, 'c':3}\n",
    "if not 'f' in D:\n",
    "    print('missing')\n",
    "    \n",
    "value=D.get('x', 0)\n",
    "value=D['x'] if 'x' in D else 0"
   ]
  },
  {
   "cell_type": "code",
   "execution_count": 123,
   "metadata": {},
   "outputs": [],
   "source": [
    "D={'a':1, 'b':2, 'c':3}\n",
    "Ks=list(D.keys())\n",
    "for key in Ks.sort():\n",
    "    print(key, '=>', D[key])\n",
    "for key in sorted(D):\n",
    "    print(key, '=>', D[key])"
   ]
  },
  {
   "cell_type": "code",
   "execution_count": 126,
   "metadata": {},
   "outputs": [
    {
     "data": {
      "text/plain": [
       "2"
      ]
     },
     "execution_count": 126,
     "metadata": {},
     "output_type": "execute_result"
    }
   ],
   "source": [
    "T=(1, 2, 3, 4)\n",
    "T.index(4)   # return first index of value\n",
    "T.count(4)   # return number of occurences"
   ]
  },
  {
   "cell_type": "code",
   "execution_count": 137,
   "metadata": {},
   "outputs": [
    {
     "data": {
      "text/plain": [
       "6"
      ]
     },
     "execution_count": 137,
     "metadata": {},
     "output_type": "execute_result"
    },
    {
     "data": {
      "text/plain": [
       "6"
      ]
     },
     "execution_count": 137,
     "metadata": {},
     "output_type": "execute_result"
    }
   ],
   "source": [
    "f=open('data.txt', 'w')\n",
    "f.write('Hello\\n')\n",
    "f.write('world\\n')  # return number of items written\n",
    "f.close()"
   ]
  },
  {
   "cell_type": "code",
   "execution_count": 141,
   "metadata": {},
   "outputs": [
    {
     "name": "stdout",
     "output_type": "stream",
     "text": [
      "Hello\n",
      "world\n"
     ]
    }
   ],
   "source": [
    "f=open('data.txt')\n",
    "text=f.read()\n",
    "\n",
    "for line in open('data.txt'):\n",
    "    print(line, end='')"
   ]
  },
  {
   "cell_type": "code",
   "execution_count": null,
   "metadata": {},
   "outputs": [],
   "source": [
    "X=set('spam')\n",
    "Y={'h', 'a', 'm'}\n",
    "X&Y\n",
    "X|Y\n",
    "X-Y  # Difference\n",
    "X>Y  # Superset\n",
    "'p' in set('spam')"
   ]
  },
  {
   "cell_type": "code",
   "execution_count": 143,
   "metadata": {},
   "outputs": [
    {
     "data": {
      "text/plain": [
       "Decimal('4.141')"
      ]
     },
     "execution_count": 143,
     "metadata": {},
     "output_type": "execute_result"
    },
    {
     "data": {
      "text/plain": [
       "Decimal('0.33')"
      ]
     },
     "execution_count": 143,
     "metadata": {},
     "output_type": "execute_result"
    },
    {
     "data": {
      "text/plain": [
       "Fraction(5, 3)"
      ]
     },
     "execution_count": 143,
     "metadata": {},
     "output_type": "execute_result"
    },
    {
     "data": {
      "text/plain": [
       "Fraction(7, 6)"
      ]
     },
     "execution_count": 143,
     "metadata": {},
     "output_type": "execute_result"
    }
   ],
   "source": [
    "import decimal     # Decimals: fixed precision\n",
    "d=decimal.Decimal('3.141')\n",
    "d+1\n",
    "\n",
    "decimal.getcontext().prec=2\n",
    "decimal.Decimal('1.00')/decimal.Decimal('3.00')\n",
    "\n",
    "from fractions import Fraction   # Fractions: numerator+denominator\n",
    "f=Fraction(2, 3)\n",
    "f+1\n",
    "f+Fraction(1, 2)"
   ]
  },
  {
   "cell_type": "code",
   "execution_count": null,
   "metadata": {},
   "outputs": [],
   "source": [
    "L=[]\n",
    "type(type(L))\n",
    "\n",
    "if isinstance(L, list):\n",
    "    print('yes')"
   ]
  },
  {
   "cell_type": "markdown",
   "metadata": {},
   "source": [
    "## Numeric Types"
   ]
  },
  {
   "cell_type": "code",
   "execution_count": null,
   "metadata": {},
   "outputs": [],
   "source": [
    "x ^ y  # Bitwise XOR, set symmetric difference\n",
    "x << y, x >> y  # Shift x left or right by y bits\n",
    "x % y    # Remainder, format\n",
    "x < y < z  # Chained comparisons: range tests"
   ]
  },
  {
   "cell_type": "code",
   "execution_count": 144,
   "metadata": {},
   "outputs": [
    {
     "data": {
      "text/plain": [
       "\"'spam'\""
      ]
     },
     "execution_count": 144,
     "metadata": {},
     "output_type": "execute_result"
    },
    {
     "data": {
      "text/plain": [
       "'spam'"
      ]
     },
     "execution_count": 144,
     "metadata": {},
     "output_type": "execute_result"
    },
    {
     "data": {
      "text/plain": [
       "False"
      ]
     },
     "execution_count": 144,
     "metadata": {},
     "output_type": "execute_result"
    },
    {
     "data": {
      "text/plain": [
       "False"
      ]
     },
     "execution_count": 144,
     "metadata": {},
     "output_type": "execute_result"
    },
    {
     "data": {
      "text/plain": [
       "True"
      ]
     },
     "execution_count": 144,
     "metadata": {},
     "output_type": "execute_result"
    }
   ],
   "source": [
    "# str and repr Display Formats\n",
    "repr('spam')  # Used by echoes: as-code form\n",
    "str('spam')    # Used by print: user-friendly form\n",
    "\n",
    "1 == 2 < 3  # same as: 1==2 and 2<3\n",
    "\n",
    "1.1 + 2.2 == 3.3\n",
    "int(1.1 + 2.2) == int(3.3)"
   ]
  },
  {
   "cell_type": "code",
   "execution_count": 148,
   "metadata": {},
   "outputs": [
    {
     "data": {
      "text/plain": [
       "-3"
      ]
     },
     "execution_count": 148,
     "metadata": {},
     "output_type": "execute_result"
    },
    {
     "data": {
      "text/plain": [
       "-2"
      ]
     },
     "execution_count": 148,
     "metadata": {},
     "output_type": "execute_result"
    },
    {
     "data": {
      "text/plain": [
       "-3"
      ]
     },
     "execution_count": 148,
     "metadata": {},
     "output_type": "execute_result"
    },
    {
     "data": {
      "text/plain": [
       "-3.0"
      ]
     },
     "execution_count": 148,
     "metadata": {},
     "output_type": "execute_result"
    },
    {
     "data": {
      "text/plain": [
       "(-1+0j)"
      ]
     },
     "execution_count": 148,
     "metadata": {},
     "output_type": "execute_result"
    },
    {
     "data": {
      "text/plain": [
       "(2+3j)"
      ]
     },
     "execution_count": 148,
     "metadata": {},
     "output_type": "execute_result"
    }
   ],
   "source": [
    "import math\n",
    "math.floor(-2.5)   # Closet number below value\n",
    "math.trunc(-2.5)  # Truncate fractional part (toward zero)\n",
    "\n",
    "5//-2   # Truncates to floor: rounds to first lower integer\n",
    "5//-2.0\n",
    "\n",
    "# Complex Numbers: adding j or J suffix to the imaginary part\n",
    "1j * 1J\n",
    "2 + 1j * 3"
   ]
  },
  {
   "cell_type": "code",
   "execution_count": 152,
   "metadata": {},
   "outputs": [
    {
     "data": {
      "text/plain": [
       "('0o100', '0x40', '0b1000000')"
      ]
     },
     "execution_count": 152,
     "metadata": {},
     "output_type": "execute_result"
    },
    {
     "data": {
      "text/plain": [
       "(64, 64, 64, 64)"
      ]
     },
     "execution_count": 152,
     "metadata": {},
     "output_type": "execute_result"
    },
    {
     "data": {
      "text/plain": [
       "(64, 64)"
      ]
     },
     "execution_count": 152,
     "metadata": {},
     "output_type": "execute_result"
    }
   ],
   "source": [
    "oct(64), hex(64), bin(64)   # Numbers=>digit strings\n",
    "\n",
    "int('64'), int('100', 8), int('40', 16), int('1000000', 2)   # Digits=>numbers in scripts and strings\n",
    "\n",
    "int('0x40', 16), int('0b1000000', 2)    # Literal forms supported too"
   ]
  },
  {
   "cell_type": "code",
   "execution_count": null,
   "metadata": {},
   "outputs": [],
   "source": [
    "eval('64'), eval('0o100'), eval('0x40'), eval('0b1000000')\n",
    "\n",
    "'{0:o}, {1:x}, {2:b}'.format(64, 64, 64) # Numbers=>digits, 2.6+\n",
    "\n",
    "'%o, %x, %x, %X' % (64, 64, 255, 255)"
   ]
  },
  {
   "cell_type": "code",
   "execution_count": 162,
   "metadata": {},
   "outputs": [
    {
     "data": {
      "text/plain": [
       "(4, '0b100')"
      ]
     },
     "execution_count": 162,
     "metadata": {},
     "output_type": "execute_result"
    },
    {
     "data": {
      "text/plain": [
       "(3, '0b11')"
      ]
     },
     "execution_count": 162,
     "metadata": {},
     "output_type": "execute_result"
    },
    {
     "data": {
      "text/plain": [
       "(1, '0b1')"
      ]
     },
     "execution_count": 162,
     "metadata": {},
     "output_type": "execute_result"
    }
   ],
   "source": [
    "# Bitwise Operations\n",
    "x=1; X=0b0001\n",
    "x << 2, bin(x<<2)\n",
    "x | 2, bin(X | 0b010)\n",
    "x & 1, bin(X & 0b1)"
   ]
  },
  {
   "cell_type": "code",
   "execution_count": 164,
   "metadata": {},
   "outputs": [
    {
     "data": {
      "text/plain": [
       "('0b1100011', 7, 7)"
      ]
     },
     "execution_count": 164,
     "metadata": {},
     "output_type": "execute_result"
    },
    {
     "data": {
      "text/plain": [
       "('0b100000000', 9, 9)"
      ]
     },
     "execution_count": 164,
     "metadata": {},
     "output_type": "execute_result"
    }
   ],
   "source": [
    "X=99\n",
    "bin(X), X.bit_length(), len(bin(X))-2\n",
    "bin(256), (256).bit_length(), len(bin(256))-2"
   ]
  },
  {
   "cell_type": "code",
   "execution_count": 166,
   "metadata": {},
   "outputs": [
    {
     "data": {
      "text/plain": [
       "0.9256880532330939"
      ]
     },
     "execution_count": 166,
     "metadata": {},
     "output_type": "execute_result"
    },
    {
     "data": {
      "text/plain": [
       "1"
      ]
     },
     "execution_count": 166,
     "metadata": {},
     "output_type": "execute_result"
    },
    {
     "data": {
      "text/plain": [
       "'Life of Brain'"
      ]
     },
     "execution_count": 166,
     "metadata": {},
     "output_type": "execute_result"
    },
    {
     "data": {
      "text/plain": [
       "['spades', 'heart', 'diamonds', 'clubs']"
      ]
     },
     "execution_count": 166,
     "metadata": {},
     "output_type": "execute_result"
    }
   ],
   "source": [
    "import random\n",
    "random.random()\n",
    "random.randint(1, 10)\n",
    "\n",
    "random.choice(['Life of Brain', 'Holy Grail', 'Meaning of Life'])\n",
    "\n",
    "suits=['heart', 'clubs', 'diamonds', 'spades']\n",
    "random.shuffle(suits)\n",
    "suits"
   ]
  },
  {
   "cell_type": "code",
   "execution_count": 168,
   "metadata": {},
   "outputs": [
    {
     "data": {
      "text/plain": [
       "(5, 2)"
      ]
     },
     "execution_count": 168,
     "metadata": {},
     "output_type": "execute_result"
    },
    {
     "data": {
      "text/plain": [
       "Fraction(5, 2)"
      ]
     },
     "execution_count": 168,
     "metadata": {},
     "output_type": "execute_result"
    },
    {
     "data": {
      "text/plain": [
       "Fraction(7, 4)"
      ]
     },
     "execution_count": 168,
     "metadata": {},
     "output_type": "execute_result"
    },
    {
     "data": {
      "text/plain": [
       "Decimal('0.33')"
      ]
     },
     "execution_count": 168,
     "metadata": {},
     "output_type": "execute_result"
    }
   ],
   "source": [
    "(2.5).as_integer_ratio()\n",
    "\n",
    "# The * in the second test is special syntax that extends a tuple into individual arguments\n",
    "f=2.5\n",
    "z=Fraction(*f.as_integer_ratio())\n",
    "z\n",
    "\n",
    "Fraction.from_float(1.75)\n",
    "\n",
    "with decimal.localcontext() as ctx:\n",
    "    ctx.prec=2\n",
    "    decimal.Decimal('1.00')/decimal.Decimal('3.00')"
   ]
  },
  {
   "cell_type": "code",
   "execution_count": 176,
   "metadata": {},
   "outputs": [
    {
     "data": {
      "text/plain": [
       "{'b', 'd'}"
      ]
     },
     "execution_count": 176,
     "metadata": {},
     "output_type": "execute_result"
    },
    {
     "data": {
      "text/plain": [
       "{'SPAM', 'b', 'd'}"
      ]
     },
     "execution_count": 176,
     "metadata": {},
     "output_type": "execute_result"
    },
    {
     "data": {
      "text/plain": [
       "{'SPAM', 'X', 'Y', 'b', 'd'}"
      ]
     },
     "execution_count": 176,
     "metadata": {},
     "output_type": "execute_result"
    },
    {
     "data": {
      "text/plain": [
       "{'SPAM', 'X', 'Y', 'd'}"
      ]
     },
     "execution_count": 176,
     "metadata": {},
     "output_type": "execute_result"
    },
    {
     "data": {
      "text/plain": [
       "{1, 2, 3, 4}"
      ]
     },
     "execution_count": 176,
     "metadata": {},
     "output_type": "execute_result"
    },
    {
     "data": {
      "text/plain": [
       "{1, 2, 3, 4}"
      ]
     },
     "execution_count": 176,
     "metadata": {},
     "output_type": "execute_result"
    },
    {
     "data": {
      "text/plain": [
       "True"
      ]
     },
     "execution_count": 176,
     "metadata": {},
     "output_type": "execute_result"
    }
   ],
   "source": [
    "x=set('abcde')\n",
    "y=set('bdxyz')\n",
    "z=x.intersection(y)\n",
    "z\n",
    "z.add('SPAM')\n",
    "z\n",
    "z.update(set(['X', 'Y']))   # Merge: in-place union\n",
    "z\n",
    "z.remove('b')\n",
    "z\n",
    "\n",
    "s=set([1, 2, 3])\n",
    "s | set([3, 4])\n",
    "# Expressions require both to be sets, but their methods allow any iterable\n",
    "s.union([3, 4])\n",
    "s.issubset(range(-5, 5))"
   ]
  },
  {
   "cell_type": "code",
   "execution_count": 179,
   "metadata": {},
   "outputs": [
    {
     "data": {
      "text/plain": [
       "True"
      ]
     },
     "execution_count": 179,
     "metadata": {},
     "output_type": "execute_result"
    },
    {
     "data": {
      "text/plain": [
       "False"
      ]
     },
     "execution_count": 179,
     "metadata": {},
     "output_type": "execute_result"
    },
    {
     "data": {
      "text/plain": [
       "5"
      ]
     },
     "execution_count": 179,
     "metadata": {},
     "output_type": "execute_result"
    }
   ],
   "source": [
    "L=[1, 2, 1, 3, 2, 4, 5]\n",
    "L=list(set(L))     # Remove duplicates, but order may change\n",
    "\n",
    "True == 1\n",
    "True is 1\n",
    "True + 4"
   ]
  },
  {
   "cell_type": "markdown",
   "metadata": {},
   "source": [
    "## The Dynamic Typing Interlude"
   ]
  },
  {
   "cell_type": "markdown",
   "metadata": {},
   "source": [
    "*Variable use*\n",
    "\n",
    "When a variable appears in an expression, it is immediately replaced with the object that it currently refers to, whatever that may be. Further, all variables must be explicitly assigned before they can be used; referencing unassigned variables results in errors.\n",
    "\n",
    "Variables always link to objects and never to other variables, but larger objects may link to other objects (for instance, a list object has links to the objects it contains).\n",
    "\n",
    "......."
   ]
  },
  {
   "cell_type": "code",
   "execution_count": 202,
   "metadata": {},
   "outputs": [],
   "source": [
    "L1=[2, 3, 4]\n",
    "L2=L1[:]    # Make a copy of L1 ( or list(L1), copy.copy(L1), etc.)\n",
    "# To copy a dictionary or set, instead use their X.copy() method call\n",
    "\n",
    "# a dictionary with nested lists\n",
    "import copy\n",
    "X=copy.copy(Y)         # Make top-level 'shallow' copy of any object Y\n",
    "X=copy.deepcopy(Y)  # Make deep copy of any object Y: copy all nested parts"
   ]
  },
  {
   "cell_type": "code",
   "execution_count": 205,
   "metadata": {},
   "outputs": [
    {
     "data": {
      "text/plain": [
       "4623"
      ]
     },
     "execution_count": 205,
     "metadata": {},
     "output_type": "execute_result"
    }
   ],
   "source": [
    "# the getrefcount function in the standard sys module returns the object's reference count\n",
    "import sys\n",
    "sys.getrefcount(1)"
   ]
  },
  {
   "cell_type": "markdown",
   "metadata": {},
   "source": [
    "## String Fundamentals"
   ]
  },
  {
   "cell_type": "code",
   "execution_count": null,
   "metadata": {},
   "outputs": [],
   "source": [
    "\"a %s parrot\" % kind\n",
    "\"a {0} parrot\".format(kind)\n",
    "'k' in 'hacker'\n",
    "\n",
    "S.find('pa')\n",
    "S.rstrip()\n",
    "S.isdigit()   # content test\n",
    "S.endwith('spam')   # end test\n",
    "'spam'.join(strlist)   # delimiter join\n",
    "S.encode('latin-1')  # Unicode encoding\n",
    "B.decode('utf8')     # Unicode decoding\n",
    "map(ord, S)\n",
    "re.match('sp(.*)am', line)"
   ]
  },
  {
   "cell_type": "code",
   "execution_count": null,
   "metadata": {},
   "outputs": [],
   "source": [
    "title=\"Meaning\" 'of' \"Life\"   # Implicit concatenation\n",
    "title\n",
    "\n",
    "len(s)      # return the actual number of characters in a string"
   ]
  },
  {
   "cell_type": "code",
   "execution_count": 15,
   "metadata": {},
   "outputs": [
    {
     "data": {
      "text/plain": [
       "'C:\\\\py\\\\code'"
      ]
     },
     "execution_count": 15,
     "metadata": {},
     "output_type": "execute_result"
    },
    {
     "data": {
      "text/plain": [
       "10"
      ]
     },
     "execution_count": 15,
     "metadata": {},
     "output_type": "execute_result"
    }
   ],
   "source": [
    "x=\"C:\\py\\code\"   # Keeps\\literally (and displays it as \\\\)\n",
    "x\n",
    "len(x)"
   ]
  },
  {
   "cell_type": "code",
   "execution_count": null,
   "metadata": {
    "scrolled": true
   },
   "outputs": [],
   "source": [
    "S[:]   # Making a top-level copy of S\n",
    "S[i:j:k]  # a step (or stride) k, which defaults to +1\n",
    "S[i:j:-1]\n",
    "\n",
    "'spam'[1:3]\n",
    "'spam'[slice(1, 3)]\n",
    "'spam'[::-1]\n",
    "'spam'[slice(None, None, -1)]"
   ]
  },
  {
   "cell_type": "code",
   "execution_count": 30,
   "metadata": {},
   "outputs": [
    {
     "data": {
      "text/plain": [
       "65"
      ]
     },
     "execution_count": 30,
     "metadata": {},
     "output_type": "execute_result"
    },
    {
     "data": {
      "text/plain": [
       "'s'"
      ]
     },
     "execution_count": 30,
     "metadata": {},
     "output_type": "execute_result"
    },
    {
     "data": {
      "text/plain": [
       "13"
      ]
     },
     "execution_count": 30,
     "metadata": {},
     "output_type": "execute_result"
    },
    {
     "data": {
      "text/plain": [
       "11"
      ]
     },
     "execution_count": 30,
     "metadata": {},
     "output_type": "execute_result"
    },
    {
     "data": {
      "text/plain": [
       "'0b1101'"
      ]
     },
     "execution_count": 30,
     "metadata": {},
     "output_type": "execute_result"
    }
   ],
   "source": [
    "ord('A')\n",
    "chr(115)\n",
    "\n",
    "B='1101'   # Convert binary digits to integer with ord\n",
    "I=0\n",
    "while B != '':\n",
    "    I = I * 2 + (ord(B[0])-ord('0'))\n",
    "    B = B[1:]\n",
    "I\n",
    "\n",
    "int('1011', 2)\n",
    "bin(13)"
   ]
  },
  {
   "cell_type": "markdown",
   "metadata": {},
   "source": [
    "Like every operation that yields a new string value, string methods generate new string objects. If you want to retain those objects, you can assign them to variable names."
   ]
  },
  {
   "cell_type": "code",
   "execution_count": null,
   "metadata": {},
   "outputs": [],
   "source": [
    "'%s -- %s -- %s' % (42, 3.14159, [1, 2, 3])    # All types match a %s target"
   ]
  },
  {
   "cell_type": "markdown",
   "metadata": {},
   "source": [
    "The general structure of conversion targets looks like this:\n",
    "\n",
    "%[ (keyname) ][ flags ] [ width ] [ .precision ] typecode\n",
    "\n",
    "1. Provide a *key name* for indexing the dictionary used on the right side of the expression\n",
    "\n",
    "2. List *flags* that specify things like left justification (-), numeric sign (+), a blank before postive numbers and a - for negatives (a space), and zero fills (0)\n",
    "\n",
    "3. Give a total minmum field *width* for the substituted text\n",
    "\n",
    "4. Set the number of digits (*precision)* to display after a decimal point for floating-point numbers\n",
    "\n",
    "Both the *width* and *precision* parts can also be coded as a * to specify that they should take their values from the next item in the input values on the expression's right side (useful when this isn'n known until runtime)."
   ]
  },
  {
   "cell_type": "code",
   "execution_count": 56,
   "metadata": {},
   "outputs": [
    {
     "data": {
      "text/plain": [
       "'integers: ...1234...1234  ...001234'"
      ]
     },
     "execution_count": 56,
     "metadata": {},
     "output_type": "execute_result"
    },
    {
     "data": {
      "text/plain": [
       "'1.234568e+00 | 1.234568 | 1.23457'"
      ]
     },
     "execution_count": 56,
     "metadata": {},
     "output_type": "execute_result"
    },
    {
     "data": {
      "text/plain": [
       "'1.23   | 01.23 | +001.2'"
      ]
     },
     "execution_count": 56,
     "metadata": {},
     "output_type": "execute_result"
    },
    {
     "data": {
      "text/plain": [
       "'0.333333, 0.33, 0.3333'"
      ]
     },
     "execution_count": 56,
     "metadata": {},
     "output_type": "execute_result"
    }
   ],
   "source": [
    "x = 1234\n",
    "res = 'integers: ...%d...%-6d...%06d' % (x, x, x)\n",
    "res\n",
    "\n",
    "x = 1.23456789\n",
    "'%e | %f | %g' % (x, x, x)\n",
    "\n",
    "'%-6.2f | %05.2f | %+06.1f' % (x, x, x)\n",
    "\n",
    "# When sizes are not known until runtime, you can use a computed width and pecision by specifying\n",
    "# them with a * in the format string to force their values to be taken from the next item in the\n",
    "# inputs to the right of the % operator - the 4 in the tuple here gives precision\n",
    "'%f, %.2f, %.*f' % (1/3.0, 1/3.0, 4, 1/3.0)"
   ]
  },
  {
   "cell_type": "code",
   "execution_count": 67,
   "metadata": {},
   "outputs": [
    {
     "data": {
      "text/plain": [
       "'1 more spam'"
      ]
     },
     "execution_count": 67,
     "metadata": {},
     "output_type": "execute_result"
    },
    {
     "name": "stdout",
     "output_type": "stream",
     "text": [
      " \n",
      "Greetings...\n",
      "Hello Bob!\n",
      "Your age is 40 \n",
      "\n"
     ]
    },
    {
     "data": {
      "text/plain": [
       "'10 more spam'"
      ]
     },
     "execution_count": 67,
     "metadata": {},
     "output_type": "execute_result"
    }
   ],
   "source": [
    "# Dictionary-Based Formatting Expressions\n",
    "'%(qty)d more %(food)s' % {'qty': 1, 'food': 'spam'}\n",
    "\n",
    "reply = \"\"\" \n",
    "Greetings...\n",
    "Hello %(name)s!\n",
    "Your age is %(age)s \n",
    "\"\"\"\n",
    "values={'name':'Bob', 'age':40}\n",
    "print(reply % values)\n",
    "\n",
    "# This trick is also used in conjunction with the vars built-in function, which returns a dictionary\n",
    "# containing all the variables that exists in the place it is called\n",
    "food='spam'\n",
    "qty=10\n",
    "'%(qty)d more %(food)s' % vars()"
   ]
  },
  {
   "cell_type": "code",
   "execution_count": 70,
   "metadata": {},
   "outputs": [
    {
     "data": {
      "text/plain": [
       "'spam, ham and eggs'"
      ]
     },
     "execution_count": 70,
     "metadata": {},
     "output_type": "execute_result"
    },
    {
     "data": {
      "text/plain": [
       "'spam, ham and eggs'"
      ]
     },
     "execution_count": 70,
     "metadata": {},
     "output_type": "execute_result"
    },
    {
     "data": {
      "text/plain": [
       "'spam, ham and eggs'"
      ]
     },
     "execution_count": 70,
     "metadata": {},
     "output_type": "execute_result"
    },
    {
     "data": {
      "text/plain": [
       "'spam, ham and eggs'"
      ]
     },
     "execution_count": 70,
     "metadata": {},
     "output_type": "execute_result"
    }
   ],
   "source": [
    "# Formatting Method Basic\n",
    "template='{0}, {1} and {2}'      # By position\n",
    "template.format('spam', 'ham', 'eggs')\n",
    "\n",
    "template='{motto}, {pork} and {food}'     # By keyword\n",
    "template.format(motto='spam', pork='ham', food='eggs')\n",
    "\n",
    "template='{motto}, {0} and {food}'     # By both\n",
    "template.format('ham', motto='spam', food='eggs')\n",
    "\n",
    "template='{}, {} and {}'     # By relative position\n",
    "template.format('spam', 'ham', 'eggs')"
   ]
  },
  {
   "cell_type": "code",
   "execution_count": 85,
   "metadata": {},
   "outputs": [
    {
     "data": {
      "text/plain": [
       "'My laptop runs darwin'"
      ]
     },
     "execution_count": 85,
     "metadata": {},
     "output_type": "execute_result"
    },
    {
     "data": {
      "text/plain": [
       "'My laptop runs darwin'"
      ]
     },
     "execution_count": 85,
     "metadata": {},
     "output_type": "execute_result"
    },
    {
     "data": {
      "text/plain": [
       "'first=S, third=A'"
      ]
     },
     "execution_count": 85,
     "metadata": {},
     "output_type": "execute_result"
    },
    {
     "data": {
      "text/plain": [
       "\"first=S, last=M, middle=['P', 'A']\""
      ]
     },
     "execution_count": 85,
     "metadata": {},
     "output_type": "execute_result"
    }
   ],
   "source": [
    "# format strings can name object attributes and dictionary keys\n",
    "import sys\n",
    "'My {1[kind]} runs {0.platform}'.format(sys, {'kind':'laptop'})\n",
    "'My {map[kind]} runs {sys.platform}'.format(sys=sys, map={'kind':'laptop'})\n",
    "\n",
    "# Square brackets in format strings can name list offsets to perform indexing, but only single\n",
    "# positive offsets work syntactically within format strings\n",
    "somelist=list('SPAM')\n",
    "'first={0[0]}, third={0[2]}'.format(somelist)\n",
    "\n",
    "parts=somelist[0], somelist[-1], somelist[1:3]     # [-1] and [1:3] fails in fmt\n",
    "'first={0}, last={1}, middle={2}'.format(*parts)     # the use of *parts here to unpack a tuple's items into individual function arguments"
   ]
  },
  {
   "cell_type": "markdown",
   "metadata": {},
   "source": [
    "Here's the formal structure of what can appear as a substitution target in a format string - its four parts are all optional, and must appear without intervening spaces:\n",
    "\n",
    "{ *fieldname component !conversionflag :formatspec* }\n",
    "\n",
    "1. *fieldname* is an optional number or keyword identifying an argument, which may be omitted to use relative argument numbering in 2.7, 3.1, and later.\n",
    "\n",
    "2. *component* is a string of zero or more \".name\" or \"[index]\" references used to fetch attributes and indexed values of the argument, which may be omitted to use the whole argument value.\n",
    "\n",
    "3. *conversionflag* starts with a ! if present, which is followed by r, s, or a to call repr, str, or ascii built-in functions on the value, respectively.\n",
    "\n",
    "4. *formatspec* starts with a : if present, which is followed by text that specifies how the value should be presented, including details such as field width, alignment, padding, decimal precision, and so on, and ends with an optional data type code.\n",
    "\n",
    "The *formatspec* component after the colon character has a rich format all its own, and is formally described as follows (brackets denote optional components and are not coded literally):\n",
    "\n",
    "[ [ fill ] align ] [ sign ] [ # ] [ 0 ] [ width ] [ , ] [ .precision ] [ typecode ]\n",
    "\n",
    "In this, *fill* can be any fill character other than { or }; *align* may be <, >, =, or ^, for left alignment, right alignment, padding after a sign character, or centered alignment, respectively; *sign* may be +, -, or space; and the , (comma) option requests a comma for a thousand seperator as of Python 2.7 and 3.1. *width* and *precision* are much as in the % expression, and the *formatspec* may also contain nested { } format strings with field names only, to take values from the arguments list dynamically (much like the * in formatting expressions)."
   ]
  },
  {
   "cell_type": "code",
   "execution_count": 87,
   "metadata": {},
   "outputs": [
    {
     "data": {
      "text/plain": [
       "'spam       =   123.4567'"
      ]
     },
     "execution_count": 87,
     "metadata": {},
     "output_type": "execute_result"
    },
    {
     "data": {
      "text/plain": [
       "'      spam = 123.4567  '"
      ]
     },
     "execution_count": 87,
     "metadata": {},
     "output_type": "execute_result"
    },
    {
     "data": {
      "text/plain": [
       "'    darwin = laptop    '"
      ]
     },
     "execution_count": 87,
     "metadata": {},
     "output_type": "execute_result"
    }
   ],
   "source": [
    "'{0:10} = {1:10}'.format('spam', 123.4567)\n",
    "\n",
    "'{0:>10} = {1:<10}'.format('spam', 123.4567)\n",
    "\n",
    "'{0.platform:>10} = {1[kind]:<10}'.format(sys, dict(kind='laptop'))"
   ]
  },
  {
   "cell_type": "code",
   "execution_count": 91,
   "metadata": {},
   "outputs": [
    {
     "data": {
      "text/plain": [
       "'FF, 377, 11111111'"
      ]
     },
     "execution_count": 91,
     "metadata": {},
     "output_type": "execute_result"
    },
    {
     "data": {
      "text/plain": [
       "'0.3333'"
      ]
     },
     "execution_count": 91,
     "metadata": {},
     "output_type": "execute_result"
    },
    {
     "data": {
      "text/plain": [
       "'0.3333'"
      ]
     },
     "execution_count": 91,
     "metadata": {},
     "output_type": "execute_result"
    },
    {
     "data": {
      "text/plain": [
       "'My laptop   runs   darwin'"
      ]
     },
     "execution_count": 91,
     "metadata": {},
     "output_type": "execute_result"
    }
   ],
   "source": [
    "'{:X}, {:o}, {:b}'.format(255, 255, 255)\n",
    "\n",
    "# Formatting parameters can either be hardcoded in format strings or taken from the arguments\n",
    "# list dynamically by nested format syntax, much like the * syntax in formatting expressions' \n",
    "# width and precision\n",
    "'{0:.{1}f}'.format(1/3.0, 4)    # Take value from arguments\n",
    "'%.*f' % (4, 1/3.0)            # Ditto for expression\n",
    "\n",
    "data=dict(platform=sys.platform, kind='laptop')\n",
    "# **data is a special syntax that unpacks a dictionary of keys and values into individual\n",
    "# \"name=value\" keyword argument\n",
    "'My {kind:<8} runs {platform:>8}'.format(**data)"
   ]
  },
  {
   "cell_type": "code",
   "execution_count": 4,
   "metadata": {
    "scrolled": false
   },
   "outputs": [
    {
     "data": {
      "text/plain": [
       "'99,999,999'"
      ]
     },
     "execution_count": 4,
     "metadata": {},
     "output_type": "execute_result"
    },
    {
     "data": {
      "text/plain": [
       "'1111111111111111'"
      ]
     },
     "execution_count": 4,
     "metadata": {},
     "output_type": "execute_result"
    }
   ],
   "source": [
    "'{0:,d}'.format(99999999)   # add a comma before the type code\n",
    "\n",
    "'{0:b}'.format((2**16)-1)"
   ]
  },
  {
   "cell_type": "markdown",
   "metadata": {},
   "source": [
    "## Lists and Dictionaries"
   ]
  },
  {
   "cell_type": "code",
   "execution_count": null,
   "metadata": {},
   "outputs": [],
   "source": [
    "L.insert(i, X)\n",
    "L.index(X)   # Methods: searching\n",
    "L.reverse()  # copying (3.3+), clearing (3.3+)\n",
    "L.clear()\n",
    "L.remove(X)\n",
    "del L[i]\n",
    "del L[i:j]\n",
    "list(map(ord, 'spam'))"
   ]
  },
  {
   "cell_type": "code",
   "execution_count": 26,
   "metadata": {},
   "outputs": [
    {
     "data": {
      "text/plain": [
       "[1, 4, 5, 3]"
      ]
     },
     "execution_count": 26,
     "metadata": {},
     "output_type": "execute_result"
    },
    {
     "data": {
      "text/plain": [
       "[1, [4, 5], 5, 3]"
      ]
     },
     "execution_count": 26,
     "metadata": {},
     "output_type": "execute_result"
    },
    {
     "data": {
      "text/plain": [
       "[1, 6, 7, [4, 5], 5, 3]"
      ]
     },
     "execution_count": 26,
     "metadata": {},
     "output_type": "execute_result"
    },
    {
     "data": {
      "text/plain": [
       "[1, 7, [4, 5], 5, 3]"
      ]
     },
     "execution_count": 26,
     "metadata": {},
     "output_type": "execute_result"
    },
    {
     "data": {
      "text/plain": [
       "[[], 7, [4, 5], 5, 3]"
      ]
     },
     "execution_count": 26,
     "metadata": {},
     "output_type": "execute_result"
    }
   ],
   "source": [
    "L=[1, 2, 3]\n",
    "L[1:2]=[4, 5]    # Replacement/insertion\n",
    "L\n",
    "L[1]=[4, 5]      # Pay attention to the difference!!\n",
    "L\n",
    "L[1:1]=[6, 7]    # Insertion (replace nothing)\n",
    "L\n",
    "L[1:2]=[]         # Deletion (insert nothing)\n",
    "L\n",
    "L[0]=[]           # Pay attention to the difference!!\n",
    "L"
   ]
  },
  {
   "cell_type": "code",
   "execution_count": 11,
   "metadata": {},
   "outputs": [
    {
     "data": {
      "text/plain": [
       "['aBe', 'ABD', 'abc']"
      ]
     },
     "execution_count": 11,
     "metadata": {},
     "output_type": "execute_result"
    },
    {
     "data": {
      "text/plain": [
       "['aBe', 'ABD', 'abc']"
      ]
     },
     "execution_count": 11,
     "metadata": {},
     "output_type": "execute_result"
    },
    {
     "data": {
      "text/plain": [
       "5"
      ]
     },
     "execution_count": 11,
     "metadata": {},
     "output_type": "execute_result"
    },
    {
     "data": {
      "text/plain": [
       "[1, 2, 3, 4]"
      ]
     },
     "execution_count": 11,
     "metadata": {},
     "output_type": "execute_result"
    }
   ],
   "source": [
    "L=['abc', 'ABD', 'aBe']\n",
    "L.sort(key=str.lower, reverse=True)\n",
    "L\n",
    "\n",
    "L=['abc', 'ABD', 'aBe']\n",
    "sorted(L, key=str.lower, reverse=True)\n",
    "\n",
    "L=[1, 2, 3]\n",
    "L.extend([4, 5])\n",
    "L.pop()   # delete and return last item (by default -1)\n",
    "L.reverse()\n",
    "list(reversed(L))   # Reversal built-in with a result (iterator)"
   ]
  },
  {
   "cell_type": "code",
   "execution_count": 14,
   "metadata": {},
   "outputs": [],
   "source": [
    "D=dict([('name', 'Bob'), ('age', '40')])   # Keywords, key/value pairs, zipped key/value pairs, key lists\n",
    "D=dict(zip(keyslist, valueslist))\n",
    "D=dict.fromkeys(['name', 'age'], 0)\n",
    "\n",
    "D.clear()         # remove all items\n",
    "D.popitem()    # remove/return any (key, value) pair; etc\n",
    "D.update(D2)  # merge by keys, blindly overwriting values of the same key if there's a clash\n",
    "D.get(key, default)\n",
    "D.pop(key, default)\n",
    "D.setdefault(key, default)   # fetch by key, if absent set default (or None)\n",
    "del D[key]\n",
    "D1.keys() & D2.keys()"
   ]
  },
  {
   "cell_type": "code",
   "execution_count": 31,
   "metadata": {},
   "outputs": [
    {
     "data": {
      "text/plain": [
       "['a', 'c']"
      ]
     },
     "execution_count": 31,
     "metadata": {},
     "output_type": "execute_result"
    },
    {
     "data": {
      "text/plain": [
       "[1, 3]"
      ]
     },
     "execution_count": 31,
     "metadata": {},
     "output_type": "execute_result"
    }
   ],
   "source": [
    "# dynamically reflect future changes\n",
    "D={'a':1, 'b':2, 'c':3}\n",
    "K=D.keys()\n",
    "V=D.values()\n",
    "del D['b']\n",
    "list(K)\n",
    "list(V)"
   ]
  },
  {
   "cell_type": "markdown",
   "metadata": {},
   "source": [
    "Unlike 2.X;s list results, 3.X's view objects returned by the keys method are *set-like* and support common set operations such as intersection and union; *values* view are not set-like, but *items* results are if their *(key, value)* pairs are unique and hashable (immutable)."
   ]
  },
  {
   "cell_type": "code",
   "execution_count": 32,
   "metadata": {},
   "outputs": [
    {
     "data": {
      "text/plain": [
       "{'a', 'c', 'x'}"
      ]
     },
     "execution_count": 32,
     "metadata": {},
     "output_type": "execute_result"
    },
    {
     "data": {
      "text/plain": [
       "{'a', 'b', 'c', 'd'}"
      ]
     },
     "execution_count": 32,
     "metadata": {},
     "output_type": "execute_result"
    },
    {
     "data": {
      "text/plain": [
       "{('a', 1), 'a'}"
      ]
     },
     "execution_count": 32,
     "metadata": {},
     "output_type": "execute_result"
    }
   ],
   "source": [
    "K | {'x':4}\n",
    "K | {'b', 'c', 'd'}\n",
    "\n",
    "D={'a':1}\n",
    "D.items() | D"
   ]
  },
  {
   "cell_type": "markdown",
   "metadata": {},
   "source": [
    "## Tuples, Files, and Everything Else"
   ]
  },
  {
   "cell_type": "code",
   "execution_count": null,
   "metadata": {},
   "outputs": [],
   "source": [
    "T.index('Ni')\n",
    "T.count('Ni')\n",
    "from collections import namedtuple\n",
    "namedtuple('Emp', ['name', 'jobs'])   # Named tuple extension type"
   ]
  },
  {
   "cell_type": "code",
   "execution_count": 38,
   "metadata": {},
   "outputs": [
    {
     "data": {
      "text/plain": [
       "Rec(name='Bob', age=40.5, jobs=['dev', 'mgr'])"
      ]
     },
     "execution_count": 38,
     "metadata": {},
     "output_type": "execute_result"
    },
    {
     "data": {
      "text/plain": [
       "'Bob'"
      ]
     },
     "execution_count": 38,
     "metadata": {},
     "output_type": "execute_result"
    },
    {
     "data": {
      "text/plain": [
       "['dev', 'mgr']"
      ]
     },
     "execution_count": 38,
     "metadata": {},
     "output_type": "execute_result"
    },
    {
     "data": {
      "text/plain": [
       "('Bob', ['dev', 'mgr'])"
      ]
     },
     "execution_count": 38,
     "metadata": {},
     "output_type": "execute_result"
    },
    {
     "data": {
      "text/plain": [
       "OrderedDict([('name', 'Bob'), ('age', 40.5), ('jobs', ['dev', 'mgr'])])"
      ]
     },
     "execution_count": 38,
     "metadata": {},
     "output_type": "execute_result"
    }
   ],
   "source": [
    "# we can implement objects that offer both positional and named access to record fields\n",
    "from collections import namedtuple\n",
    "Rec=namedtuple('Rec', ['name', 'age', 'jobs'])\n",
    "bob=Rec('Bob', age=40.5, jobs=['dev', 'mgr'])\n",
    "bob\n",
    "bob[0]\n",
    "bob.jobs\n",
    "\n",
    "O=bob._asdict()\n",
    "O['name'], O['jobs']\n",
    "O"
   ]
  },
  {
   "cell_type": "code",
   "execution_count": 40,
   "metadata": {},
   "outputs": [
    {
     "data": {
      "image/jpeg": "[encoded data removed]",
      "text/plain": [
       "<IPython.core.display.Image object>"
      ]
     },
     "execution_count": 40,
     "metadata": {},
     "output_type": "execute_result"
    }
   ],
   "source": [
    "from IPython.display import Image\n",
    "Image(filename='files.jpg')"
   ]
  },
  {
   "cell_type": "markdown",
   "metadata": {},
   "source": [
    "*afile=open(filename, mode)*\n",
    "\n",
    "*afile.method()*\n",
    "\n",
    "The second argument to *open*, processing *mode*, is typically the string 'r' to open for text input (the default), 'w' to create and open for text output, or 'a' to open for appending text to the end.\n",
    "\n",
    "1. Adding a *b* to the mode string allows for *binary* data (end-of-line translatiions and 3.X Unicode encoding are turned off).\n",
    "\n",
    "2. Adding a + opens the file for *both* input and output (i.e., you can both read and write to the same file object, often in conjunction with seek operations to reposition in the file)."
   ]
  },
  {
   "cell_type": "markdown",
   "metadata": {},
   "source": [
    "Files are buffered and seekable\n",
    "\n",
    "By default, output files are always buffered, which means that text you write may not be transferred from memory to disk immediately - closing a file, or running its *flush* method, forces the buffered data to disk. You can avoid buffering with extra *open* arguments, but it may impede performance. Python files are also *random-access* on a byte offset basis - their *seek* method allows your scripts to jump around to read and write at specific locations."
   ]
  },
  {
   "cell_type": "code",
   "execution_count": 43,
   "metadata": {},
   "outputs": [
    {
     "data": {
      "text/plain": [
       "16"
      ]
     },
     "execution_count": 43,
     "metadata": {},
     "output_type": "execute_result"
    },
    {
     "data": {
      "text/plain": [
       "18"
      ]
     },
     "execution_count": 43,
     "metadata": {},
     "output_type": "execute_result"
    }
   ],
   "source": [
    "myfile=open('myfile.txt', 'w')\n",
    "myfile.write('hello text file\\n')\n",
    "myfile.write('goodbye text file\\n')\n",
    "myfile.close()"
   ]
  },
  {
   "cell_type": "code",
   "execution_count": 46,
   "metadata": {},
   "outputs": [
    {
     "data": {
      "text/plain": [
       "'hello text file\\n'"
      ]
     },
     "execution_count": 46,
     "metadata": {},
     "output_type": "execute_result"
    },
    {
     "data": {
      "text/plain": [
       "'goodbye text file\\n'"
      ]
     },
     "execution_count": 46,
     "metadata": {},
     "output_type": "execute_result"
    },
    {
     "data": {
      "text/plain": [
       "''"
      ]
     },
     "execution_count": 46,
     "metadata": {},
     "output_type": "execute_result"
    }
   ],
   "source": [
    "myfile=open('myfile.txt', 'r')\n",
    "myfile.readline()\n",
    "myfile.readline()\n",
    "myfile.readline()"
   ]
  },
  {
   "cell_type": "code",
   "execution_count": 48,
   "metadata": {},
   "outputs": [
    {
     "data": {
      "text/plain": [
       "'hello text file\\ngoodbye text file\\n'"
      ]
     },
     "execution_count": 48,
     "metadata": {},
     "output_type": "execute_result"
    },
    {
     "name": "stdout",
     "output_type": "stream",
     "text": [
      "hello text file\n",
      "goodbye text file\n"
     ]
    }
   ],
   "source": [
    "open('myfile.txt').read()\n",
    "\n",
    "for line in open('myfile.txt'):\n",
    "    print(line, end='')"
   ]
  },
  {
   "cell_type": "code",
   "execution_count": 49,
   "metadata": {},
   "outputs": [
    {
     "data": {
      "text/plain": [
       "5"
      ]
     },
     "execution_count": 49,
     "metadata": {},
     "output_type": "execute_result"
    },
    {
     "data": {
      "text/plain": [
       "11"
      ]
     },
     "execution_count": 49,
     "metadata": {},
     "output_type": "execute_result"
    },
    {
     "data": {
      "text/plain": [
       "27"
      ]
     },
     "execution_count": 49,
     "metadata": {},
     "output_type": "execute_result"
    }
   ],
   "source": [
    "# Storing Python Objects in Files: Conversion\n",
    "X, Y, Z=43, 44, 45\n",
    "S='Spam'\n",
    "D={'a':1, 'b':2}\n",
    "L=[1, 2, 3]\n",
    "\n",
    "F=open('datafile.txt', 'w')\n",
    "F.write(S + '\\n')\n",
    "F.write('%s, %s, %s\\n' % (X, Y, Z))\n",
    "F.write(str(L) + '$' + str(D) + '\\n')\n",
    "F.close()"
   ]
  },
  {
   "cell_type": "code",
   "execution_count": 50,
   "metadata": {},
   "outputs": [
    {
     "data": {
      "text/plain": [
       "\"Spam\\n43, 44, 45\\n[1, 2, 3]${'a': 1, 'b': 2}\\n\""
      ]
     },
     "execution_count": 50,
     "metadata": {},
     "output_type": "execute_result"
    },
    {
     "name": "stdout",
     "output_type": "stream",
     "text": [
      "Spam\n",
      "43, 44, 45\n",
      "[1, 2, 3]${'a': 1, 'b': 2}\n",
      "\n"
     ]
    }
   ],
   "source": [
    "chars=open('datafile.txt').read()\n",
    "chars\n",
    "print(chars)"
   ]
  },
  {
   "cell_type": "markdown",
   "metadata": {},
   "source": [
    "To convert the stored list and dictionary in the third of the file, we can run through **eval**, a bulit-in function that treats a string as a piece of executable program code (technically, a string containing a Python expression)"
   ]
  },
  {
   "cell_type": "code",
   "execution_count": 55,
   "metadata": {},
   "outputs": [
    {
     "data": {
      "text/plain": [
       "{'a': 1, 'b': 2}"
      ]
     },
     "execution_count": 55,
     "metadata": {},
     "output_type": "execute_result"
    }
   ],
   "source": [
    "# Storing Native Python Objects: pickle\n",
    "D={'a':1, 'b':2}\n",
    "F=open('datafile.pkl', 'wb')\n",
    "import pickle\n",
    "pickle.dump(D, F)\n",
    "F.close()\n",
    "\n",
    "F=open('datafile.pkl', 'rb')\n",
    "E=pickle.load(F)\n",
    "E"
   ]
  },
  {
   "cell_type": "code",
   "execution_count": 56,
   "metadata": {},
   "outputs": [
    {
     "data": {
      "text/plain": [
       "True"
      ]
     },
     "execution_count": 56,
     "metadata": {},
     "output_type": "execute_result"
    },
    {
     "name": "stdout",
     "output_type": "stream",
     "text": [
      "{\n",
      "    \"name\": {\n",
      "        \"first\": \"Bob\",\n",
      "        \"last\": \"Smith\"\n",
      "    },\n",
      "    \"job\": [\n",
      "        \"dev\",\n",
      "        \"mgr\"\n",
      "    ],\n",
      "    \"age\": 40.5\n",
      "}\n"
     ]
    },
    {
     "data": {
      "text/plain": [
       "{'name': {'first': 'Bob', 'last': 'Smith'}, 'job': ['dev', 'mgr'], 'age': 40.5}"
      ]
     },
     "execution_count": 56,
     "metadata": {},
     "output_type": "execute_result"
    }
   ],
   "source": [
    "# Storing Python Objects in JSON Format\n",
    "name=dict(first='Bob', last='Smith')\n",
    "rec=dict(name=name, job=['dev', 'mgr'], age=40.5)\n",
    "import json\n",
    "S=json.dumps(rec)\n",
    "O=json.loads(S)\n",
    "O==rec\n",
    "\n",
    "json.dump(rec, fp=open('testjson.txt', 'w'), indent=4)\n",
    "print(open('testjson.txt').read())\n",
    "\n",
    "P=json.load(open('testjson.txt'))\n",
    "P"
   ]
  },
  {
   "cell_type": "code",
   "execution_count": null,
   "metadata": {},
   "outputs": [],
   "source": [
    "# File Context Managers\n",
    "with open('data.txt') as myfile:\n",
    "    for line in myfile:\n",
    "        ... use line here ....\n",
    "        \n",
    "myfile=open('data.txt')\n",
    "try:\n",
    "    for line in myfile:\n",
    "        ... use line here ...\n",
    "finally:\n",
    "    myfile.close()"
   ]
  },
  {
   "cell_type": "markdown",
   "metadata": {},
   "source": [
    "If you really do want copies, however, you can request them:\n",
    "\n",
    "1. Slice expressions with empty limits (L[:]) copy sequences.\n",
    "\n",
    "2. The dictionary, set, and list *copy* method (*X.copy()*) copies a dictionary, set, or list (the list's *copy* is new as of 3.3)\n",
    "\n",
    "3. Some built-in functions, such as *list* and *dict* make copies (*list(L), dict(D), set(S)*).\n",
    "\n",
    "4. The *copy* standard library module makes full copies when needed.\n",
    "\n",
    "One final note on copies: empty-limit slices and the dictionary *copy* method only make *top-level* copies; that is, they do not copy nested data structures, if any are present. If you need a complete, fully independent copy of a deeply nested data structure (like the various record structures we've coded in recent chapters), use the standard *copy* module:"
   ]
  },
  {
   "cell_type": "code",
   "execution_count": null,
   "metadata": {},
   "outputs": [],
   "source": [
    "import copy\n",
    "X = copy.deepcopy(Y)     # Fully copy an arbitrarily nested object Y"
   ]
  },
  {
   "cell_type": "code",
   "execution_count": 57,
   "metadata": {},
   "outputs": [
    {
     "data": {
      "text/plain": [
       "[4, 5, 6, 4, 5, 6, 4, 5, 6, 4, 5, 6]"
      ]
     },
     "execution_count": 57,
     "metadata": {},
     "output_type": "execute_result"
    },
    {
     "data": {
      "text/plain": [
       "[[4, 0, 6], [4, 0, 6], [4, 0, 6], [4, 0, 6]]"
      ]
     },
     "execution_count": 57,
     "metadata": {},
     "output_type": "execute_result"
    }
   ],
   "source": [
    "# Repetition Adds One Level Deep\n",
    "L=[4, 5, 6]\n",
    "X=L*4\n",
    "Y=[L]*4\n",
    "\n",
    "L[1]=0    # Impacts Y but not X\n",
    "X\n",
    "Y"
   ]
  },
  {
   "cell_type": "code",
   "execution_count": 59,
   "metadata": {},
   "outputs": [
    {
     "data": {
      "text/plain": [
       "[[4, 5, 6], [4, 5, 6], [4, 5, 6], [4, 5, 6]]"
      ]
     },
     "execution_count": 59,
     "metadata": {},
     "output_type": "execute_result"
    },
    {
     "data": {
      "text/plain": [
       "[[4, 99, 6], [4, 99, 6], [4, 99, 6], [4, 99, 6]]"
      ]
     },
     "execution_count": 59,
     "metadata": {},
     "output_type": "execute_result"
    },
    {
     "data": {
      "text/plain": [
       "[[4, 99, 6], [4, 5, 6], [4, 5, 6], [4, 5, 6]]"
      ]
     },
     "execution_count": 59,
     "metadata": {},
     "output_type": "execute_result"
    }
   ],
   "source": [
    "L=[4, 5, 6]\n",
    "Y=[list(L)]*4   # Embed a (shared) copy of L\n",
    "L[1]=0\n",
    "Y\n",
    "\n",
    "Y[0][1]=99     # All four copies are still the same\n",
    "Y\n",
    "\n",
    "L=[4, 5, 6]\n",
    "Y=[list(L) for i in range(4)]\n",
    "Y[0][1]=99\n",
    "Y"
   ]
  },
  {
   "cell_type": "code",
   "execution_count": 60,
   "metadata": {},
   "outputs": [
    {
     "data": {
      "text/plain": [
       "['grail', [...]]"
      ]
     },
     "execution_count": 60,
     "metadata": {},
     "output_type": "execute_result"
    }
   ],
   "source": [
    "# If a collection object contains a reference to itself, it's called a cyclic object.\n",
    "L=['grail']\n",
    "L.append(L)\n",
    "L"
   ]
  },
  {
   "cell_type": "code",
   "execution_count": null,
   "metadata": {},
   "outputs": [],
   "source": []
  },
  {
   "cell_type": "code",
   "execution_count": null,
   "metadata": {},
   "outputs": [],
   "source": []
  },
  {
   "cell_type": "code",
   "execution_count": null,
   "metadata": {},
   "outputs": [],
   "source": []
  },
  {
   "cell_type": "code",
   "execution_count": null,
   "metadata": {},
   "outputs": [],
   "source": []
  },
  {
   "cell_type": "code",
   "execution_count": null,
   "metadata": {},
   "outputs": [],
   "source": []
  },
  {
   "cell_type": "code",
   "execution_count": null,
   "metadata": {},
   "outputs": [],
   "source": []
  },
  {
   "cell_type": "code",
   "execution_count": null,
   "metadata": {},
   "outputs": [],
   "source": []
  },
  {
   "cell_type": "code",
   "execution_count": null,
   "metadata": {},
   "outputs": [],
   "source": []
  },
  {
   "cell_type": "code",
   "execution_count": null,
   "metadata": {},
   "outputs": [],
   "source": []
  },
  {
   "cell_type": "code",
   "execution_count": null,
   "metadata": {},
   "outputs": [],
   "source": []
  },
  {
   "cell_type": "code",
   "execution_count": null,
   "metadata": {},
   "outputs": [],
   "source": []
  },
  {
   "cell_type": "code",
   "execution_count": null,
   "metadata": {},
   "outputs": [],
   "source": []
  },
  {
   "cell_type": "code",
   "execution_count": null,
   "metadata": {},
   "outputs": [],
   "source": []
  },
  {
   "cell_type": "code",
   "execution_count": null,
   "metadata": {},
   "outputs": [],
   "source": []
  },
  {
   "cell_type": "code",
   "execution_count": null,
   "metadata": {},
   "outputs": [],
   "source": []
  },
  {
   "cell_type": "code",
   "execution_count": null,
   "metadata": {},
   "outputs": [],
   "source": []
  },
  {
   "cell_type": "code",
   "execution_count": null,
   "metadata": {},
   "outputs": [],
   "source": []
  },
  {
   "cell_type": "code",
   "execution_count": null,
   "metadata": {},
   "outputs": [],
   "source": []
  }
 ],
 "metadata": {
  "kernelspec": {
   "display_name": "Python 3",
   "language": "python",
   "name": "python3"
  },
  "language_info": {
   "codemirror_mode": {
    "name": "ipython",
    "version": 3
   },
   "file_extension": ".py",
   "mimetype": "text/x-python",
   "name": "python",
   "nbconvert_exporter": "python",
   "pygments_lexer": "ipython3",
   "version": "3.7.2"
  },
  "toc": {
   "base_numbering": 1,
   "nav_menu": {},
   "number_sections": true,
   "sideBar": true,
   "skip_h1_title": false,
   "title_cell": "Table of Contents",
   "title_sidebar": "Contents",
   "toc_cell": false,
   "toc_position": {},
   "toc_section_display": true,
   "toc_window_display": false
  }
 },
 "nbformat": 4,
 "nbformat_minor": 2
}
