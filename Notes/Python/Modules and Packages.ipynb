{
 "cells": [
  {
   "cell_type": "markdown",
   "metadata": {},
   "source": [
    "# Modules and Packages"
   ]
  },
  {
   "cell_type": "code",
   "execution_count": 1,
   "metadata": {},
   "outputs": [],
   "source": [
    "from IPython.core.interactiveshell import InteractiveShell\n",
    "InteractiveShell.ast_node_interactivity = \"all\"\n",
    "\n",
    "import os\n",
    "os.getcwd()\n",
    "os.chdir('/Users/fizz/Document/Notes/Python/codes')"
   ]
  },
  {
   "cell_type": "markdown",
   "metadata": {},
   "source": [
    "Note that compilation happens when a file is being imported. Because of this, you will not usually see a .pyc byte code file for the top-level file of your program, unless it is also imported elsewhere - only imported files leave behind .pyc files on your machine. The byte code of top-level files is used internally and discarded; byte code of imported files is saved in files to speed future imports.\n",
    "\n",
    "Roughly, Python's module search path is composed of the concatenation of these major components, some of which are preset for you and some of which you can tailor to tell Python where to look:\n",
    "\n",
    "1. The home directory of the program\n",
    "\n",
    "2. **PYTHONPATH** directories (if set)\n",
    "\n",
    "3. Standard library directories\n",
    "\n",
    "4. The contents of any *.pth* files (if present)\n",
    "\n",
    "5. The *site-package* home of third-party extensions"
   ]
  },
  {
   "cell_type": "markdown",
   "metadata": {},
   "source": [
    "All the things we've already discussed about assignment apply to module access, too. For instance, names copied with a **from** become references to shared objects; as with function arguments, reassigning a copied name has no effect on the module from which it was copied, but changing a shared *mutable object* through a copied name can also change it in the module from which it was imported. To illustrate, consider the following file, *small.py*:"
   ]
  },
  {
   "cell_type": "code",
   "execution_count": 6,
   "metadata": {},
   "outputs": [
    {
     "name": "stdout",
     "output_type": "stream",
     "text": [
      "x = 1\n",
      "y = [1, 2]\n"
     ]
    }
   ],
   "source": [
    "print(open('small.py').read())"
   ]
  },
  {
   "cell_type": "code",
   "execution_count": 7,
   "metadata": {},
   "outputs": [
    {
     "data": {
      "text/plain": [
       "1"
      ]
     },
     "execution_count": 7,
     "metadata": {},
     "output_type": "execute_result"
    },
    {
     "data": {
      "text/plain": [
       "[42, 2]"
      ]
     },
     "execution_count": 7,
     "metadata": {},
     "output_type": "execute_result"
    }
   ],
   "source": [
    "from small import x, y\n",
    "x = 42\n",
    "y[0] = 42\n",
    "import small\n",
    "small.x\n",
    "small.y"
   ]
  },
  {
   "cell_type": "code",
   "execution_count": null,
   "metadata": {},
   "outputs": [],
   "source": [
    "from module import name1, name2\n",
    "\n",
    "# is equivalent to this statement sequence:\n",
    "\n",
    "import module\n",
    "name1 = module.name1\n",
    "name2 = module.name2\n",
    "del module      # get rid of the module name"
   ]
  },
  {
   "cell_type": "code",
   "execution_count": 46,
   "metadata": {},
   "outputs": [
    {
     "data": {
      "text/plain": [
       "['__name__',\n",
       " '__doc__',\n",
       " '__package__',\n",
       " '__loader__',\n",
       " '__spec__',\n",
       " '__file__',\n",
       " '__cached__',\n",
       " '__builtins__',\n",
       " 'x',\n",
       " 'y']"
      ]
     },
     "execution_count": 46,
     "metadata": {},
     "output_type": "execute_result"
    },
    {
     "data": {
      "text/plain": [
       "['x', 'y']"
      ]
     },
     "execution_count": 46,
     "metadata": {},
     "output_type": "execute_result"
    }
   ],
   "source": [
    "list(small.__dict__.keys())\n",
    "list(name for name in small.__dict__ if not name.startswith('__'))"
   ]
  },
  {
   "cell_type": "markdown",
   "metadata": {},
   "source": [
    "The **reload** function forces an already loaded module's code to be reloaded and rerun. Assignments in the file's new code change the existing module object in place!!\n",
    "\n",
    "1. **reload runs a module file's new code in the module's current namespace**. Returning a module file's code overwrites its existing namespace, rather than deleting and re-creating it.\n",
    "\n",
    "2. **Reloads impact future from clients only**. Clients that used **from** to fetch attributes in the past won't be affected by a reload; they'll still have references to the old objects fetched before the reload.\n",
    "\n",
    "3. **Reloads apply to a single module only**. You must run them on each module you wish to update, unless you are use code or tools that apply reloads transitively."
   ]
  },
  {
   "cell_type": "code",
   "execution_count": null,
   "metadata": {},
   "outputs": [],
   "source": [
    "from imp import reload\n",
    "\n",
    "import dir1.dir2.mod\n",
    "reload(dir1)\n",
    "reload(dir2.dir2)\n",
    "\n",
    "from dir1.dir2 import mod\n",
    "import dir2.dir2.mod as mod\n",
    "from dir1.dir2.mod import z as modz"
   ]
  },
  {
   "cell_type": "markdown",
   "metadata": {},
   "source": [
    "In fact, each directory name in the path becomes a variable assigned to a module object whose namespace is initialized by all the assignments in that directory's **\\_\\_init\\_\\_.py** file.\n",
    "\n",
    "**Imports with dots**: In both Python 3.X and 2.X, you can use leading dots in **from** statements' module names to indicate that imports should be **relative-only** to the containing package - such imports will search for modules inside the package directory only and will not look for same-named modules located elsewhere on the import search path (**sys.path**). The net effect is that package modules override outside modules.\n",
    "\n",
    "Notice that leading dots can be used to force relative imports only with the **from** statement, not with the **import** statement."
   ]
  },
  {
   "cell_type": "code",
   "execution_count": null,
   "metadata": {},
   "outputs": [],
   "source": [
    "from .string import name1, name2    # Imports names from mypkg.string\n",
    "from . import string                        # Imports mypkg.string\n",
    "from .. import string                       # Imports string sibling of mypkg\n",
    "\n",
    "\n",
    "# code located in some module A.B.C can use any of these forms:\n",
    "from . import D         # Imports A.B.D\n",
    "from .. import E        # Imports A.E\n",
    "from .D import X      # Imports A.B.D.X\n",
    "from ..E import X     # Imports A.E.X"
   ]
  },
  {
   "cell_type": "markdown",
   "metadata": {},
   "source": [
    "At least abstractly, as of release 3.3 Python has four import models. From original to newest:\n",
    "\n",
    "1. *Basic module imports*: **import mod, from mod import attr**\n",
    "\n",
    "The original model: imports of files and their contents, relative to the **sys.path** module search path.\n",
    "\n",
    "2. *Package imports*: **import dir1.dir2.mod, from dir1.mod import attr**\n",
    "\n",
    "Imports that give directory path extensions relative to the **sys.path** module search path, where each package is contained in a single directory and has an initialization file, in Python 2.X and 3.X.\n",
    "\n",
    "3. *Package-relative imports*: **from . import mod (relative), import mod (absolute)**\n",
    "\n",
    "The model used for intrapackage imports of the prior section, with its relative or absolute lookup schemes for dotted and notdotted imports, available but differing in Python 2.X and 3.X.\n",
    "\n",
    "4. *Namespace packages*: **import splitdir.mod**\n",
    "\n",
    "The new namespace package model that we'll survey here, which allows packages to span multiple directories, and requires no initialization file, introduced in Python 3.3.\n",
    "\n",
    "......"
   ]
  },
  {
   "cell_type": "markdown",
   "metadata": {},
   "source": [
    "# Advanced Module Topics"
   ]
  },
  {
   "cell_type": "markdown",
   "metadata": {},
   "source": [
    "**\\_\\_all\\_\\_** identifies names to be copied, while **\\_X** identifies names *not* to be copied. Python looks for an **\\_\\_all\\_\\_** list in the module first and copies its names irrespective of any underscores; if **\\_\\_all\\_\\_** is not defined, **from *** copies all names without a single leading underscore。\n",
    "\n",
    "**\\_\\_all\\_\\_** has precedence over **\\_X**\n",
    "\n",
    "Like the **\\_X** convention, the **\\_\\_all\\_\\_** list has meaning only to the **from *** statement form and does not amount to a privacy declaration: other import statements can still access all names, as the last two tests show."
   ]
  },
  {
   "cell_type": "code",
   "execution_count": 15,
   "metadata": {},
   "outputs": [
    {
     "data": {
      "text/plain": [
       "'124,214,124'"
      ]
     },
     "execution_count": 15,
     "metadata": {},
     "output_type": "execute_result"
    },
    {
     "data": {
      "text/plain": [
       "'$    123.12'"
      ]
     },
     "execution_count": 15,
     "metadata": {},
     "output_type": "execute_result"
    }
   ],
   "source": [
    "from formats import money, commas\n",
    "commas(124214124)\n",
    "money(123.123123, numwidth=10)"
   ]
  },
  {
   "cell_type": "code",
   "execution_count": null,
   "metadata": {},
   "outputs": [],
   "source": [
    "import modulename as name\n",
    "# is equivalent to the following\n",
    "import modulename\n",
    "name = modulename\n",
    "del modulename"
   ]
  },
  {
   "cell_type": "code",
   "execution_count": null,
   "metadata": {},
   "outputs": [],
   "source": [
    "# To get an attribute called name in a module called M\n",
    "M.name\n",
    "M.__dict__['name']\n",
    "sys.modules['M'].name\n",
    "getattr(M, 'name')"
   ]
  },
  {
   "cell_type": "code",
   "execution_count": 22,
   "metadata": {},
   "outputs": [
    {
     "name": "stdout",
     "output_type": "stream",
     "text": [
      "------------------------------------------------------------\n",
      "name tkinter file: /anaconda3/lib/python3.7/tkinter/__init__.py\n",
      "------------------------------------------------------------\n",
      "00) ACTIVE active\n",
      "01) ALL all\n",
      "02) ANCHOR anchor\n",
      "03) ARC arc\n",
      "04) BASELINE baseline\n",
      "05) BEVEL bevel\n",
      "06) BOTH both\n",
      "07) BOTTOM bottom\n",
      "08) BROWSE browse\n",
      "09) BUTT butt\n",
      "10) BaseWidget <class 'tkinter.BaseWidget'>\n",
      "11) BitmapImage <class 'tkinter.BitmapImage'>\n",
      "12) BooleanVar <class 'tkinter.BooleanVar'>\n",
      "13) Button <class 'tkinter.Button'>\n",
      "14) CASCADE cascade\n",
      "15) CENTER center\n",
      "16) CHAR char\n",
      "17) CHECKBUTTON checkbutton\n",
      "18) CHORD chord\n",
      "19) COMMAND command\n",
      "20) CURRENT current\n",
      "21) CallWrapper <class 'tkinter.CallWrapper'>\n",
      "22) Canvas <class 'tkinter.Canvas'>\n",
      "23) Checkbutton <class 'tkinter.Checkbutton'>\n",
      "24) DISABLED disabled\n",
      "25) DOTBOX dotbox\n",
      "26) DoubleVar <class 'tkinter.DoubleVar'>\n",
      "27) E e\n",
      "28) END end\n",
      "29) EW ew\n",
      "30) EXCEPTION 8\n",
      "31) EXTENDED extended\n",
      "32) Entry <class 'tkinter.Entry'>\n",
      "33) Event <class 'tkinter.Event'>\n",
      "34) EventType <enum 'EventType'>\n",
      "35) FALSE 0\n",
      "36) FIRST first\n",
      "37) FLAT flat\n",
      "38) Frame <class 'tkinter.Frame'>\n",
      "39) GROOVE groove\n",
      "40) Grid <class 'tkinter.Grid'>\n",
      "41) HIDDEN hidden\n",
      "42) HORIZONTAL horizontal\n",
      "43) INSERT insert\n",
      "44) INSIDE inside\n",
      "45) Image <class 'tkinter.Image'>\n",
      "46) IntVar <class 'tkinter.IntVar'>\n",
      "47) LAST last\n",
      "48) LEFT left\n",
      "49) Label <class 'tkinter.Label'>\n",
      "50) LabelFrame <class 'tkinter.LabelFrame'>\n",
      "51) Listbox <class 'tkinter.Listbox'>\n",
      "52) MITER miter\n",
      "53) MOVETO moveto\n",
      "54) MULTIPLE multiple\n",
      "55) Menu <class 'tkinter.Menu'>\n",
      "56) Menubutton <class 'tkinter.Menubutton'>\n",
      "57) Message <class 'tkinter.Message'>\n",
      "58) Misc <class 'tkinter.Misc'>\n",
      "59) N n\n",
      "60) NE ne\n",
      "61) NO 0\n",
      "62) NONE none\n",
      "63) NORMAL normal\n",
      "64) NS ns\n",
      "65) NSEW nsew\n",
      "66) NUMERIC numeric\n",
      "67) NW nw\n",
      "68) NoDefaultRoot <function NoDefaultRoot at 0x10b582bf8>\n",
      "69) OFF 0\n",
      "70) ON 1\n",
      "71) OUTSIDE outside\n",
      "72) OptionMenu <class 'tkinter.OptionMenu'>\n",
      "73) PAGES pages\n",
      "74) PIESLICE pieslice\n",
      "75) PROJECTING projecting\n",
      "76) Pack <class 'tkinter.Pack'>\n",
      "77) PanedWindow <class 'tkinter.PanedWindow'>\n",
      "78) PhotoImage <class 'tkinter.PhotoImage'>\n",
      "79) Place <class 'tkinter.Place'>\n",
      "80) RADIOBUTTON radiobutton\n",
      "81) RAISED raised\n",
      "82) READABLE 2\n",
      "83) RIDGE ridge\n",
      "84) RIGHT right\n",
      "85) ROUND round\n",
      "86) Radiobutton <class 'tkinter.Radiobutton'>\n",
      "87) S s\n",
      "88) SCROLL scroll\n",
      "89) SE se\n",
      "90) SEL sel\n",
      "91) SEL_FIRST sel.first\n",
      "92) SEL_LAST sel.last\n",
      "93) SEPARATOR separator\n",
      "94) SINGLE single\n",
      "95) SOLID solid\n",
      "96) SUNKEN sunken\n",
      "97) SW sw\n",
      "98) Scale <class 'tkinter.Scale'>\n",
      "99) Scrollbar <class 'tkinter.Scrollbar'>\n",
      "100) Spinbox <class 'tkinter.Spinbox'>\n",
      "101) StringVar <class 'tkinter.StringVar'>\n",
      "102) TOP top\n",
      "103) TRUE 1\n",
      "104) Tcl <function Tcl at 0x10b60ac80>\n",
      "105) TclError <class '_tkinter.TclError'>\n",
      "106) TclVersion 8.6\n",
      "107) Text <class 'tkinter.Text'>\n",
      "108) Tk <class 'tkinter.Tk'>\n",
      "109) TkVersion 8.6\n",
      "110) Toplevel <class 'tkinter.Toplevel'>\n",
      "111) UNDERLINE underline\n",
      "112) UNITS units\n",
      "113) VERTICAL vertical\n",
      "114) Variable <class 'tkinter.Variable'>\n",
      "115) W w\n",
      "116) WORD word\n",
      "117) WRITABLE 4\n",
      "118) Widget <class 'tkinter.Widget'>\n",
      "119) Wm <class 'tkinter.Wm'>\n",
      "120) X x\n",
      "121) XView <class 'tkinter.XView'>\n",
      "122) Y y\n",
      "123) YES 1\n",
      "124) YView <class 'tkinter.YView'>\n",
      "125) __builtins__ <built-in name>\n",
      "126) __cached__ <built-in name>\n",
      "127) __doc__ <built-in name>\n",
      "128) __file__ <built-in name>\n",
      "129) __loader__ <built-in name>\n",
      "130) __name__ <built-in name>\n",
      "131) __package__ <built-in name>\n",
      "132) __path__ <built-in name>\n",
      "133) __spec__ <built-in name>\n",
      "134) _cnfmerge <function _cnfmerge at 0x10b582ae8>\n",
      "135) _default_root None\n",
      "136) _exit <function _exit at 0x10b582ea0>\n",
      "137) _flatten <built-in function _flatten>\n",
      "138) _join <function _join at 0x10b4efe18>\n",
      "139) _magic_re re.compile('([\\\\\\\\{}])')\n",
      "140) _setit <class 'tkinter._setit'>\n",
      "141) _space_re re.compile('([\\\\s])', re.ASCII)\n",
      "142) _splitdict <function _splitdict at 0x10b582b70>\n",
      "143) _stringify <function _stringify at 0x10b582a60>\n",
      "144) _support_default_root 1\n",
      "145) _test <function _test at 0x10b61dae8>\n",
      "146) _tkerror <function _tkerror at 0x10b582e18>\n",
      "147) _tkinter <module '_tkinter' from '/anaconda3/lib/python3.7/lib-dynload/_tkinter.cpython-37m-darwin.so'>\n",
      "148) _varnum 0\n",
      "149) constants <module 'tkinter.constants' from '/anaconda3/lib/python3.7/tkinter/constants.py'>\n",
      "150) enum <module 'enum' from '/anaconda3/lib/python3.7/enum.py'>\n",
      "151) getboolean <function getboolean at 0x10b60abf8>\n",
      "152) getdouble <class 'float'>\n",
      "153) getint <class 'int'>\n",
      "154) image_names <function image_names at 0x10b6117b8>\n",
      "155) image_types <function image_types at 0x10b61da60>\n",
      "156) mainloop <function mainloop at 0x10b582f28>\n",
      "157) re <module 're' from '/anaconda3/lib/python3.7/re.py'>\n",
      "158) sys <module 'sys' (built-in)>\n",
      "159) wantobjects 1\n",
      "------------------------------------------------------------\n",
      "tkinter has 160 names\n",
      "------------------------------------------------------------\n"
     ]
    }
   ],
   "source": [
    "import mydir\n",
    "import tkinter\n",
    "mydir.listing(tkinter)"
   ]
  },
  {
   "cell_type": "code",
   "execution_count": null,
   "metadata": {},
   "outputs": [],
   "source": [
    "# Importing Modules By Name Strings\n",
    "modname = 'string'\n",
    "exec('import' + 'string')\n",
    "\n",
    "# Or use the built-in __import__ function to load from a name string \n",
    "modname = 'string'\n",
    "string = __import__(modname)\n",
    "\n",
    "# Or the newer call importlib.import_module\n",
    "import importlib\n",
    "modname = 'string'\n",
    "string = importlib.import_module(modname)"
   ]
  },
  {
   "cell_type": "code",
   "execution_count": null,
   "metadata": {},
   "outputs": [],
   "source": [
    "\"\"\"\n",
    "reloadall.py: transitively reload nested modules.\n",
    "Call reload_all with one or more imported module objects.\n",
    "\"\"\"\n",
    "import types\n",
    "from imp import reload\n",
    "\n",
    "def status(module):\n",
    "    print('reloading '+ module.__name__)\n",
    "    \n",
    "def tryreload(module):\n",
    "    try:\n",
    "        reload(module)\n",
    "    except:\n",
    "        print('FAILED: %s' % module)\n",
    "        \n",
    "def transitive_reload(module, visited):\n",
    "    if not module in visited:\n",
    "        status(module)\n",
    "        tryreload(module)\n",
    "        visited[module] = True\n",
    "        for attrobj in module.__dict__.values():\n",
    "            if type(attrobj) == types.ModuleType:\n",
    "                transitive_reload(attrobj, visited)\n",
    "\n",
    "def reload_all(*args):\n",
    "    visited = {}\n",
    "    for arg in args:\n",
    "        if type(arg) == types.ModuleType:\n",
    "            transitive_reload(arg, visited)\n",
    "            \n",
    "def tester(reloader, modname):\n",
    "    import importlib, sys\n",
    "    if len(sys.argv) > 1: modname = sys.argv[1]\n",
    "    module = importlib.import_module(modname)\n",
    "    reloader(module)\n",
    "    \n",
    "if __name__ == '__main__':\n",
    "    tester(reload_all, 'reloadall')"
   ]
  },
  {
   "cell_type": "code",
   "execution_count": null,
   "metadata": {},
   "outputs": [],
   "source": [
    "\"''\"\n",
    "reloadall2.py: transitively reload nested modules (alternative coding)\n",
    "\"''\"\n",
    "import types\n",
    "from imp import reload\n",
    "from reloadall import import status, tryreload, tester\n",
    "\n",
    "def transitive_reload(objects, visited):\n",
    "    for obj in objects:\n",
    "        if type(obj) == types.ModuleType and obj not in visited:\n",
    "            status(obj)\n",
    "            tryreload(obj)\n",
    "            visited.add(obj)\n",
    "            transitive_reload(obj.__dict__.values(), visited)\n",
    "            \n",
    "def reload_all(*args):\n",
    "    transitive_reload(args, set())\n",
    "    \n",
    "if __name__ == '__main__':\n",
    "    tester(reload_all, 'reloadall2')\n",
    "    \n",
    "    \n",
    "\"''\"\n",
    "reloadall3.py: transitively reload nested modules (explicit stack)\n",
    "\"''\"\n",
    "import types\n",
    "from imp import reload\n",
    "from reloadall import status, tryreload, tester\n",
    "\n",
    "def transitive_reload(modules, visited):\n",
    "    while modules:\n",
    "        next = modules.pop()\n",
    "        status(next)\n",
    "        tryreload(next)\n",
    "        visited.add(next)\n",
    "        modules.extend(x for x in next.__dict__.values() if\n",
    "                      if type(x) == types.ModuleType and x not in visited)\n",
    "\n",
    "def reload_all(*modules):\n",
    "    transitive_reload(list(modules), set())\n",
    "    \n",
    "if __name__ == '__main__':\n",
    "    tester(reload_all, 'reloadall3')"
   ]
  },
  {
   "cell_type": "code",
   "execution_count": 14,
   "metadata": {},
   "outputs": [
    {
     "data": {
      "text/plain": [
       "'reloading reloadall\\nreloading types\\n'"
      ]
     },
     "execution_count": 14,
     "metadata": {},
     "output_type": "execute_result"
    }
   ],
   "source": [
    "os.popen('python reloadall.py').read()"
   ]
  },
  {
   "cell_type": "code",
   "execution_count": null,
   "metadata": {},
   "outputs": [],
   "source": []
  },
  {
   "cell_type": "code",
   "execution_count": null,
   "metadata": {},
   "outputs": [],
   "source": []
  },
  {
   "cell_type": "code",
   "execution_count": null,
   "metadata": {},
   "outputs": [],
   "source": []
  },
  {
   "cell_type": "code",
   "execution_count": null,
   "metadata": {},
   "outputs": [],
   "source": []
  },
  {
   "cell_type": "code",
   "execution_count": null,
   "metadata": {},
   "outputs": [],
   "source": []
  },
  {
   "cell_type": "code",
   "execution_count": null,
   "metadata": {},
   "outputs": [],
   "source": []
  },
  {
   "cell_type": "code",
   "execution_count": null,
   "metadata": {},
   "outputs": [],
   "source": []
  },
  {
   "cell_type": "code",
   "execution_count": null,
   "metadata": {},
   "outputs": [],
   "source": []
  },
  {
   "cell_type": "code",
   "execution_count": null,
   "metadata": {},
   "outputs": [],
   "source": []
  },
  {
   "cell_type": "code",
   "execution_count": null,
   "metadata": {},
   "outputs": [],
   "source": []
  },
  {
   "cell_type": "code",
   "execution_count": null,
   "metadata": {},
   "outputs": [],
   "source": []
  },
  {
   "cell_type": "code",
   "execution_count": null,
   "metadata": {},
   "outputs": [],
   "source": []
  },
  {
   "cell_type": "code",
   "execution_count": null,
   "metadata": {},
   "outputs": [],
   "source": []
  },
  {
   "cell_type": "code",
   "execution_count": null,
   "metadata": {},
   "outputs": [],
   "source": []
  },
  {
   "cell_type": "code",
   "execution_count": null,
   "metadata": {},
   "outputs": [],
   "source": []
  },
  {
   "cell_type": "code",
   "execution_count": null,
   "metadata": {},
   "outputs": [],
   "source": []
  },
  {
   "cell_type": "code",
   "execution_count": null,
   "metadata": {},
   "outputs": [],
   "source": []
  },
  {
   "cell_type": "code",
   "execution_count": null,
   "metadata": {},
   "outputs": [],
   "source": []
  },
  {
   "cell_type": "code",
   "execution_count": null,
   "metadata": {},
   "outputs": [],
   "source": []
  },
  {
   "cell_type": "code",
   "execution_count": null,
   "metadata": {},
   "outputs": [],
   "source": []
  },
  {
   "cell_type": "code",
   "execution_count": null,
   "metadata": {},
   "outputs": [],
   "source": []
  },
  {
   "cell_type": "code",
   "execution_count": null,
   "metadata": {},
   "outputs": [],
   "source": []
  },
  {
   "cell_type": "code",
   "execution_count": null,
   "metadata": {},
   "outputs": [],
   "source": []
  },
  {
   "cell_type": "code",
   "execution_count": null,
   "metadata": {},
   "outputs": [],
   "source": []
  },
  {
   "cell_type": "code",
   "execution_count": null,
   "metadata": {},
   "outputs": [],
   "source": []
  },
  {
   "cell_type": "code",
   "execution_count": null,
   "metadata": {},
   "outputs": [],
   "source": []
  },
  {
   "cell_type": "code",
   "execution_count": null,
   "metadata": {},
   "outputs": [],
   "source": []
  },
  {
   "cell_type": "code",
   "execution_count": null,
   "metadata": {},
   "outputs": [],
   "source": []
  },
  {
   "cell_type": "code",
   "execution_count": null,
   "metadata": {},
   "outputs": [],
   "source": []
  },
  {
   "cell_type": "code",
   "execution_count": null,
   "metadata": {},
   "outputs": [],
   "source": []
  },
  {
   "cell_type": "code",
   "execution_count": null,
   "metadata": {},
   "outputs": [],
   "source": []
  },
  {
   "cell_type": "code",
   "execution_count": null,
   "metadata": {},
   "outputs": [],
   "source": []
  },
  {
   "cell_type": "code",
   "execution_count": null,
   "metadata": {},
   "outputs": [],
   "source": []
  },
  {
   "cell_type": "code",
   "execution_count": null,
   "metadata": {},
   "outputs": [],
   "source": []
  },
  {
   "cell_type": "code",
   "execution_count": null,
   "metadata": {},
   "outputs": [],
   "source": []
  },
  {
   "cell_type": "code",
   "execution_count": null,
   "metadata": {},
   "outputs": [],
   "source": []
  },
  {
   "cell_type": "code",
   "execution_count": null,
   "metadata": {},
   "outputs": [],
   "source": []
  },
  {
   "cell_type": "code",
   "execution_count": null,
   "metadata": {},
   "outputs": [],
   "source": []
  },
  {
   "cell_type": "code",
   "execution_count": null,
   "metadata": {},
   "outputs": [],
   "source": []
  },
  {
   "cell_type": "code",
   "execution_count": null,
   "metadata": {},
   "outputs": [],
   "source": []
  },
  {
   "cell_type": "code",
   "execution_count": null,
   "metadata": {},
   "outputs": [],
   "source": []
  },
  {
   "cell_type": "code",
   "execution_count": null,
   "metadata": {},
   "outputs": [],
   "source": []
  },
  {
   "cell_type": "code",
   "execution_count": null,
   "metadata": {},
   "outputs": [],
   "source": []
  },
  {
   "cell_type": "code",
   "execution_count": null,
   "metadata": {},
   "outputs": [],
   "source": []
  },
  {
   "cell_type": "code",
   "execution_count": null,
   "metadata": {},
   "outputs": [],
   "source": []
  },
  {
   "cell_type": "code",
   "execution_count": null,
   "metadata": {},
   "outputs": [],
   "source": []
  },
  {
   "cell_type": "code",
   "execution_count": null,
   "metadata": {},
   "outputs": [],
   "source": []
  },
  {
   "cell_type": "code",
   "execution_count": null,
   "metadata": {},
   "outputs": [],
   "source": []
  },
  {
   "cell_type": "code",
   "execution_count": null,
   "metadata": {},
   "outputs": [],
   "source": []
  },
  {
   "cell_type": "code",
   "execution_count": null,
   "metadata": {},
   "outputs": [],
   "source": []
  },
  {
   "cell_type": "code",
   "execution_count": null,
   "metadata": {},
   "outputs": [],
   "source": []
  },
  {
   "cell_type": "code",
   "execution_count": null,
   "metadata": {},
   "outputs": [],
   "source": []
  },
  {
   "cell_type": "code",
   "execution_count": null,
   "metadata": {},
   "outputs": [],
   "source": []
  },
  {
   "cell_type": "code",
   "execution_count": null,
   "metadata": {},
   "outputs": [],
   "source": []
  },
  {
   "cell_type": "code",
   "execution_count": null,
   "metadata": {},
   "outputs": [],
   "source": []
  },
  {
   "cell_type": "code",
   "execution_count": null,
   "metadata": {},
   "outputs": [],
   "source": []
  },
  {
   "cell_type": "code",
   "execution_count": null,
   "metadata": {},
   "outputs": [],
   "source": []
  },
  {
   "cell_type": "code",
   "execution_count": null,
   "metadata": {},
   "outputs": [],
   "source": []
  },
  {
   "cell_type": "code",
   "execution_count": null,
   "metadata": {},
   "outputs": [],
   "source": []
  },
  {
   "cell_type": "code",
   "execution_count": null,
   "metadata": {},
   "outputs": [],
   "source": []
  },
  {
   "cell_type": "code",
   "execution_count": null,
   "metadata": {},
   "outputs": [],
   "source": []
  }
 ],
 "metadata": {
  "kernelspec": {
   "display_name": "Python 3",
   "language": "python",
   "name": "python3"
  },
  "language_info": {
   "codemirror_mode": {
    "name": "ipython",
    "version": 3
   },
   "file_extension": ".py",
   "mimetype": "text/x-python",
   "name": "python",
   "nbconvert_exporter": "python",
   "pygments_lexer": "ipython3",
   "version": "3.7.2"
  },
  "toc": {
   "base_numbering": 1,
   "nav_menu": {},
   "number_sections": true,
   "sideBar": true,
   "skip_h1_title": false,
   "title_cell": "Table of Contents",
   "title_sidebar": "Contents",
   "toc_cell": false,
   "toc_position": {},
   "toc_section_display": true,
   "toc_window_display": false
  }
 },
 "nbformat": 4,
 "nbformat_minor": 2
}
