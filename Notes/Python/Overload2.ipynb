{
 "cells": [
  {
   "cell_type": "markdown",
   "metadata": {},
   "source": [
    "## Attribute Access: \\_\\_getattr\\_\\_ and \\_\\_setattr\\_\\_"
   ]
  },
  {
   "cell_type": "code",
   "execution_count": 1,
   "metadata": {},
   "outputs": [],
   "source": [
    "from IPython.core.interactiveshell import InteractiveShell\n",
    "InteractiveShell.ast_node_interactivity = \"all\"\n",
    "\n",
    "import os\n",
    "os.getcwd()\n",
    "os.chdir('/Users/fizz/Document/Notes/Python/codes')"
   ]
  },
  {
   "cell_type": "markdown",
   "metadata": {},
   "source": [
    "The **\\_\\_getattr\\_\\_** method intercepts attribute references. It's called with the attribute name as a string whenever you try to qualify an instance with an **undefined** (nonexistent) attribute name. It is **not** called if Python can find the attribute using its inheritance tree search procedure."
   ]
  },
  {
   "cell_type": "code",
   "execution_count": 1,
   "metadata": {},
   "outputs": [],
   "source": [
    "class Empty:\n",
    "    def __getattr__(self, attrname):\n",
    "        if attrname == 'age':\n",
    "            return 40\n",
    "        else:\n",
    "            raise AttributeError"
   ]
  },
  {
   "cell_type": "markdown",
   "metadata": {},
   "source": [
    "The **\\_\\_setattr\\_\\_** intercepts *all* attribute assignments!!! This method is a bit tricker to use, though, because assigning to any **self** attributes within **\\_\\_setattr\\_\\_** calls **\\_\\_setattr\\_\\_** again.\n",
    "\n",
    "You can avoid loops by coding instance attribute assignments as assignments to attribute dictionary keys. That is, use **self.\\_\\_dict\\_\\_['name'] = x**, not **self.name = x**; because you're not assigning to **\\_\\_dict\\_\\_** itself, this avoid loops."
   ]
  },
  {
   "cell_type": "code",
   "execution_count": null,
   "metadata": {},
   "outputs": [],
   "source": [
    "class Accesscontrol:\n",
    "    def __setattr__(self, attr, value):\n",
    "        if attr == 'age':\n",
    "            self.__dict__[attr] = value + 10    # Not self.name = val or setattr\n",
    "        else:\n",
    "            raise AttributeError\n",
    "            \n",
    "# It's also possible to avoid recursive loops in a class that uses __setattr__ by routing\n",
    "# any attribute assignments to a higher superclass with a call, instead of assigning keys\n",
    "# in __dict__\n",
    "self.__dict__[attr] = value + 10\n",
    "object.__setattr__(self, attr, value + 10)"
   ]
  },
  {
   "cell_type": "markdown",
   "metadata": {},
   "source": [
    "The **\\_\\_getattribute\\_\\_** method intercepts **all** attribute fetches, not just those that are undefined, but when using it you must be more cautious than with **\\_\\_getattr\\_\\_** to avoid loops."
   ]
  },
  {
   "cell_type": "code",
   "execution_count": null,
   "metadata": {},
   "outputs": [],
   "source": [
    "# private0.py\n",
    "class PrivateExc(Exception): pass\n",
    "class Privacy:\n",
    "    def __setattr__(self, attrname, value):\n",
    "        if attrname in self.privates:\n",
    "            raise PrivateExc(attrname, self)\n",
    "        else:\n",
    "            self.__dict__[attrname] = value\n",
    "class Test1(Privacy):\n",
    "    privates = ['age']\n",
    "class Test2(Privacy):\n",
    "    privates = ['name', 'pay']\n",
    "    def __init__(self):\n",
    "        self.__dict__['name'] = 'Tom'\n",
    "if __name__ == '__main__':\n",
    "    x = Test1()\n",
    "    y =Test2()\n",
    "    x.name = 'Bob'    # Works\n",
    "    y.name = 'Sue'    # fails\n",
    "    y.age = 30          # works\n",
    "    x.age = 40          # fails"
   ]
  },
  {
   "cell_type": "markdown",
   "metadata": {},
   "source": [
    "## String Representation: \\_\\_repr\\_\\_ and \\_\\_str\\_\\_"
   ]
  },
  {
   "cell_type": "markdown",
   "metadata": {},
   "source": [
    "1. **\\_\\_str\\_\\_** is tried first for the **print** operation and the **str** built-in function (the internal equivalent of which **print** runs). It generally should return a user-friendly display.\n",
    "\n",
    "2. **\\_\\_repr\\_\\_** is used in all other contexts: for interactive echoes, the **repr** funciton, and nested appearances, as well as by **print** and **str** if no **\\_\\_str\\_\\_** is present. It should generally return an as-code string that could be used to re-create the object, or a deatailed display for developers."
   ]
  },
  {
   "cell_type": "code",
   "execution_count": 4,
   "metadata": {},
   "outputs": [
    {
     "data": {
      "text/plain": [
       "addboth(5)"
      ]
     },
     "execution_count": 4,
     "metadata": {},
     "output_type": "execute_result"
    },
    {
     "name": "stdout",
     "output_type": "stream",
     "text": [
      "[Value: 5]\n"
     ]
    },
    {
     "data": {
      "text/plain": [
       "('[Value: 5]', 'addboth(5)')"
      ]
     },
     "execution_count": 4,
     "metadata": {},
     "output_type": "execute_result"
    }
   ],
   "source": [
    "class adder:\n",
    "    def __init__(self, value=0):\n",
    "        self.data = value\n",
    "    def __add__(self, other):\n",
    "        self.data += other\n",
    "class addboth(adder):\n",
    "    def __str__(self):\n",
    "        return '[Value: %s]' % self.data\n",
    "    def __repr__(self):\n",
    "        return 'addboth(%s)' % self.data\n",
    "x = addboth(4)\n",
    "x + 1\n",
    "x\n",
    "print(x)\n",
    "str(x), repr(x)"
   ]
  },
  {
   "cell_type": "markdown",
   "metadata": {},
   "source": [
    "First, keep in mind that **\\_\\_str\\_\\_** and **\\_\\_repr\\_\\_** must both return *strings*; other result types are not converted and raise errors, so be sure to run them through a to-string converter (e.g., **str** or %) if needed.\n",
    "\n",
    "Second, depending on a container's string-conversion logic, the user-friendly display of **\\_\\_str\\_\\_** might only apply when objects appear at the top level of a print operation; objects *nested* in larger objects might still print with their **\\_\\_repr\\_\\_** or its result. The following illustrates both of these points:"
   ]
  },
  {
   "cell_type": "code",
   "execution_count": 4,
   "metadata": {},
   "outputs": [
    {
     "name": "stdout",
     "output_type": "stream",
     "text": [
      "2\n",
      "3\n",
      "[<__main__.Printer object at 0x10845a860>, <__main__.Printer object at 0x10845a4e0>]\n"
     ]
    },
    {
     "data": {
      "text/plain": [
       "[<__main__.Printer at 0x10845a860>, <__main__.Printer at 0x10845a4e0>]"
      ]
     },
     "execution_count": 4,
     "metadata": {},
     "output_type": "execute_result"
    }
   ],
   "source": [
    "class Printer:\n",
    "    def __init__(self, val):\n",
    "        self.val = val\n",
    "    def __str__(self):\n",
    "        return str(self.val)\n",
    "objs = [Printer(2), Printer(3)]\n",
    "for x in objs: print(x)\n",
    "print(objs)\n",
    "objs"
   ]
  },
  {
   "cell_type": "code",
   "execution_count": 5,
   "metadata": {},
   "outputs": [
    {
     "name": "stdout",
     "output_type": "stream",
     "text": [
      "2\n",
      "3\n",
      "[2, 3]\n"
     ]
    },
    {
     "data": {
      "text/plain": [
       "[2, 3]"
      ]
     },
     "execution_count": 5,
     "metadata": {},
     "output_type": "execute_result"
    }
   ],
   "source": [
    "# To ensure that a custom display is run in all contexts, code __repr__\n",
    "class Printer:\n",
    "    def __init__(self, val):\n",
    "        self.val = val\n",
    "    def __repr__(self):\n",
    "        return str(self.val)\n",
    "objs = [Printer(2), Printer(3)]\n",
    "for x in objs: print(x)\n",
    "print(objs)\n",
    "objs"
   ]
  },
  {
   "cell_type": "markdown",
   "metadata": {},
   "source": [
    "## Right-Side and In-Place Users: \\_\\_radd\\_\\_ and \\_\\_iadd\\_\\_"
   ]
  },
  {
   "cell_type": "code",
   "execution_count": 7,
   "metadata": {},
   "outputs": [
    {
     "name": "stdout",
     "output_type": "stream",
     "text": [
      "add 88 1\n"
     ]
    },
    {
     "data": {
      "text/plain": [
       "89"
      ]
     },
     "execution_count": 7,
     "metadata": {},
     "output_type": "execute_result"
    },
    {
     "name": "stdout",
     "output_type": "stream",
     "text": [
      "radd 99 1\n"
     ]
    },
    {
     "data": {
      "text/plain": [
       "100"
      ]
     },
     "execution_count": 7,
     "metadata": {},
     "output_type": "execute_result"
    },
    {
     "name": "stdout",
     "output_type": "stream",
     "text": [
      "add 88 <__main__.Commuter1 object at 0x108484940>\n",
      "radd 99 88\n"
     ]
    },
    {
     "data": {
      "text/plain": [
       "187"
      ]
     },
     "execution_count": 7,
     "metadata": {},
     "output_type": "execute_result"
    }
   ],
   "source": [
    "class Commuter1:\n",
    "    def __init__(self, val):\n",
    "        self.val = val\n",
    "    def __add__(self, other):\n",
    "        print('add', self.val, other)\n",
    "        return self.val + other\n",
    "    def __radd__(self, other):\n",
    "        print('radd', self.val, other)\n",
    "        return other + self.val\n",
    "x = Commuter1(88)\n",
    "y = Commuter1(99)\n",
    "x + 1\n",
    "1 + y\n",
    "x + y"
   ]
  },
  {
   "cell_type": "code",
   "execution_count": 9,
   "metadata": {},
   "outputs": [],
   "source": [
    "class Commuter2:\n",
    "    def __init__(self, val):\n",
    "        self.val = val\n",
    "    def __add__(self, other):\n",
    "        print('add', self.val, other)\n",
    "        return self.val + other\n",
    "    def __radd__(self, other):\n",
    "        return self.__add__(other)          # Call __add__ explictly\n",
    "class Commuter3:\n",
    "    def __init__(self, val):\n",
    "        self.val = val\n",
    "    def __add__(self, other):\n",
    "        print('add', self.val, other)\n",
    "        return self.val + other\n",
    "    def __radd__(self, other):\n",
    "        return self + other                    # Swap order and re-order\n",
    "class Commuter4:\n",
    "    def __init__(self, val):\n",
    "        self.val = val\n",
    "    def __add__(self, other):\n",
    "        print('add', self.val, other)\n",
    "        return self.val + other\n",
    "    __radd__ = __add__                     # Alias: cut out the middleman"
   ]
  },
  {
   "cell_type": "code",
   "execution_count": 14,
   "metadata": {},
   "outputs": [
    {
     "name": "stdout",
     "output_type": "stream",
     "text": [
      "<Commuter5: 98>\n",
      "<Commuter5: 109>\n",
      "<Commuter5: 187>\n",
      "<Commuter5: 197>\n",
      "<Commuter5: 374>\n",
      "<Commuter5: 375>\n"
     ]
    }
   ],
   "source": [
    "# Propagating class type\n",
    "class Commuter5:\n",
    "    def __init__(self, val):\n",
    "        self.val = val\n",
    "    def __add__(self, other):\n",
    "        if isinstance(other, Commuter5):        # Type test to avoid object nesting\n",
    "            other = other.val\n",
    "        return Commuter5(self.val + other)\n",
    "    def __radd__(self, other):\n",
    "        return Commuter5(other + self.val)\n",
    "    def __str__(self):\n",
    "        return '<Commuter5: %s>' % self.val\n",
    "x = Commuter5(88)\n",
    "y = Commuter5(99)\n",
    "print(x + 10)\n",
    "print(10 + y)\n",
    "z = x + y\n",
    "print(z)\n",
    "print(z + 10)\n",
    "print(z + z)\n",
    "print(z + z + 1)"
   ]
  },
  {
   "cell_type": "code",
   "execution_count": 17,
   "metadata": {},
   "outputs": [
    {
     "name": "stdout",
     "output_type": "stream",
     "text": [
      "<Commuter5: 98>\n",
      "<Commuter5: 109>\n",
      "<Commuter5: <Commuter5: 187>>\n",
      "<Commuter5: <Commuter5: 197>>\n",
      "<Commuter5: <Commuter5: <Commuter5: <Commuter5: 374>>>>\n",
      "<Commuter5: <Commuter5: <Commuter5: <Commuter5: 375>>>>\n"
     ]
    }
   ],
   "source": [
    "# With isinstance test commented-out\n",
    "class Commuter5:\n",
    "    def __init__(self, val):\n",
    "        self.val = val\n",
    "    def __add__(self, other):\n",
    "        return Commuter5(self.val + other)\n",
    "    def __radd__(self, other):\n",
    "        return Commuter5(other + self.val)\n",
    "    def __str__(self):\n",
    "        return '<Commuter5: %s>' % self.val\n",
    "x = Commuter5(88)\n",
    "y = Commuter5(99)\n",
    "print(x + 10)\n",
    "print(10 + y)\n",
    "z = x + y\n",
    "print(z)\n",
    "print(z + 10)\n",
    "print(z + z)\n",
    "print(z + z + 1)"
   ]
  },
  {
   "cell_type": "markdown",
   "metadata": {},
   "source": [
    "In-Place Addition\n",
    "\n",
    "To also implement += in-place augmented addition, code either an **\\_\\_iadd\\_\\_** or an **\\_\\_add\\_\\_**. The latter is used if the former is absent."
   ]
  },
  {
   "cell_type": "code",
   "execution_count": 7,
   "metadata": {},
   "outputs": [
    {
     "data": {
      "text/plain": [
       "[1, 2, 3]"
      ]
     },
     "execution_count": 7,
     "metadata": {},
     "output_type": "execute_result"
    }
   ],
   "source": [
    "class Number:\n",
    "    def __init__(self, val):\n",
    "        self.val = val\n",
    "    def __iadd__(self, other):\n",
    "        self.val += other\n",
    "        return self\n",
    "# For mutable objects, this method can often specialize for quicker in-place changes\n",
    "y = Number([1])\n",
    "y += [2]\n",
    "y += [3]\n",
    "y.val"
   ]
  },
  {
   "cell_type": "markdown",
   "metadata": {},
   "source": [
    "## Call Expressions: \\_\\_call\\_\\_"
   ]
  },
  {
   "cell_type": "code",
   "execution_count": null,
   "metadata": {},
   "outputs": [],
   "source": [
    "class Callee:\n",
    "    def __call__(self, *pargs, **kargs):\n",
    "        print('Called:', pargs, kargs)"
   ]
  },
  {
   "cell_type": "markdown",
   "metadata": {},
   "source": [
    "## Comparisons: \\_\\_lt\\_\\_, \\_\\_gt\\_\\_, and Others"
   ]
  },
  {
   "cell_type": "markdown",
   "metadata": {},
   "source": [
    "There are no implict relationships among the comparison operators. The truth of == dose not imply that != is false, for example, so both **\\_\\_eq\\_\\_** and **\\_\\_ne\\_\\_** should be defined to ensure that both operators behave correctly."
   ]
  },
  {
   "cell_type": "code",
   "execution_count": null,
   "metadata": {},
   "outputs": [],
   "source": [
    "class C:\n",
    "    data = 'spam'\n",
    "    def __gt__(self, other):\n",
    "        return self.data > other\n",
    "    def __lt__(self, other):\n",
    "        return self.data < other"
   ]
  },
  {
   "cell_type": "markdown",
   "metadata": {},
   "source": [
    "## Boolean Tests: \\_\\_bool\\_\\_ and \\_\\_len\\_\\_"
   ]
  },
  {
   "cell_type": "markdown",
   "metadata": {},
   "source": [
    "In Boolean contexts, Pyton first tries **\\_\\_bool\\_\\_** to obtain a direct Boolean value; if that method is missing, Python tries **\\_\\_len\\_\\_** to infer a truth value from the object's length."
   ]
  },
  {
   "cell_type": "code",
   "execution_count": 20,
   "metadata": {},
   "outputs": [
    {
     "name": "stdout",
     "output_type": "stream",
     "text": [
      "yes!\n",
      "no!\n"
     ]
    },
    {
     "data": {
      "text/plain": [
       "True"
      ]
     },
     "execution_count": 20,
     "metadata": {},
     "output_type": "execute_result"
    }
   ],
   "source": [
    "class Truth:\n",
    "    def __bool__(self):\n",
    "        return True\n",
    "X = Truth()\n",
    "if X: print('yes!')\n",
    "    \n",
    "class Truth:\n",
    "    def __len__(self):\n",
    "        return 0\n",
    "X = Truth()\n",
    "if not X: print('no!')\n",
    "    \n",
    "# If neither truth method is defined, the object is vacuously considered true:\n",
    "class Truth:\n",
    "    pass\n",
    "X = Truth()\n",
    "bool(X)"
   ]
  },
  {
   "cell_type": "markdown",
   "metadata": {},
   "source": [
    "## Object Destruction: **\\_\\_del\\_\\_**"
   ]
  },
  {
   "cell_type": "code",
   "execution_count": 24,
   "metadata": {},
   "outputs": [
    {
     "name": "stdout",
     "output_type": "stream",
     "text": [
      "HelloBrian\n",
      "Brian\n"
     ]
    },
    {
     "name": "stderr",
     "output_type": "stream",
     "text": [
      "Exception ignored in: <function Life.__del__ at 0x102adfc80>\n",
      "Traceback (most recent call last):\n",
      "  File \"<ipython-input-24-21c8a8de02fa>\", line 8, in __del__\n",
      "NameError: name 'name' is not defined\n"
     ]
    }
   ],
   "source": [
    "class Life:\n",
    "    def __init__(self, name='unknown'):\n",
    "        print('Hello' + name)\n",
    "        self.name = name\n",
    "    def live(self):\n",
    "        print(self.name)\n",
    "    def __del__(self):\n",
    "        print('Goodbye' + name)\n",
    "brian = Life('Brian')\n",
    "brian.live()\n",
    "brian = 'loretta'"
   ]
  },
  {
   "cell_type": "code",
   "execution_count": null,
   "metadata": {},
   "outputs": [],
   "source": []
  },
  {
   "cell_type": "code",
   "execution_count": null,
   "metadata": {},
   "outputs": [],
   "source": []
  },
  {
   "cell_type": "code",
   "execution_count": null,
   "metadata": {},
   "outputs": [],
   "source": []
  },
  {
   "cell_type": "code",
   "execution_count": null,
   "metadata": {},
   "outputs": [],
   "source": []
  },
  {
   "cell_type": "code",
   "execution_count": null,
   "metadata": {},
   "outputs": [],
   "source": []
  },
  {
   "cell_type": "code",
   "execution_count": null,
   "metadata": {},
   "outputs": [],
   "source": []
  },
  {
   "cell_type": "code",
   "execution_count": null,
   "metadata": {},
   "outputs": [],
   "source": []
  },
  {
   "cell_type": "code",
   "execution_count": null,
   "metadata": {},
   "outputs": [],
   "source": []
  },
  {
   "cell_type": "code",
   "execution_count": null,
   "metadata": {},
   "outputs": [],
   "source": []
  },
  {
   "cell_type": "code",
   "execution_count": null,
   "metadata": {},
   "outputs": [],
   "source": []
  },
  {
   "cell_type": "code",
   "execution_count": null,
   "metadata": {},
   "outputs": [],
   "source": []
  },
  {
   "cell_type": "code",
   "execution_count": null,
   "metadata": {},
   "outputs": [],
   "source": []
  },
  {
   "cell_type": "code",
   "execution_count": null,
   "metadata": {},
   "outputs": [],
   "source": []
  },
  {
   "cell_type": "code",
   "execution_count": null,
   "metadata": {},
   "outputs": [],
   "source": []
  },
  {
   "cell_type": "code",
   "execution_count": null,
   "metadata": {},
   "outputs": [],
   "source": []
  },
  {
   "cell_type": "code",
   "execution_count": null,
   "metadata": {},
   "outputs": [],
   "source": []
  },
  {
   "cell_type": "code",
   "execution_count": null,
   "metadata": {},
   "outputs": [],
   "source": []
  },
  {
   "cell_type": "code",
   "execution_count": null,
   "metadata": {},
   "outputs": [],
   "source": []
  },
  {
   "cell_type": "code",
   "execution_count": null,
   "metadata": {},
   "outputs": [],
   "source": []
  }
 ],
 "metadata": {
  "kernelspec": {
   "display_name": "Python 3",
   "language": "python",
   "name": "python3"
  },
  "language_info": {
   "codemirror_mode": {
    "name": "ipython",
    "version": 3
   },
   "file_extension": ".py",
   "mimetype": "text/x-python",
   "name": "python",
   "nbconvert_exporter": "python",
   "pygments_lexer": "ipython3",
   "version": "3.7.2"
  },
  "toc": {
   "base_numbering": 1,
   "nav_menu": {},
   "number_sections": true,
   "sideBar": true,
   "skip_h1_title": false,
   "title_cell": "Table of Contents",
   "title_sidebar": "Contents",
   "toc_cell": false,
   "toc_position": {},
   "toc_section_display": true,
   "toc_window_display": false
  }
 },
 "nbformat": 4,
 "nbformat_minor": 2
}
