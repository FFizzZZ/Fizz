{
 "cells": [
  {
   "cell_type": "markdown",
   "metadata": {},
   "source": [
    "# Classes and OOP"
   ]
  },
  {
   "cell_type": "code",
   "execution_count": 1,
   "metadata": {},
   "outputs": [],
   "source": [
    "from IPython.core.interactiveshell import InteractiveShell\n",
    "InteractiveShell.ast_node_interactivity = \"all\"\n",
    "\n",
    "import os\n",
    "os.getcwd()\n",
    "os.chdir('/Users/fizz/Document/Notes/Python/codes')"
   ]
  },
  {
   "cell_type": "markdown",
   "metadata": {},
   "source": [
    "Find the first occurrence of *attribute* by looking in *object*, then in all classes above it, from bottom to top and left to right.\n",
    "\n",
    "Attribute *reference* kick off inheritance searches, but attribute *assignments* affect only the objects in which the assignments are made."
   ]
  },
  {
   "cell_type": "code",
   "execution_count": 5,
   "metadata": {},
   "outputs": [
    {
     "data": {
      "text/plain": [
       "('Bob', 'Sue', 'Bob')"
      ]
     },
     "execution_count": 5,
     "metadata": {},
     "output_type": "execute_result"
    }
   ],
   "source": [
    "class rec: pass\n",
    "rec.name = 'Bob'\n",
    "rec.age = 40\n",
    "x = rec()\n",
    "y = rec()\n",
    "x.name = 'Sue'\n",
    "rec.name, x.name, y.name"
   ]
  },
  {
   "cell_type": "code",
   "execution_count": 10,
   "metadata": {},
   "outputs": [
    {
     "data": {
      "text/plain": [
       "['__module__', '__dict__', '__weakref__', '__doc__', 'name', 'age']"
      ]
     },
     "execution_count": 10,
     "metadata": {},
     "output_type": "execute_result"
    },
    {
     "data": {
      "text/plain": [
       "['name', 'age']"
      ]
     },
     "execution_count": 10,
     "metadata": {},
     "output_type": "execute_result"
    },
    {
     "data": {
      "text/plain": [
       "['name']"
      ]
     },
     "execution_count": 10,
     "metadata": {},
     "output_type": "execute_result"
    },
    {
     "data": {
      "text/plain": [
       "[]"
      ]
     },
     "execution_count": 10,
     "metadata": {},
     "output_type": "execute_result"
    }
   ],
   "source": [
    "list(rec.__dict__.keys())\n",
    "list(name for name in rec.__dict__ if not name.startswith('__'))\n",
    "list(x.__dict__)\n",
    "list(y.__dict__.keys())"
   ]
  },
  {
   "cell_type": "markdown",
   "metadata": {},
   "source": [
    "An attribute can often be fetched by *either* dictionary indexing or attribute notation, but only if it's present on the object in question - attribute notation kicks off inheritance search, but indexing looks in the single object only."
   ]
  },
  {
   "cell_type": "code",
   "execution_count": 13,
   "metadata": {},
   "outputs": [
    {
     "data": {
      "text/plain": [
       "__main__.rec"
      ]
     },
     "execution_count": 13,
     "metadata": {},
     "output_type": "execute_result"
    },
    {
     "data": {
      "text/plain": [
       "(object,)"
      ]
     },
     "execution_count": 13,
     "metadata": {},
     "output_type": "execute_result"
    },
    {
     "data": {
      "text/plain": [
       "'SUE'"
      ]
     },
     "execution_count": 13,
     "metadata": {},
     "output_type": "execute_result"
    },
    {
     "data": {
      "text/plain": [
       "'SUE'"
      ]
     },
     "execution_count": 13,
     "metadata": {},
     "output_type": "execute_result"
    }
   ],
   "source": [
    "# Each instance has a link to its class\n",
    "x.__class__\n",
    "# Classes have a __bases__ attribute, which is a tuple of references to their\n",
    "# superclass objects\n",
    "rec.__bases__\n",
    "\n",
    "def upper(obj):\n",
    "    return obj.name.upper()\n",
    "rec.method = upper\n",
    "x.method()\n",
    "rec.method(x)"
   ]
  },
  {
   "cell_type": "code",
   "execution_count": null,
   "metadata": {
    "scrolled": true
   },
   "outputs": [],
   "source": [
    "# person.py\n",
    "class Person:\n",
    "    def __init__(self, name, job=None, pay=0):\n",
    "        self.name = name\n",
    "        self.job = job\n",
    "        self.pay = pay\n",
    "    def lastName(self):\n",
    "        return self.name.split()[-1]\n",
    "    def giveRaise(self, percent):\n",
    "        self.pay = int(self.pay * (1 + percent))\n",
    "    def __repr__(self):\n",
    "        return '[Person: %s, %s]' % (self.name, self.pay)\n",
    "\n",
    "class Manager(Person):\n",
    "    def __init__(self, name, pay):\n",
    "        Person.__init__(self, name, 'mgr', pay)\n",
    "    def giveRaise(self, percent, bonus=0.10):\n",
    "        person.giveRaise(self, percent + bonus)\n",
    "\n",
    "if __name__ == '__main__':\n",
    "    bob = Person('Bob Smith')\n",
    "    sue = Person('Sue Jones', job='dev', pay=100000)\n",
    "    print(bob)\n",
    "    print(sue)\n",
    "    print(bob.lastName(), sue.lastName())\n",
    "    sue.giveRaise(.10)\n",
    "    print(sue)\n",
    "    tom = Manager('Tom Jones', 50000)\n",
    "    tom.giveRaise(.10)\n",
    "    print(tom.lastName())\n",
    "    print(tom)"
   ]
  },
  {
   "cell_type": "markdown",
   "metadata": {},
   "source": [
    "Technically, **\\_\\_str\\_\\_** is preferred by **print** and **str**, and **\\_\\_repr\\_\\_** is used as a fallback for these roles and in all other contexts.\n",
    "\n",
    "Calling through the class directly effectively subverts inheritance and kicks the call higher up the class tree to run a specific version. In our case, we can use this technique to invoke the default **giveRaise** in **Person**, even though it's been redefined at the **Manager**'s **giveRaise** code would loop - since **self** already is a **Manager**, **self.giveRaise()** would resolve again to **Manager.giveRaise**, and so on and so forth *recursively* until available memory is exhausted."
   ]
  },
  {
   "cell_type": "code",
   "execution_count": null,
   "metadata": {},
   "outputs": [],
   "source": [
    "# Embedding-based Manager alternative\n",
    "class Person:\n",
    "    ...same...\n",
    "class Manager:\n",
    "    def __init__(self, name, pay):\n",
    "        self.person = Person(name, 'mgr', pay)\n",
    "    def giveRaise(self, percent, bouns=.10):\n",
    "        self.person.giveRaise(percent + bouns)\n",
    "    def __getattr__(self, attr):\n",
    "        return getattr(self.person, attr)\n",
    "    def __repr__(self):\n",
    "        return str(self.person)\n",
    "class Department:\n",
    "    def __init__(self, *args):\n",
    "        self.members = list(args)\n",
    "    def addMember(self, person):\n",
    "        self.members.append(person)\n",
    "    def giveRaise(self, percent):\n",
    "        for person in self.members:\n",
    "            person.giveRaise(percent)\n",
    "    def showAll(self):\n",
    "        for person in self.members:\n",
    "            print(person)\n",
    "if __name__ == '__main__':\n",
    "    ...same...\n",
    "# This alternative is representative of a general coding pattern usually known\n",
    "# as DELEGATION - a composite-based structure that manages a wrapped\n",
    "# object and propagates method calls to it."
   ]
  },
  {
   "cell_type": "markdown",
   "metadata": {},
   "source": [
    "Recall that built-in operations like printing and addition implicitly invoke operator overloading methods such as **\\_\\_repr\\_\\_** and **\\_\\_add\\_\\_**. In 3.X's new-style classes, built-in operations like these do not route their implicit attribute fetches through generic attribute managers: neither **\\_\\_getattr\\_\\_** (run for undefined attributes) nor its cousin **\\_\\_getattribute\\_\\_** (run for all attributes) is invoked. This is why we have to redefine **\\_\\_repr\\_\\_** redundantly in the alternative **Manager**, in order to ensure that printing is routed to the embedded **Person** object in 3.X."
   ]
  },
  {
   "cell_type": "code",
   "execution_count": 9,
   "metadata": {},
   "outputs": [
    {
     "data": {
      "text/plain": [
       "[Person: Bob Smith, 0]"
      ]
     },
     "execution_count": 9,
     "metadata": {},
     "output_type": "execute_result"
    },
    {
     "data": {
      "text/plain": [
       "'Person'"
      ]
     },
     "execution_count": 9,
     "metadata": {},
     "output_type": "execute_result"
    },
    {
     "data": {
      "text/plain": [
       "['name', 'job', 'pay']"
      ]
     },
     "execution_count": 9,
     "metadata": {},
     "output_type": "execute_result"
    },
    {
     "name": "stdout",
     "output_type": "stream",
     "text": [
      "name => Bob Smith\n",
      "job => None\n",
      "pay => 0\n"
     ]
    }
   ],
   "source": [
    "from person import Person\n",
    "bob = Person('Bob Smith')\n",
    "bob\n",
    "bob.__class__.__name__\n",
    "list(bob.__dict__.keys())\n",
    "for key in bob.__dict__:\n",
    "    print(key, '=>', getattr(bob, key))"
   ]
  },
  {
   "cell_type": "code",
   "execution_count": 14,
   "metadata": {},
   "outputs": [
    {
     "data": {
      "text/plain": [
       "'Assorted class utilities and tools'"
      ]
     },
     "execution_count": 14,
     "metadata": {},
     "output_type": "execute_result"
    },
    {
     "name": "stdout",
     "output_type": "stream",
     "text": [
      "[TopTest: attr1=0, attr2=1]\n",
      "[SubTest: attr1=2, attr2=3]\n"
     ]
    }
   ],
   "source": [
    "# File classtools.py (new)\n",
    "\"Assorted class utilities and tools\"\n",
    "\n",
    "class AttrDisplay:\n",
    "    \"\"\"\n",
    "    Provides an inheritable display overload method that shows instances with their class names\n",
    "    and a name=value pair for each attribute stored on the instance itself (but not attrs inherited\n",
    "    from its classes). Can be mixed into any class, and will work on any instance.\n",
    "    \"\"\"\n",
    "    def gatherAttrs(self):\n",
    "        attrs =[]\n",
    "        for key in sorted(self.__dict__):\n",
    "            attrs.append('%s=%s' % (key, getattr(self, key)))\n",
    "        return ', '.join(attrs)\n",
    "    \n",
    "    def __repr__(self):\n",
    "        return '[%s: %s]' % (self.__class__.__name__, self.gatherAttrs())\n",
    "    \n",
    "if __name__ == '__main__':\n",
    "    class TopTest(AttrDisplay):\n",
    "        count = 0\n",
    "        def __init__(self):\n",
    "            self.attr1 = TopTest.count\n",
    "            self.attr2 = TopTest.count + 1\n",
    "            TopTest.count += 2\n",
    "    class SubTest(TopTest):\n",
    "        pass\n",
    "    \n",
    "    X, Y = TopTest(), SubTest()\n",
    "    print(X)\n",
    "    print(Y)"
   ]
  },
  {
   "cell_type": "code",
   "execution_count": 17,
   "metadata": {
    "scrolled": true
   },
   "outputs": [
    {
     "data": {
      "text/plain": [
       "['name', 'job', 'pay']"
      ]
     },
     "execution_count": 17,
     "metadata": {},
     "output_type": "execute_result"
    },
    {
     "data": {
      "text/plain": [
       "['__class__',\n",
       " '__delattr__',\n",
       " '__dict__',\n",
       " '__dir__',\n",
       " '__doc__',\n",
       " '__eq__',\n",
       " '__format__',\n",
       " '__ge__',\n",
       " '__getattribute__',\n",
       " '__gt__',\n",
       " '__hash__',\n",
       " '__init__',\n",
       " '__init_subclass__',\n",
       " '__le__',\n",
       " '__lt__',\n",
       " '__module__',\n",
       " '__ne__',\n",
       " '__new__',\n",
       " '__reduce__',\n",
       " '__reduce_ex__',\n",
       " '__repr__',\n",
       " '__setattr__',\n",
       " '__sizeof__',\n",
       " '__str__',\n",
       " '__subclasshook__',\n",
       " '__weakref__',\n",
       " 'giveRaise',\n",
       " 'job',\n",
       " 'lastName',\n",
       " 'name',\n",
       " 'pay']"
      ]
     },
     "execution_count": 17,
     "metadata": {},
     "output_type": "execute_result"
    },
    {
     "data": {
      "text/plain": [
       "['giveRaise', 'job', 'lastName', 'name', 'pay']"
      ]
     },
     "execution_count": 17,
     "metadata": {},
     "output_type": "execute_result"
    }
   ],
   "source": [
    "list(bob.__dict__.keys())\n",
    "dir(bob)\n",
    "list(name for name in dir(bob) if not name.startswith('__'))"
   ]
  },
  {
   "cell_type": "markdown",
   "metadata": {},
   "source": [
    "Storing Objects in a Database\n",
    "\n",
    "1. pickle: Serializes arbitrary Python objects to and from a string of bytes\n",
    "\n",
    "2. dbm: Implements an access-by-key filesystem for storing strings\n",
    "\n",
    "3. shelve: Uses the other two modules to store Python objects on a file by key"
   ]
  },
  {
   "cell_type": "code",
   "execution_count": 19,
   "metadata": {},
   "outputs": [],
   "source": [
    "from person import Person, Manager\n",
    "bob = Person('Bob Smith')\n",
    "sue = Person('Sue Jones', job='dev', pay=100000)\n",
    "tom = Manager('Tom Jones', 50000)\n",
    "\n",
    "import shelve\n",
    "db = shelve.open('persondb')\n",
    "for obj in (bob, sue, tom):\n",
    "    db[obj.name] = obj\n",
    "db.close()"
   ]
  },
  {
   "cell_type": "code",
   "execution_count": 23,
   "metadata": {},
   "outputs": [
    {
     "data": {
      "text/plain": [
       "['person.py', 'persondb.db']"
      ]
     },
     "execution_count": 23,
     "metadata": {},
     "output_type": "execute_result"
    },
    {
     "data": {
      "text/plain": [
       "3"
      ]
     },
     "execution_count": 23,
     "metadata": {},
     "output_type": "execute_result"
    },
    {
     "data": {
      "text/plain": [
       "['Bob Smith', 'Sue Jones', 'Tom Jones']"
      ]
     },
     "execution_count": 23,
     "metadata": {},
     "output_type": "execute_result"
    },
    {
     "name": "stdout",
     "output_type": "stream",
     "text": [
      "Bob Smith => [Person: Bob Smith, 0]\n",
      "Sue Jones => [Person: Sue Jones, 100000]\n",
      "Tom Jones => [Person: Tom Jones, 50000]\n"
     ]
    }
   ],
   "source": [
    "# glob module allows us to get directory listings in Python code to verify the files here\n",
    "import glob\n",
    "glob.glob('person*')\n",
    "\n",
    "# the interactive prompt effectively becomes a database client\n",
    "import shelve\n",
    "db = shelve.open('persondb')\n",
    "len(db)\n",
    "list(db.keys())\n",
    "for key in sorted(db):\n",
    "    print(key, '=>', db[key])"
   ]
  },
  {
   "cell_type": "markdown",
   "metadata": {},
   "source": [
    "Notice that we don't have to import our **Person** or **Manager** classes here in order to load or use our stored objects. This works because when Python pickles a class instance, it records its **self** instance attributes, along with the name of the class it was created from and the module where the class lives. When **bob** is later fetched from the shelve and unpickled, Python will automatically reimport the class and link **bob** to it."
   ]
  },
  {
   "cell_type": "code",
   "execution_count": null,
   "metadata": {},
   "outputs": [],
   "source": []
  },
  {
   "cell_type": "code",
   "execution_count": null,
   "metadata": {},
   "outputs": [],
   "source": []
  },
  {
   "cell_type": "code",
   "execution_count": null,
   "metadata": {},
   "outputs": [],
   "source": []
  },
  {
   "cell_type": "code",
   "execution_count": null,
   "metadata": {},
   "outputs": [],
   "source": []
  },
  {
   "cell_type": "code",
   "execution_count": null,
   "metadata": {},
   "outputs": [],
   "source": []
  },
  {
   "cell_type": "code",
   "execution_count": null,
   "metadata": {},
   "outputs": [],
   "source": []
  },
  {
   "cell_type": "code",
   "execution_count": null,
   "metadata": {},
   "outputs": [],
   "source": []
  },
  {
   "cell_type": "code",
   "execution_count": null,
   "metadata": {},
   "outputs": [],
   "source": []
  },
  {
   "cell_type": "code",
   "execution_count": null,
   "metadata": {},
   "outputs": [],
   "source": []
  },
  {
   "cell_type": "code",
   "execution_count": null,
   "metadata": {},
   "outputs": [],
   "source": []
  },
  {
   "cell_type": "code",
   "execution_count": null,
   "metadata": {},
   "outputs": [],
   "source": []
  },
  {
   "cell_type": "code",
   "execution_count": null,
   "metadata": {},
   "outputs": [],
   "source": []
  },
  {
   "cell_type": "code",
   "execution_count": null,
   "metadata": {},
   "outputs": [],
   "source": []
  },
  {
   "cell_type": "code",
   "execution_count": null,
   "metadata": {},
   "outputs": [],
   "source": []
  },
  {
   "cell_type": "code",
   "execution_count": null,
   "metadata": {},
   "outputs": [],
   "source": []
  },
  {
   "cell_type": "code",
   "execution_count": null,
   "metadata": {},
   "outputs": [],
   "source": []
  },
  {
   "cell_type": "code",
   "execution_count": null,
   "metadata": {},
   "outputs": [],
   "source": []
  },
  {
   "cell_type": "code",
   "execution_count": null,
   "metadata": {},
   "outputs": [],
   "source": []
  },
  {
   "cell_type": "code",
   "execution_count": null,
   "metadata": {},
   "outputs": [],
   "source": []
  },
  {
   "cell_type": "code",
   "execution_count": null,
   "metadata": {},
   "outputs": [],
   "source": []
  },
  {
   "cell_type": "code",
   "execution_count": null,
   "metadata": {},
   "outputs": [],
   "source": []
  },
  {
   "cell_type": "code",
   "execution_count": null,
   "metadata": {},
   "outputs": [],
   "source": []
  },
  {
   "cell_type": "code",
   "execution_count": null,
   "metadata": {},
   "outputs": [],
   "source": []
  },
  {
   "cell_type": "code",
   "execution_count": null,
   "metadata": {},
   "outputs": [],
   "source": []
  },
  {
   "cell_type": "code",
   "execution_count": null,
   "metadata": {},
   "outputs": [],
   "source": []
  },
  {
   "cell_type": "code",
   "execution_count": null,
   "metadata": {},
   "outputs": [],
   "source": []
  },
  {
   "cell_type": "code",
   "execution_count": null,
   "metadata": {},
   "outputs": [],
   "source": []
  },
  {
   "cell_type": "code",
   "execution_count": null,
   "metadata": {},
   "outputs": [],
   "source": []
  },
  {
   "cell_type": "code",
   "execution_count": null,
   "metadata": {},
   "outputs": [],
   "source": []
  },
  {
   "cell_type": "code",
   "execution_count": null,
   "metadata": {},
   "outputs": [],
   "source": []
  },
  {
   "cell_type": "code",
   "execution_count": null,
   "metadata": {},
   "outputs": [],
   "source": []
  },
  {
   "cell_type": "code",
   "execution_count": null,
   "metadata": {},
   "outputs": [],
   "source": []
  },
  {
   "cell_type": "code",
   "execution_count": null,
   "metadata": {},
   "outputs": [],
   "source": []
  },
  {
   "cell_type": "code",
   "execution_count": null,
   "metadata": {},
   "outputs": [],
   "source": []
  },
  {
   "cell_type": "code",
   "execution_count": null,
   "metadata": {},
   "outputs": [],
   "source": []
  },
  {
   "cell_type": "code",
   "execution_count": null,
   "metadata": {},
   "outputs": [],
   "source": []
  },
  {
   "cell_type": "code",
   "execution_count": null,
   "metadata": {},
   "outputs": [],
   "source": []
  },
  {
   "cell_type": "code",
   "execution_count": null,
   "metadata": {},
   "outputs": [],
   "source": []
  },
  {
   "cell_type": "code",
   "execution_count": null,
   "metadata": {},
   "outputs": [],
   "source": []
  },
  {
   "cell_type": "code",
   "execution_count": null,
   "metadata": {},
   "outputs": [],
   "source": []
  },
  {
   "cell_type": "code",
   "execution_count": null,
   "metadata": {},
   "outputs": [],
   "source": []
  },
  {
   "cell_type": "code",
   "execution_count": null,
   "metadata": {},
   "outputs": [],
   "source": []
  },
  {
   "cell_type": "code",
   "execution_count": null,
   "metadata": {},
   "outputs": [],
   "source": []
  },
  {
   "cell_type": "code",
   "execution_count": null,
   "metadata": {},
   "outputs": [],
   "source": []
  },
  {
   "cell_type": "code",
   "execution_count": null,
   "metadata": {},
   "outputs": [],
   "source": []
  },
  {
   "cell_type": "code",
   "execution_count": null,
   "metadata": {},
   "outputs": [],
   "source": []
  },
  {
   "cell_type": "code",
   "execution_count": null,
   "metadata": {},
   "outputs": [],
   "source": []
  },
  {
   "cell_type": "code",
   "execution_count": null,
   "metadata": {},
   "outputs": [],
   "source": []
  },
  {
   "cell_type": "code",
   "execution_count": null,
   "metadata": {},
   "outputs": [],
   "source": []
  },
  {
   "cell_type": "code",
   "execution_count": null,
   "metadata": {},
   "outputs": [],
   "source": []
  },
  {
   "cell_type": "code",
   "execution_count": null,
   "metadata": {},
   "outputs": [],
   "source": []
  },
  {
   "cell_type": "code",
   "execution_count": null,
   "metadata": {},
   "outputs": [],
   "source": []
  },
  {
   "cell_type": "code",
   "execution_count": null,
   "metadata": {},
   "outputs": [],
   "source": []
  },
  {
   "cell_type": "code",
   "execution_count": null,
   "metadata": {},
   "outputs": [],
   "source": []
  },
  {
   "cell_type": "code",
   "execution_count": null,
   "metadata": {},
   "outputs": [],
   "source": []
  },
  {
   "cell_type": "code",
   "execution_count": null,
   "metadata": {},
   "outputs": [],
   "source": []
  },
  {
   "cell_type": "code",
   "execution_count": null,
   "metadata": {},
   "outputs": [],
   "source": []
  },
  {
   "cell_type": "code",
   "execution_count": null,
   "metadata": {},
   "outputs": [],
   "source": []
  },
  {
   "cell_type": "code",
   "execution_count": null,
   "metadata": {},
   "outputs": [],
   "source": []
  },
  {
   "cell_type": "code",
   "execution_count": null,
   "metadata": {},
   "outputs": [],
   "source": []
  },
  {
   "cell_type": "code",
   "execution_count": null,
   "metadata": {},
   "outputs": [],
   "source": []
  },
  {
   "cell_type": "code",
   "execution_count": null,
   "metadata": {},
   "outputs": [],
   "source": []
  },
  {
   "cell_type": "code",
   "execution_count": null,
   "metadata": {},
   "outputs": [],
   "source": []
  }
 ],
 "metadata": {
  "kernelspec": {
   "display_name": "Python 3",
   "language": "python",
   "name": "python3"
  },
  "language_info": {
   "codemirror_mode": {
    "name": "ipython",
    "version": 3
   },
   "file_extension": ".py",
   "mimetype": "text/x-python",
   "name": "python",
   "nbconvert_exporter": "python",
   "pygments_lexer": "ipython3",
   "version": "3.7.2"
  },
  "toc": {
   "base_numbering": 1,
   "nav_menu": {},
   "number_sections": true,
   "sideBar": true,
   "skip_h1_title": false,
   "title_cell": "Table of Contents",
   "title_sidebar": "Contents",
   "toc_cell": false,
   "toc_position": {},
   "toc_section_display": true,
   "toc_window_display": false
  }
 },
 "nbformat": 4,
 "nbformat_minor": 2
}
