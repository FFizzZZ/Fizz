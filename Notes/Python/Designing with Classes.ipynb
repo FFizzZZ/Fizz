{
 "cells": [
  {
   "cell_type": "markdown",
   "metadata": {},
   "source": [
    "# Designing with Classes"
   ]
  },
  {
   "cell_type": "code",
   "execution_count": 3,
   "metadata": {},
   "outputs": [],
   "source": [
    "from IPython.core.interactiveshell import InteractiveShell\n",
    "InteractiveShell.ast_node_interactivity = \"all\"\n",
    "\n",
    "import os\n",
    "os.getcwd()\n",
    "os.chdir('/Users/fizz/Document/Notes/Python/codes')"
   ]
  },
  {
   "cell_type": "code",
   "execution_count": null,
   "metadata": {},
   "outputs": [],
   "source": [
    "# Objects restored these ways retain both state and behavior\n",
    "# pickle\n",
    "import pickle\n",
    "object = Someclass()\n",
    "file = open(filename, 'wb')\n",
    "pickle.dump(object, file)\n",
    "file = open(filename, 'rb')\n",
    "object = pickle.load(file)\n",
    "\n",
    "# shelve\n",
    "import shelve\n",
    "object = Someclass()\n",
    "dbase = shelve.open(filename)\n",
    "dbase['key'] = object\n",
    "dbase = shelve.open(filename)\n",
    "object = dbase['key']"
   ]
  },
  {
   "cell_type": "code",
   "execution_count": null,
   "metadata": {},
   "outputs": [],
   "source": [
    "# 'Wrapper' Proxy Objects\n",
    "class Wrapper:\n",
    "    def __init__(self, object):\n",
    "        self.wrapped = object\n",
    "    def __getattr__(self, attrname):\n",
    "        print('Trace' + attrname)\n",
    "        return getattr(self.object, attrname)"
   ]
  },
  {
   "cell_type": "markdown",
   "metadata": {},
   "source": [
    "*  _X\n",
    "\n",
    "* Name Mangling  \n",
    " Within a __class__ statement only, any names that starts with two underscores but don't end with two underscores are automatically expanded to include the name of the enclosing class at their front. For instance, a name like ___X__ within a class named __Spam__ is changed to __\\_Spam\\_\\_X__ automatically.\n"
   ]
  },
  {
   "cell_type": "code",
   "execution_count": 4,
   "metadata": {},
   "outputs": [
    {
     "name": "stdout",
     "output_type": "stream",
     "text": [
      "{'_C1__X': 88, '_C2__X': 99}\n",
      "88\n",
      "99\n"
     ]
    }
   ],
   "source": [
    "class C1:\n",
    "    def meth1(self): self.__X = 88\n",
    "    def meth2(self): print(self.__X)\n",
    "class C2:\n",
    "    def metha(self): self.__X = 99\n",
    "    def methb(self): print(self.__X)\n",
    "class C3(C1, C2): pass\n",
    "I = C3()\n",
    "I.meth1(); I.metha()\n",
    "print(I.__dict__)\n",
    "I.meth2(); I.methb()"
   ]
  },
  {
   "cell_type": "code",
   "execution_count": null,
   "metadata": {},
   "outputs": [],
   "source": [
    "class Super:\n",
    "    def method(self): ...\n",
    "class Tool:\n",
    "    def __method(self): ...                   # Becomes _Tool__method\n",
    "    def other(self): self.__method()\n",
    "class Sub1(Tool, Super):\n",
    "    def actions(self): self.method        # Runs Super.method as expected\n",
    "class Sub2(Tool):\n",
    "    def __init__(self): self.method = 99  # Doesn't break Tool.__method"
   ]
  },
  {
   "cell_type": "markdown",
   "metadata": {},
   "source": [
    "* Sometimes, class-based designs require objects to be created in response to conditions that can't be predicted when a program is written. The factory design pattern allows such a deferred approach."
   ]
  },
  {
   "cell_type": "code",
   "execution_count": null,
   "metadata": {},
   "outputs": [],
   "source": [
    "def factory(aClass, *pargs, **kargs):\n",
    "    return aClass(*pargs, **kargs)"
   ]
  },
  {
   "cell_type": "markdown",
   "metadata": {},
   "source": [
    "* In __classic__ classes, the attribute search in all cases procecds depth-first all the way to the top of the inheritance tree, and then from left to right. This order is usually called DFLR, for its depth-first, left-to-right path.\n",
    "\n",
    "* In __new-style__ classes, the attribute is usually as before, but in diamond patterns preoceeds across by tree levels before moving up, in a more breadth-first fashion. This order is usually called the new-syle MRO, for method resolution, though it's used for all attritbutes, not just methods."
   ]
  },
  {
   "cell_type": "code",
   "execution_count": 26,
   "metadata": {},
   "outputs": [
    {
     "data": {
      "text/plain": [
       "\"\\nGeneric lister mixin tester: similar to transitive reloader in chapter 25, but passes a class\\nobject to tester (not function), and testByNames adds loading of both module and class\\nby name strings here, in keeping with Chapter 31's factories pattern.\\n\""
      ]
     },
     "execution_count": 26,
     "metadata": {},
     "output_type": "execute_result"
    },
    {
     "ename": "ModuleNotFoundError",
     "evalue": "No module named 'listinstance'",
     "output_type": "error",
     "traceback": [
      "\u001b[0;31m---------------------------------------------------------------------------\u001b[0m",
      "\u001b[0;31mModuleNotFoundError\u001b[0m                       Traceback (most recent call last)",
      "\u001b[0;32m<ipython-input-26-9c212f9281d4>\u001b[0m in \u001b[0;36m<module>\u001b[0;34m()\u001b[0m\n\u001b[1;32m     28\u001b[0m \u001b[0;34m\u001b[0m\u001b[0m\n\u001b[1;32m     29\u001b[0m \u001b[0;32mif\u001b[0m \u001b[0m__name__\u001b[0m \u001b[0;34m==\u001b[0m \u001b[0;34m'__main__'\u001b[0m\u001b[0;34m:\u001b[0m\u001b[0;34m\u001b[0m\u001b[0;34m\u001b[0m\u001b[0m\n\u001b[0;32m---> 30\u001b[0;31m     \u001b[0mtestByNames\u001b[0m\u001b[0;34m(\u001b[0m\u001b[0;34m'listinstance'\u001b[0m\u001b[0;34m,\u001b[0m \u001b[0;34m'ListInstance'\u001b[0m\u001b[0;34m,\u001b[0m \u001b[0;32mTrue\u001b[0m\u001b[0;34m)\u001b[0m\u001b[0;34m\u001b[0m\u001b[0;34m\u001b[0m\u001b[0m\n\u001b[0m\u001b[1;32m     31\u001b[0m     \u001b[0mtestByNames\u001b[0m\u001b[0;34m(\u001b[0m\u001b[0;34m'listinherited'\u001b[0m\u001b[0;34m,\u001b[0m \u001b[0;34m'ListInherited'\u001b[0m\u001b[0;34m,\u001b[0m \u001b[0;32mTrue\u001b[0m\u001b[0;34m)\u001b[0m\u001b[0;34m\u001b[0m\u001b[0;34m\u001b[0m\u001b[0m\n\u001b[1;32m     32\u001b[0m     \u001b[0mtestByNames\u001b[0m\u001b[0;34m(\u001b[0m\u001b[0;34m'listtree'\u001b[0m\u001b[0;34m,\u001b[0m \u001b[0;34m'ListTree'\u001b[0m\u001b[0;34m,\u001b[0m \u001b[0;32mFalse\u001b[0m\u001b[0;34m)\u001b[0m\u001b[0;34m\u001b[0m\u001b[0;34m\u001b[0m\u001b[0m\n",
      "\u001b[0;32m<ipython-input-26-9c212f9281d4>\u001b[0m in \u001b[0;36mtestByNames\u001b[0;34m(modname, classname, sept)\u001b[0m\n\u001b[1;32m     23\u001b[0m     \u001b[0;32mif\u001b[0m \u001b[0msept\u001b[0m\u001b[0;34m:\u001b[0m \u001b[0mprint\u001b[0m\u001b[0;34m(\u001b[0m\u001b[0;34m'-'\u001b[0m \u001b[0;34m*\u001b[0m \u001b[0;36m80\u001b[0m\u001b[0;34m)\u001b[0m\u001b[0;34m\u001b[0m\u001b[0;34m\u001b[0m\u001b[0m\n\u001b[1;32m     24\u001b[0m \u001b[0;32mdef\u001b[0m \u001b[0mtestByNames\u001b[0m\u001b[0;34m(\u001b[0m\u001b[0mmodname\u001b[0m\u001b[0;34m,\u001b[0m \u001b[0mclassname\u001b[0m\u001b[0;34m,\u001b[0m \u001b[0msept\u001b[0m\u001b[0;34m=\u001b[0m\u001b[0;32mFalse\u001b[0m\u001b[0;34m)\u001b[0m\u001b[0;34m:\u001b[0m\u001b[0;34m\u001b[0m\u001b[0;34m\u001b[0m\u001b[0m\n\u001b[0;32m---> 25\u001b[0;31m     \u001b[0mmodobject\u001b[0m \u001b[0;34m=\u001b[0m \u001b[0mimportlib\u001b[0m\u001b[0;34m.\u001b[0m\u001b[0mimport_module\u001b[0m\u001b[0;34m(\u001b[0m\u001b[0mmodname\u001b[0m\u001b[0;34m)\u001b[0m\u001b[0;34m\u001b[0m\u001b[0;34m\u001b[0m\u001b[0m\n\u001b[0m\u001b[1;32m     26\u001b[0m     \u001b[0mlisterclass\u001b[0m \u001b[0;34m=\u001b[0m \u001b[0mgetattr\u001b[0m\u001b[0;34m(\u001b[0m\u001b[0mmodobject\u001b[0m\u001b[0;34m,\u001b[0m \u001b[0mclassname\u001b[0m\u001b[0;34m)\u001b[0m\u001b[0;34m\u001b[0m\u001b[0;34m\u001b[0m\u001b[0m\n\u001b[1;32m     27\u001b[0m     \u001b[0mtester\u001b[0m\u001b[0;34m(\u001b[0m\u001b[0mlisterclass\u001b[0m\u001b[0;34m,\u001b[0m \u001b[0msept\u001b[0m\u001b[0;34m)\u001b[0m\u001b[0;34m\u001b[0m\u001b[0;34m\u001b[0m\u001b[0m\n",
      "\u001b[0;32m/anaconda3/lib/python3.7/importlib/__init__.py\u001b[0m in \u001b[0;36mimport_module\u001b[0;34m(name, package)\u001b[0m\n\u001b[1;32m    125\u001b[0m                 \u001b[0;32mbreak\u001b[0m\u001b[0;34m\u001b[0m\u001b[0;34m\u001b[0m\u001b[0m\n\u001b[1;32m    126\u001b[0m             \u001b[0mlevel\u001b[0m \u001b[0;34m+=\u001b[0m \u001b[0;36m1\u001b[0m\u001b[0;34m\u001b[0m\u001b[0;34m\u001b[0m\u001b[0m\n\u001b[0;32m--> 127\u001b[0;31m     \u001b[0;32mreturn\u001b[0m \u001b[0m_bootstrap\u001b[0m\u001b[0;34m.\u001b[0m\u001b[0m_gcd_import\u001b[0m\u001b[0;34m(\u001b[0m\u001b[0mname\u001b[0m\u001b[0;34m[\u001b[0m\u001b[0mlevel\u001b[0m\u001b[0;34m:\u001b[0m\u001b[0;34m]\u001b[0m\u001b[0;34m,\u001b[0m \u001b[0mpackage\u001b[0m\u001b[0;34m,\u001b[0m \u001b[0mlevel\u001b[0m\u001b[0;34m)\u001b[0m\u001b[0;34m\u001b[0m\u001b[0;34m\u001b[0m\u001b[0m\n\u001b[0m\u001b[1;32m    128\u001b[0m \u001b[0;34m\u001b[0m\u001b[0m\n\u001b[1;32m    129\u001b[0m \u001b[0;34m\u001b[0m\u001b[0m\n",
      "\u001b[0;32m/anaconda3/lib/python3.7/importlib/_bootstrap.py\u001b[0m in \u001b[0;36m_gcd_import\u001b[0;34m(name, package, level)\u001b[0m\n",
      "\u001b[0;32m/anaconda3/lib/python3.7/importlib/_bootstrap.py\u001b[0m in \u001b[0;36m_find_and_load\u001b[0;34m(name, import_)\u001b[0m\n",
      "\u001b[0;32m/anaconda3/lib/python3.7/importlib/_bootstrap.py\u001b[0m in \u001b[0;36m_find_and_load_unlocked\u001b[0;34m(name, import_)\u001b[0m\n",
      "\u001b[0;31mModuleNotFoundError\u001b[0m: No module named 'listinstance'"
     ]
    }
   ],
   "source": [
    "# File testmixin.py\n",
    "\"\"\"\n",
    "Generic lister mixin tester: similar to transitive reloader in chapter 25, but passes a class\n",
    "object to tester (not function), and testByNames adds loading of both module and class\n",
    "by name strings here, in keeping with Chapter 31's factories pattern.\n",
    "\"\"\"\n",
    "import importlib\n",
    "def tester(listerclass, sept=False):\n",
    "    class Super:\n",
    "        def __init__(self):\n",
    "            self.data1 = 'spam'\n",
    "        def ham(self):\n",
    "            pass\n",
    "    class Sub(Super, listerclass):\n",
    "        def __init__(self):\n",
    "            Super.__init__(self)\n",
    "            self.data2 = 'eggs'\n",
    "            self.data3 = 42\n",
    "        def spam(self):\n",
    "            pass\n",
    "    instance = Sub()\n",
    "    print(instance)\n",
    "    if sept: print('-' * 80)\n",
    "def testByNames(modname, classname, sept=False):\n",
    "    modobject = importlib.import_module(modname)\n",
    "    listerclass = getattr(modobject, classname)\n",
    "    tester(listerclass, sept)\n",
    "\n",
    "if __name__ == '__main__':\n",
    "    testByNames('listinstance', 'ListInstance', True)\n",
    "    testByNames('listinherited', 'ListInherited', True) \n",
    "    testByNames('listtree', 'ListTree', False)"
   ]
  },
  {
   "cell_type": "code",
   "execution_count": 25,
   "metadata": {},
   "outputs": [
    {
     "name": "stdout",
     "output_type": "stream",
     "text": [
      "<Instance of Sub, address 4463995592:\n",
      "Unders-----------------------------------------------------------------------------\n",
      "    __class__, __delattr__, __dict__, __dir__, __doc__, __eq__, __format__, __ge__, __getattribute__, __gt__, __hash__, __init__, __init_subclass__, __le__, __lt__, __module__, __ne__, __new__, __reduce__, __reduce_ex__, __repr__, __setattr__, __sizeof__, __str__, __subclasshook__, __weakref__\n",
      "Others-----------------------------------------------------------------------------\n",
      "    _ListInstance__attrnames=<bound method ListInstance.__attrnames of <testmixin.t\n",
      "    data1=spam\n",
      "    data2=eggs\n",
      "    data3=42\n",
      "    ham=<bound method tester.<locals>.Super.ham of <testmixin.tester.<locals>.Sub o\n",
      "    spam=<bound method tester.<locals>.Sub.spam of <testmixin.tester.<locals>.Sub o\n",
      ">\n"
     ]
    }
   ],
   "source": [
    "# Coding Mix-in Display Classes\n",
    "class ListInstance:\n",
    "    def __attrnames(self, indent=' ' * 4):\n",
    "        # Notice how it escapes a %s with %% so that just one remains for the final\n",
    "        # formatting operation at the end!!!\n",
    "        result = 'Unders%s\\n%s%%s\\nOthers%s\\n' % ('-' * 77, indent, '-' * 77)\n",
    "        unders = []\n",
    "        for attr in dir(self):\n",
    "            if attr[:2] == '__' and attr[-2:] == '__':\n",
    "                unders.append(attr)\n",
    "            else:\n",
    "                display = str(getattr(self, attr))[:82-len(indent)-len(attr)]\n",
    "                result += '%s%s=%s\\n' % (indent, attr, display)\n",
    "        return result % ', '.join(unders)\n",
    "    def __str__(self):\n",
    "        return '<Instance of %s, address %s:\\n%s>' % (\n",
    "        self.__class__.__name__,\n",
    "        id(self),\n",
    "        self.__attrnames())\n",
    "if __name__ == '__main__':\n",
    "    import testmixin\n",
    "    testmixin.tester(ListInstance)"
   ]
  },
  {
   "cell_type": "code",
   "execution_count": 28,
   "metadata": {
    "scrolled": true
   },
   "outputs": [
    {
     "name": "stdout",
     "output_type": "stream",
     "text": [
      "<Instance of Sub, address 4463433376:\n",
      " _ListTree__visited={}\n",
      " data1=spam\n",
      " data2=eggs\n",
      " data3=42\n",
      "\n",
      "....<Class Sub, address 140591623631032:\n",
      "     __doc__\n",
      "     __init__\n",
      "     __module__\n",
      "     spam=<function tester.<locals>.Sub.spam at 0x10a0a1f28>\n",
      "\n",
      "........<Class Super, address 140591623630104:\n",
      "         __dict__\n",
      "         __doc__\n",
      "         __init__\n",
      "         __module__\n",
      "         __weakref__\n",
      "         ham=<function tester.<locals>.Super.ham at 0x10a0a1e18>\n",
      "\n",
      "............<Class object, address 4424811816:\n",
      "             __class__\n",
      "             __delattr__\n",
      "             __dir__\n",
      "             __doc__\n",
      "             __eq__\n",
      "             __format__\n",
      "             __ge__\n",
      "             __getattribute__\n",
      "             __gt__\n",
      "             __hash__\n",
      "             __init__\n",
      "             __init_subclass__\n",
      "             __le__\n",
      "             __lt__\n",
      "             __ne__\n",
      "             __new__\n",
      "             __reduce__\n",
      "             __reduce_ex__\n",
      "             __repr__\n",
      "             __setattr__\n",
      "             __sizeof__\n",
      "             __str__\n",
      "             __subclasshook__\n",
      "............>\n",
      "........>\n",
      "\n",
      "........<Class ListTree, address 140591623610872:\n",
      "         _ListTree__attrnames=<function ListTree.__attrnames at 0x10a0a1b70>\n",
      "         _ListTree__listclass=<function ListTree.__listclass at 0x10a0a10d0>\n",
      "         __dict__\n",
      "         __doc__\n",
      "         __module__\n",
      "         __str__\n",
      "         __weakref__\n",
      "\n",
      "............<Class object:, address 4424811816: (see above)>\n",
      "........>\n",
      "....>\n",
      ">\n"
     ]
    }
   ],
   "source": [
    "# FIle listtree.py\n",
    "class ListTree:\n",
    "    \"\"\"\n",
    "    Mix-in that returns an __str__ trace of the entire class tree and all its object's attrs at\n",
    "    above self; run by print(), str() returns constructed string; uses __X attr names to avoid\n",
    "    impacting clients; recurses to superclasses explicitly, uses str.format() for clarity;\n",
    "    \"\"\"\n",
    "    def __attrnames(self, obj, indent):\n",
    "        spaces = ' ' * (indent + 1)\n",
    "        result = ''\n",
    "        for attr in sorted(obj.__dict__):\n",
    "            if attr.startswith('__') and attr.endswith('__'):\n",
    "                result += spaces + '{0}\\n'.format(attr)\n",
    "            else:\n",
    "                result += spaces + '{0}={1}\\n'.format(attr, getattr(obj, attr))\n",
    "        return result\n",
    "    def __listclass(self, aClass, indent):\n",
    "        dots = '.' * indent\n",
    "        if aClass in self.__visited:\n",
    "            return '\\n{0}<Class {1}:, address {2}: (see above)>\\n'.format(\n",
    "                        dots,\n",
    "                        aClass.__name__,\n",
    "                        id(aClass))\n",
    "        else:\n",
    "            self.__visited[aClass] = True\n",
    "            here = self.__attrnames(aClass, indent)\n",
    "            above = ''\n",
    "            for super in aClass.__bases__:\n",
    "                above += self.__listclass(super, indent + 4)\n",
    "            return '\\n{0}<Class {1}, address {2}:\\n{3}{4}{5}>\\n'.format(\n",
    "                dots,\n",
    "                aClass.__name__,\n",
    "                id(aClass),\n",
    "                here, above,\n",
    "                dots)\n",
    "    def __str__(self):\n",
    "            self.__visited = {}\n",
    "            here = self.__attrnames(self, 0)\n",
    "            above = self.__listclass(self.__class__, 4)\n",
    "            return '<Instance of {0}, address {1}:\\n{2}{3}>'.format(\n",
    "                self.__class__.__name__,\n",
    "                id(self),\n",
    "                here, above)\n",
    "if __name__ == '__main__':\n",
    "    import testmixin\n",
    "    testmixin.tester(ListTree)"
   ]
  },
  {
   "cell_type": "code",
   "execution_count": null,
   "metadata": {},
   "outputs": [],
   "source": []
  },
  {
   "cell_type": "code",
   "execution_count": null,
   "metadata": {},
   "outputs": [],
   "source": []
  },
  {
   "cell_type": "code",
   "execution_count": null,
   "metadata": {},
   "outputs": [],
   "source": []
  },
  {
   "cell_type": "code",
   "execution_count": null,
   "metadata": {},
   "outputs": [],
   "source": []
  },
  {
   "cell_type": "code",
   "execution_count": null,
   "metadata": {},
   "outputs": [],
   "source": []
  },
  {
   "cell_type": "code",
   "execution_count": null,
   "metadata": {},
   "outputs": [],
   "source": []
  },
  {
   "cell_type": "code",
   "execution_count": null,
   "metadata": {},
   "outputs": [],
   "source": []
  },
  {
   "cell_type": "code",
   "execution_count": null,
   "metadata": {},
   "outputs": [],
   "source": []
  },
  {
   "cell_type": "code",
   "execution_count": null,
   "metadata": {},
   "outputs": [],
   "source": []
  },
  {
   "cell_type": "code",
   "execution_count": null,
   "metadata": {},
   "outputs": [],
   "source": []
  },
  {
   "cell_type": "code",
   "execution_count": null,
   "metadata": {},
   "outputs": [],
   "source": []
  },
  {
   "cell_type": "code",
   "execution_count": null,
   "metadata": {},
   "outputs": [],
   "source": []
  },
  {
   "cell_type": "code",
   "execution_count": null,
   "metadata": {},
   "outputs": [],
   "source": []
  },
  {
   "cell_type": "code",
   "execution_count": null,
   "metadata": {},
   "outputs": [],
   "source": []
  },
  {
   "cell_type": "code",
   "execution_count": null,
   "metadata": {},
   "outputs": [],
   "source": []
  },
  {
   "cell_type": "code",
   "execution_count": null,
   "metadata": {},
   "outputs": [],
   "source": []
  },
  {
   "cell_type": "code",
   "execution_count": null,
   "metadata": {},
   "outputs": [],
   "source": []
  },
  {
   "cell_type": "code",
   "execution_count": null,
   "metadata": {},
   "outputs": [],
   "source": []
  },
  {
   "cell_type": "code",
   "execution_count": null,
   "metadata": {},
   "outputs": [],
   "source": []
  },
  {
   "cell_type": "code",
   "execution_count": null,
   "metadata": {},
   "outputs": [],
   "source": []
  },
  {
   "cell_type": "code",
   "execution_count": null,
   "metadata": {},
   "outputs": [],
   "source": []
  },
  {
   "cell_type": "code",
   "execution_count": null,
   "metadata": {},
   "outputs": [],
   "source": []
  },
  {
   "cell_type": "code",
   "execution_count": null,
   "metadata": {},
   "outputs": [],
   "source": []
  },
  {
   "cell_type": "code",
   "execution_count": null,
   "metadata": {},
   "outputs": [],
   "source": []
  },
  {
   "cell_type": "code",
   "execution_count": null,
   "metadata": {},
   "outputs": [],
   "source": []
  },
  {
   "cell_type": "code",
   "execution_count": null,
   "metadata": {},
   "outputs": [],
   "source": []
  },
  {
   "cell_type": "code",
   "execution_count": null,
   "metadata": {},
   "outputs": [],
   "source": []
  },
  {
   "cell_type": "code",
   "execution_count": null,
   "metadata": {},
   "outputs": [],
   "source": []
  },
  {
   "cell_type": "code",
   "execution_count": null,
   "metadata": {},
   "outputs": [],
   "source": []
  },
  {
   "cell_type": "code",
   "execution_count": null,
   "metadata": {},
   "outputs": [],
   "source": []
  },
  {
   "cell_type": "code",
   "execution_count": null,
   "metadata": {},
   "outputs": [],
   "source": []
  },
  {
   "cell_type": "code",
   "execution_count": null,
   "metadata": {},
   "outputs": [],
   "source": []
  },
  {
   "cell_type": "code",
   "execution_count": null,
   "metadata": {},
   "outputs": [],
   "source": []
  },
  {
   "cell_type": "code",
   "execution_count": null,
   "metadata": {},
   "outputs": [],
   "source": []
  },
  {
   "cell_type": "code",
   "execution_count": null,
   "metadata": {},
   "outputs": [],
   "source": []
  },
  {
   "cell_type": "code",
   "execution_count": null,
   "metadata": {},
   "outputs": [],
   "source": []
  },
  {
   "cell_type": "code",
   "execution_count": null,
   "metadata": {},
   "outputs": [],
   "source": []
  },
  {
   "cell_type": "code",
   "execution_count": null,
   "metadata": {},
   "outputs": [],
   "source": []
  },
  {
   "cell_type": "code",
   "execution_count": null,
   "metadata": {},
   "outputs": [],
   "source": []
  },
  {
   "cell_type": "code",
   "execution_count": null,
   "metadata": {},
   "outputs": [],
   "source": []
  },
  {
   "cell_type": "code",
   "execution_count": null,
   "metadata": {},
   "outputs": [],
   "source": []
  },
  {
   "cell_type": "code",
   "execution_count": null,
   "metadata": {},
   "outputs": [],
   "source": []
  },
  {
   "cell_type": "code",
   "execution_count": null,
   "metadata": {},
   "outputs": [],
   "source": []
  },
  {
   "cell_type": "code",
   "execution_count": null,
   "metadata": {},
   "outputs": [],
   "source": []
  },
  {
   "cell_type": "code",
   "execution_count": null,
   "metadata": {},
   "outputs": [],
   "source": []
  },
  {
   "cell_type": "code",
   "execution_count": null,
   "metadata": {},
   "outputs": [],
   "source": []
  },
  {
   "cell_type": "code",
   "execution_count": null,
   "metadata": {},
   "outputs": [],
   "source": []
  },
  {
   "cell_type": "code",
   "execution_count": null,
   "metadata": {},
   "outputs": [],
   "source": []
  }
 ],
 "metadata": {
  "kernelspec": {
   "display_name": "Python 3",
   "language": "python",
   "name": "python3"
  },
  "language_info": {
   "codemirror_mode": {
    "name": "ipython",
    "version": 3
   },
   "file_extension": ".py",
   "mimetype": "text/x-python",
   "name": "python",
   "nbconvert_exporter": "python",
   "pygments_lexer": "ipython3",
   "version": "3.7.2"
  },
  "toc": {
   "base_numbering": 1,
   "nav_menu": {},
   "number_sections": true,
   "sideBar": true,
   "skip_h1_title": false,
   "title_cell": "Table of Contents",
   "title_sidebar": "Contents",
   "toc_cell": false,
   "toc_position": {},
   "toc_section_display": true,
   "toc_window_display": false
  }
 },
 "nbformat": 4,
 "nbformat_minor": 2
}
