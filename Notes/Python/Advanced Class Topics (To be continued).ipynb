{
 "cells": [
  {
   "cell_type": "markdown",
   "metadata": {},
   "source": [
    "# Advanced Class Topics"
   ]
  },
  {
   "cell_type": "code",
   "execution_count": 1,
   "metadata": {},
   "outputs": [],
   "source": [
    "from IPython.core.interactiveshell import InteractiveShell\n",
    "InteractiveShell.ast_node_interactivity = \"all\"\n",
    "\n",
    "import os\n",
    "os.getcwd()\n",
    "os.chdir('/Users/fizz/Document/Notes/Python/codes')"
   ]
  },
  {
   "cell_type": "code",
   "execution_count": null,
   "metadata": {},
   "outputs": [],
   "source": [
    "# Extending Types by Embedding\n",
    "class Set:\n",
    "    def __init__(self, value=[]):\n",
    "        self.data = []\n",
    "        self.concat(value)\n",
    "    def intersect(self, other):\n",
    "        res = []\n",
    "        for x in self.data:\n",
    "            if x in other:\n",
    "                res.append(x)\n",
    "        return Set(res)\n",
    "    def union(self, other):\n",
    "        res = self.data[:]\n",
    "        for x in other:\n",
    "            if not x in res:\n",
    "                res.append(x)\n",
    "        return res\n",
    "    def concat(self, value):\n",
    "        for x in value:\n",
    "            if not x in self.data:\n",
    "                self.data.append(x)\n",
    "    def __len__(self): return len(self.data)\n",
    "    def __getitem__(self, key): return self.data[key]\n",
    "    def __and__(self, other): return self.intersect(other)\n",
    "    def __or__(self, other): return self.union(other)\n",
    "    def __repr__(self): return 'Set:' + repr(self.data)\n",
    "    def __iter__(self): return iter(self.data)"
   ]
  },
  {
   "cell_type": "code",
   "execution_count": 18,
   "metadata": {},
   "outputs": [
    {
     "name": "stdout",
     "output_type": "stream",
     "text": [
      "Set:[1, 3, 5, 7] Set:[2, 1, 4, 5, 6] 4\n",
      "Set:[1, 5] Set:[2, 1, 4, 5, 6, 3, 7]\n",
      "Set:[1, 5] Set:[1, 3, 5, 7, 2, 4, 6]\n",
      "Set:[7, 5, 3, 1]\n"
     ]
    }
   ],
   "source": [
    "# Extending Types by Subclassing\n",
    "class Set(list):\n",
    "    def __init__(self, value=[]):\n",
    "        self.concat(value)\n",
    "    def intersect(self, other):\n",
    "        res = []\n",
    "        for x in self:\n",
    "            if x in other:\n",
    "                res.append(x)\n",
    "        return Set(res)\n",
    "    def union(self, other):\n",
    "        res = Set(self)\n",
    "        res.concat(other)\n",
    "        return res\n",
    "    def concat(self, value):\n",
    "        for x in value:\n",
    "            if not x in self:\n",
    "                self.append(x)\n",
    "    def __and__(self, other): return self.intersect(other)\n",
    "    def __or__(self, other): return self.union(other)\n",
    "    def __repr__(self): return 'Set:' + list.__repr__(self)\n",
    "\n",
    "x = Set([1,3,5,7])\n",
    "y = Set([2,1,4,5,6])\n",
    "print(x, y, len(x)) \n",
    "print(x.intersect(y), y.union(x)) \n",
    "print(x & y, x | y)\n",
    "x.reverse(); print(x)"
   ]
  },
  {
   "cell_type": "markdown",
   "metadata": {},
   "source": [
    "## The 'New Style' Class Model"
   ]
  },
  {
   "cell_type": "markdown",
   "metadata": {},
   "source": [
    "In Python 3.X, all classes are automatically what were formerly called \"new style,\" whether they explicitly inherit from __objec__ or not. Coding the __objec__ superclass is optional and implied."
   ]
  },
  {
   "cell_type": "markdown",
   "metadata": {},
   "source": [
    "* Attribute Fetch for Built-in Skips Instances  \n",
    " In new-style classes (and hence all classes in 3.X), the generic instance attribute interception methods **\\_\\_getattr\\_\\_** and **\\_\\_getattribute\\_\\_** are no longer called by built-in operations for **\\_\\_X\\_\\_** operation overloading method names - the search for such names begins at classes, not instances. Attributes accessed by explicit name, however, are routed through these method, even if they are **\\_\\_X\\_\\_** names. Hence, this is primarily a change to the behavior of built-in operations."
   ]
  },
  {
   "cell_type": "code",
   "execution_count": 27,
   "metadata": {},
   "outputs": [
    {
     "name": "stdout",
     "output_type": "stream",
     "text": [
      "normal\n",
      "__add__\n"
     ]
    },
    {
     "ename": "TypeError",
     "evalue": "unsupported operand type(s) for +: 'C' and 'int'",
     "output_type": "error",
     "traceback": [
      "\u001b[0;31m---------------------------------------------------------------------------\u001b[0m",
      "\u001b[0;31mTypeError\u001b[0m                                 Traceback (most recent call last)",
      "\u001b[0;32m<ipython-input-27-5c547a2ace12>\u001b[0m in \u001b[0;36m<module>\u001b[0;34m()\u001b[0m\n\u001b[1;32m      4\u001b[0m \u001b[0mX\u001b[0m\u001b[0;34m.\u001b[0m\u001b[0mnormal\u001b[0m\u001b[0;34m\u001b[0m\u001b[0;34m\u001b[0m\u001b[0m\n\u001b[1;32m      5\u001b[0m \u001b[0mX\u001b[0m\u001b[0;34m.\u001b[0m\u001b[0m__add__\u001b[0m\u001b[0;34m\u001b[0m\u001b[0;34m\u001b[0m\u001b[0m\n\u001b[0;32m----> 6\u001b[0;31m \u001b[0mX\u001b[0m \u001b[0;34m+\u001b[0m \u001b[0;36m1\u001b[0m\u001b[0;34m\u001b[0m\u001b[0;34m\u001b[0m\u001b[0m\n\u001b[0m",
      "\u001b[0;31mTypeError\u001b[0m: unsupported operand type(s) for +: 'C' and 'int'"
     ]
    }
   ],
   "source": [
    "class C:\n",
    "    def __getattr__(self, name): print(name)\n",
    "X = C()\n",
    "X.normal\n",
    "X.__add__\n",
    "X + 1"
   ]
  },
  {
   "cell_type": "code",
   "execution_count": 42,
   "metadata": {},
   "outputs": [
    {
     "name": "stdout",
     "output_type": "stream",
     "text": [
      "normal\n",
      "__add__\n"
     ]
    },
    {
     "ename": "AttributeError",
     "evalue": "type object 'C' has no attribute '__add__'",
     "output_type": "error",
     "traceback": [
      "\u001b[0;31m---------------------------------------------------------------------------\u001b[0m",
      "\u001b[0;31mAttributeError\u001b[0m                            Traceback (most recent call last)",
      "\u001b[0;32m<ipython-input-42-1c75dd990687>\u001b[0m in \u001b[0;36m<module>\u001b[0;34m()\u001b[0m\n\u001b[1;32m      5\u001b[0m \u001b[0mX\u001b[0m\u001b[0;34m.\u001b[0m\u001b[0mnormal\u001b[0m\u001b[0;34m\u001b[0m\u001b[0;34m\u001b[0m\u001b[0m\n\u001b[1;32m      6\u001b[0m \u001b[0mX\u001b[0m\u001b[0;34m.\u001b[0m\u001b[0m__add__\u001b[0m\u001b[0;34m\u001b[0m\u001b[0;34m\u001b[0m\u001b[0m\n\u001b[0;32m----> 7\u001b[0;31m \u001b[0mtype\u001b[0m\u001b[0;34m(\u001b[0m\u001b[0mX\u001b[0m\u001b[0;34m)\u001b[0m\u001b[0;34m.\u001b[0m\u001b[0m__add__\u001b[0m\u001b[0;34m\u001b[0m\u001b[0;34m\u001b[0m\u001b[0m\n\u001b[0m\u001b[1;32m      8\u001b[0m \u001b[0mX\u001b[0m \u001b[0;34m+\u001b[0m \u001b[0;36m1\u001b[0m\u001b[0;34m\u001b[0m\u001b[0;34m\u001b[0m\u001b[0m\n",
      "\u001b[0;31mAttributeError\u001b[0m: type object 'C' has no attribute '__add__'"
     ]
    }
   ],
   "source": [
    "class C:\n",
    "    def __getattr__(self, name):\n",
    "        print(name)\n",
    "X = C()\n",
    "X.normal\n",
    "X.__add__\n",
    "X + 1"
   ]
  },
  {
   "cell_type": "code",
   "execution_count": 53,
   "metadata": {},
   "outputs": [
    {
     "name": "stdout",
     "output_type": "stream",
     "text": [
      "getattr: upper\n"
     ]
    },
    {
     "data": {
      "text/plain": [
       "'SPAM'"
      ]
     },
     "execution_count": 53,
     "metadata": {},
     "output_type": "execute_result"
    },
    {
     "name": "stdout",
     "output_type": "stream",
     "text": [
      "getitem: 1\n"
     ]
    },
    {
     "data": {
      "text/plain": [
       "'p'"
      ]
     },
     "execution_count": 53,
     "metadata": {},
     "output_type": "execute_result"
    },
    {
     "name": "stdout",
     "output_type": "stream",
     "text": [
      "getitem: 1\n"
     ]
    },
    {
     "data": {
      "text/plain": [
       "'p'"
      ]
     },
     "execution_count": 53,
     "metadata": {},
     "output_type": "execute_result"
    }
   ],
   "source": [
    "class C:\n",
    "    data = 'spam'\n",
    "    def __getattr__(self, name):\n",
    "        print('getattr: ' + name)\n",
    "        return getattr(self.data, name)\n",
    "    def __getitem__(self, i):\n",
    "        print('getitem: ' + str(i))\n",
    "        return self.data[i]\n",
    "    def __add__(self, other):\n",
    "        print('add: ' + other)\n",
    "        return getattr(self.data, '__add__')(other)\n",
    "X = C()\n",
    "X.upper()\n",
    "X[1]\n",
    "type(X).__getitem__(X, 1)"
   ]
  },
  {
   "cell_type": "markdown",
   "metadata": {},
   "source": [
    "Type Model Changes  \n",
    "* Classes are types  \n",
    " The __type__ object generates classes as its instances, and classes generate instances of themselves. Both are considered types, because they generate instances. In fact, there is no real difference between built-in types like lists and strings and user-defined types coded as classes.\n",
    " \n",
    "* Types are classes  \n",
    "  ......"
   ]
  },
  {
   "cell_type": "code",
   "execution_count": 57,
   "metadata": {},
   "outputs": [
    {
     "data": {
      "text/plain": [
       "(__main__.C, __main__.C)"
      ]
     },
     "execution_count": 57,
     "metadata": {},
     "output_type": "execute_result"
    },
    {
     "data": {
      "text/plain": [
       "(type, type)"
      ]
     },
     "execution_count": 57,
     "metadata": {},
     "output_type": "execute_result"
    },
    {
     "data": {
      "text/plain": [
       "(list, list)"
      ]
     },
     "execution_count": 57,
     "metadata": {},
     "output_type": "execute_result"
    },
    {
     "data": {
      "text/plain": [
       "(type, type)"
      ]
     },
     "execution_count": 57,
     "metadata": {},
     "output_type": "execute_result"
    },
    {
     "data": {
      "text/plain": [
       "True"
      ]
     },
     "execution_count": 57,
     "metadata": {},
     "output_type": "execute_result"
    },
    {
     "data": {
      "text/plain": [
       "True"
      ]
     },
     "execution_count": 57,
     "metadata": {},
     "output_type": "execute_result"
    }
   ],
   "source": [
    "class C: pass\n",
    "I = C()\n",
    "type(I), I.__class__\n",
    "type(C), C.__class__\n",
    "type([1, 2, 3]), [1, 2, 3].__class__\n",
    "type(list), list.__class__\n",
    "\n",
    "isinstance(X, object)\n",
    "isinstance(C, object)"
   ]
  },
  {
   "cell_type": "code",
   "execution_count": 59,
   "metadata": {},
   "outputs": [
    {
     "data": {
      "text/plain": [
       "(type, type)"
      ]
     },
     "execution_count": 59,
     "metadata": {},
     "output_type": "execute_result"
    },
    {
     "data": {
      "text/plain": [
       "(True, True)"
      ]
     },
     "execution_count": 59,
     "metadata": {},
     "output_type": "execute_result"
    },
    {
     "data": {
      "text/plain": [
       "False"
      ]
     },
     "execution_count": 59,
     "metadata": {},
     "output_type": "execute_result"
    }
   ],
   "source": [
    "type(type), type(object)\n",
    "isinstance(type, object), isinstance(object, type)\n",
    "type is object"
   ]
  },
  {
   "cell_type": "markdown",
   "metadata": {},
   "source": [
    "Diamond Inheritance Change  \n",
    "* For classic classes (the default in 2.X): __DFLR__  \n",
    " The inheritance search path is strictly depth first, and then left to right - Python climbs all the way to the top, hugging the left side of the tree, before it backs up and begins to look further to the right.  \n",
    "* For new-style classes (optional in 2.X and automatic in 3.X): __MRO__  \n",
    " The inheritance search path is more breadth-first in diamond cases - Python first looks in any superclasses to the right of the one just searched before ascending to the common superclass at the top. In other words, this search proceeds across by levels before moving up. This search order is called the new-style _MRO_ for \"method resolution order\". Despite the name, this is used for all attributes in Python, not just methods."
   ]
  },
  {
   "cell_type": "code",
   "execution_count": 63,
   "metadata": {},
   "outputs": [
    {
     "data": {
      "text/plain": [
       "2"
      ]
     },
     "execution_count": 63,
     "metadata": {},
     "output_type": "execute_result"
    }
   ],
   "source": [
    "class A: attr = 1\n",
    "class B(A): pass\n",
    "class C(A): attr = 2\n",
    "class D(B, C): pass\n",
    "X = D()       # Searches X, D, B, C\n",
    "X.attr"
   ]
  },
  {
   "cell_type": "code",
   "execution_count": 64,
   "metadata": {},
   "outputs": [
    {
     "data": {
      "text/plain": [
       "1"
      ]
     },
     "execution_count": 64,
     "metadata": {},
     "output_type": "execute_result"
    }
   ],
   "source": [
    "class A: attr = 1\n",
    "class B(A): pass\n",
    "class C: attr = 2\n",
    "class D(B, C): pass\n",
    "X = D()\n",
    "X.attr"
   ]
  },
  {
   "cell_type": "code",
   "execution_count": 76,
   "metadata": {
    "scrolled": true
   },
   "outputs": [
    {
     "data": {
      "text/plain": [
       "(__main__.D, __main__.B, __main__.C, __main__.A, object)"
      ]
     },
     "execution_count": 76,
     "metadata": {},
     "output_type": "execute_result"
    },
    {
     "data": {
      "text/plain": [
       "(__main__.D, __main__.B, __main__.A, __main__.C, object)"
      ]
     },
     "execution_count": 76,
     "metadata": {},
     "output_type": "execute_result"
    },
    {
     "data": {
      "text/plain": [
       "(__main__.D, __main__.B, __main__.C, __main__.A, object)"
      ]
     },
     "execution_count": 76,
     "metadata": {},
     "output_type": "execute_result"
    }
   ],
   "source": [
    "# Tracing the MRO\n",
    "class A: attr = 1\n",
    "class B(A): pass\n",
    "class C(A): attr = 2\n",
    "class D(B, C): pass\n",
    "D.__mro__\n",
    "\n",
    "# Nondiamonds\n",
    "class A: attr = 1\n",
    "class B(A): pass\n",
    "class C: attr = 2\n",
    "class D(B, C): pass\n",
    "D.__mro__\n",
    "\n",
    "class A: attr = 1\n",
    "class B: pass\n",
    "class C(A): attr = 2\n",
    "class D(B, C): pass\n",
    "D.__mro__"
   ]
  },
  {
   "cell_type": "code",
   "execution_count": 79,
   "metadata": {},
   "outputs": [
    {
     "data": {
      "text/plain": [
       "True"
      ]
     },
     "execution_count": 79,
     "metadata": {},
     "output_type": "execute_result"
    },
    {
     "data": {
      "text/plain": [
       "['D', 'B', 'C', 'A', 'object']"
      ]
     },
     "execution_count": 79,
     "metadata": {},
     "output_type": "execute_result"
    }
   ],
   "source": [
    "D.mro() == list(D.__mro__)\n",
    "[cls.__name__ for cls in D.__mro__]"
   ]
  },
  {
   "cell_type": "code",
   "execution_count": null,
   "metadata": {},
   "outputs": [],
   "source": [
    "\"\"\"\n",
    "File mapattrs.py (3.X + 2.X)\n",
    "Main tool: mapattrs() maps all attributes on or inherited by an instance to the instance or class from which they are inherited.\n",
    "Assumes dir() gives all attributes of an instance. To simulate inheritance, uses either the class's MRO tuple, which gives the search order for new-style classes (and all in 3.X), or a recursive traversal to infer the DFLR order of classic classes in 2.X.\n",
    "Also here: inheritance() gives version-neutral class ordering; assorted dictionary tools using 3.X/2.7 comprehensions.\n",
    "\"\"\"\n",
    "import pprint\n",
    "def trace(X, label='', end='\\n'):\n",
    "    print(label + pprint.pformat(X) + end)    # Print nicely\n",
    "def filterdictvals(D, V):\n",
    "    \"\"\"\n",
    "    dict D with entries for value V removed. \n",
    "    filterdictvals(dict(a=1, b=2, c=1), 1) => {'b': 2} \n",
    "    \"\"\"\n",
    "    return {K:V2 for K, V2 in D.items() if V2 != V}\n",
    "def invertdict(D):\n",
    "    \"\"\"\n",
    "    dict D with values changed to keys (grouped by values).\n",
    "    Values must all be hashable to work as dict/set keys.\n",
    "    inverdict(dict(a=1, b=2, c=1)) => {1: ['a', 'c'], 2: ['b']}\n",
    "    \"\"\"\n",
    "    def keysof(V):\n",
    "        return sorted(K for K in D.keys if D[K] == V)\n",
    "    return {V:keysof(V) for V in set(D.values())}\n",
    "def dflr(cls):\n",
    "    \"\"\"\n",
    "    Classic depth-first left-to-right order of class tree at cls.\n",
    "    Cycles not possible: Python disallows on __bases__ changes.\n",
    "    \"\"\"\n",
    "    here = [cls]\n",
    "    for sup in cls.__bases__:\n",
    "        here += dflr(sup)\n",
    "    return here\n",
    "def inheritance(instance):\n",
    "    \"\"\"\n",
    "    Inheritance order sequence: new-style (MRO) or classic (DFLR)\n",
    "    \"\"\"\n",
    "    if hasattr(instance.__class__, '__mro__'):\n",
    "        return (instance,) + instance.__class__.__mro__\n",
    "    else:\n",
    "        return [instance] + dflr(instance.__class__)\n",
    "def mapattrs(instance, withobject=False, bysource=False):\n",
    "    \"\"\"\n",
    "    dict with keys giving all inherited attributes of instance, with values giving the object that\n",
    "    each is inherited from.\n",
    "    withobject: False=remove object built-in class attributes.\n",
    "    bysource: True=group result by objects instead of attributes.\n",
    "    Supports classes with slots that preclude __dict__ in instances.\n",
    "    \"\"\"\n",
    "    attr2obj = {}\n",
    "    inherits = inheritance(instance)\n",
    "    for attr in dir(instance):\n",
    "        for obj in inherits:\n",
    "            if hasattr(obj, '__dict__') and attr in obj.__dict__:      # See slots\n",
    "                attr2obj[attr] = obj\n",
    "                break\n",
    "    if not withobject:\n",
    "        attr2obj = filterdictvals(attr2obj, object)\n",
    "    return attr2obj if not bysource else invertdict(attr2obj)\n",
    "\n",
    "if __name__ == '__main__':\n",
    "    print('Classic classes in 2.X, new-style in 3.X')\n",
    "    class A: attr1 = 1\n",
    "    class B(A): attr2 = 2\n",
    "    class C(A): attr1 = 3\n",
    "    class D(B, C): pass\n",
    "    I = D()\n",
    "    print('Py=>%s' % I.attr1)\n",
    "    ..."
   ]
  },
  {
   "cell_type": "markdown",
   "metadata": {},
   "source": [
    "New-Style Class Extensions  \n",
    "* Slot basics  \n",
    " To use slots, assign a sequence of stirng names to the special **\\_\\_slots\\_\\_** variable and attribute at the top level of a __class__ statement: only those names in the **\\_\\_slots\\_\\_** list can be assigned as instance attributes."
   ]
  },
  {
   "cell_type": "code",
   "execution_count": 84,
   "metadata": {},
   "outputs": [
    {
     "data": {
      "text/plain": [
       "40"
      ]
     },
     "execution_count": 84,
     "metadata": {},
     "output_type": "execute_result"
    },
    {
     "ename": "AttributeError",
     "evalue": "'limiter' object has no attribute 'ape'",
     "output_type": "error",
     "traceback": [
      "\u001b[0;31m---------------------------------------------------------------------------\u001b[0m",
      "\u001b[0;31mAttributeError\u001b[0m                            Traceback (most recent call last)",
      "\u001b[0;32m<ipython-input-84-c7e3a41e3add>\u001b[0m in \u001b[0;36m<module>\u001b[0;34m()\u001b[0m\n\u001b[1;32m      4\u001b[0m \u001b[0mx\u001b[0m\u001b[0;34m.\u001b[0m\u001b[0mage\u001b[0m \u001b[0;34m=\u001b[0m \u001b[0;36m40\u001b[0m\u001b[0;34m\u001b[0m\u001b[0;34m\u001b[0m\u001b[0m\n\u001b[1;32m      5\u001b[0m \u001b[0mx\u001b[0m\u001b[0;34m.\u001b[0m\u001b[0mage\u001b[0m\u001b[0;34m\u001b[0m\u001b[0;34m\u001b[0m\u001b[0m\n\u001b[0;32m----> 6\u001b[0;31m \u001b[0mx\u001b[0m\u001b[0;34m.\u001b[0m\u001b[0mape\u001b[0m \u001b[0;34m=\u001b[0m \u001b[0;36m1000\u001b[0m\u001b[0;34m\u001b[0m\u001b[0;34m\u001b[0m\u001b[0m\n\u001b[0m",
      "\u001b[0;31mAttributeError\u001b[0m: 'limiter' object has no attribute 'ape'"
     ]
    }
   ],
   "source": [
    "class limiter:\n",
    "    __slots__ = ['age', 'name', 'job']\n",
    "x = limiter()\n",
    "x.age = 40\n",
    "x.age\n",
    "x.ape = 1000    # not in __slots__"
   ]
  },
  {
   "cell_type": "code",
   "execution_count": 86,
   "metadata": {},
   "outputs": [
    {
     "data": {
      "text/plain": [
       "1"
      ]
     },
     "execution_count": 86,
     "metadata": {},
     "output_type": "execute_result"
    },
    {
     "data": {
      "text/plain": [
       "1"
      ]
     },
     "execution_count": 86,
     "metadata": {},
     "output_type": "execute_result"
    },
    {
     "data": {
      "text/plain": [
       "True"
      ]
     },
     "execution_count": 86,
     "metadata": {},
     "output_type": "execute_result"
    },
    {
     "data": {
      "text/plain": [
       "True"
      ]
     },
     "execution_count": 86,
     "metadata": {},
     "output_type": "execute_result"
    },
    {
     "ename": "AttributeError",
     "evalue": "'C' object has no attribute '__dict__'",
     "output_type": "error",
     "traceback": [
      "\u001b[0;31m---------------------------------------------------------------------------\u001b[0m",
      "\u001b[0;31mAttributeError\u001b[0m                            Traceback (most recent call last)",
      "\u001b[0;32m<ipython-input-86-4bfdf656ae61>\u001b[0m in \u001b[0;36m<module>\u001b[0;34m()\u001b[0m\n\u001b[1;32m      8\u001b[0m \u001b[0;34m'a'\u001b[0m \u001b[0;32min\u001b[0m \u001b[0mdir\u001b[0m\u001b[0;34m(\u001b[0m\u001b[0mX\u001b[0m\u001b[0;34m)\u001b[0m                   \u001b[0;31m# And dir() finds slot attributes too\u001b[0m\u001b[0;34m\u001b[0m\u001b[0;34m\u001b[0m\u001b[0m\n\u001b[1;32m      9\u001b[0m \u001b[0;34m'b'\u001b[0m \u001b[0;32min\u001b[0m \u001b[0mdir\u001b[0m\u001b[0;34m(\u001b[0m\u001b[0mX\u001b[0m\u001b[0;34m)\u001b[0m\u001b[0;34m\u001b[0m\u001b[0;34m\u001b[0m\u001b[0m\n\u001b[0;32m---> 10\u001b[0;31m \u001b[0mX\u001b[0m\u001b[0;34m.\u001b[0m\u001b[0m__dict__\u001b[0m\u001b[0;34m\u001b[0m\u001b[0;34m\u001b[0m\u001b[0m\n\u001b[0m",
      "\u001b[0;31mAttributeError\u001b[0m: 'C' object has no attribute '__dict__'"
     ]
    }
   ],
   "source": [
    "class C:\n",
    "    __slots__ = ['a', 'b']    # __slots__ means no __dict__ by default\n",
    "X = C()\n",
    "X.a = 1\n",
    "X.a\n",
    "getattr(X, 'a')                # But getattr() and setattr() still work\n",
    "setattr(X, 'b', 2)\n",
    "'a' in dir(X)                   # And dir() finds slot attributes too\n",
    "'b' in dir(X)\n",
    "X.__dict__"
   ]
  },
  {
   "cell_type": "code",
   "execution_count": 87,
   "metadata": {},
   "outputs": [
    {
     "ename": "AttributeError",
     "evalue": "'D' object has no attribute 'd'",
     "output_type": "error",
     "traceback": [
      "\u001b[0;31m---------------------------------------------------------------------------\u001b[0m",
      "\u001b[0;31mAttributeError\u001b[0m                            Traceback (most recent call last)",
      "\u001b[0;32m<ipython-input-87-c0ebbc3ac8f2>\u001b[0m in \u001b[0;36m<module>\u001b[0;34m()\u001b[0m\n\u001b[1;32m      5\u001b[0m     \u001b[0;32mdef\u001b[0m \u001b[0m__init__\u001b[0m\u001b[0;34m(\u001b[0m\u001b[0mself\u001b[0m\u001b[0;34m)\u001b[0m\u001b[0;34m:\u001b[0m\u001b[0;34m\u001b[0m\u001b[0;34m\u001b[0m\u001b[0m\n\u001b[1;32m      6\u001b[0m         \u001b[0mself\u001b[0m\u001b[0;34m.\u001b[0m\u001b[0md\u001b[0m \u001b[0;34m=\u001b[0m \u001b[0;36m4\u001b[0m\u001b[0;34m\u001b[0m\u001b[0;34m\u001b[0m\u001b[0m\n\u001b[0;32m----> 7\u001b[0;31m \u001b[0mX\u001b[0m \u001b[0;34m=\u001b[0m \u001b[0mD\u001b[0m\u001b[0;34m(\u001b[0m\u001b[0;34m)\u001b[0m\u001b[0;34m\u001b[0m\u001b[0;34m\u001b[0m\u001b[0m\n\u001b[0m",
      "\u001b[0;32m<ipython-input-87-c0ebbc3ac8f2>\u001b[0m in \u001b[0;36m__init__\u001b[0;34m(self)\u001b[0m\n\u001b[1;32m      4\u001b[0m     \u001b[0m__slots__\u001b[0m \u001b[0;34m=\u001b[0m \u001b[0;34m[\u001b[0m\u001b[0;34m'a'\u001b[0m\u001b[0;34m,\u001b[0m \u001b[0;34m'b'\u001b[0m\u001b[0;34m]\u001b[0m\u001b[0;34m\u001b[0m\u001b[0;34m\u001b[0m\u001b[0m\n\u001b[1;32m      5\u001b[0m     \u001b[0;32mdef\u001b[0m \u001b[0m__init__\u001b[0m\u001b[0;34m(\u001b[0m\u001b[0mself\u001b[0m\u001b[0;34m)\u001b[0m\u001b[0;34m:\u001b[0m\u001b[0;34m\u001b[0m\u001b[0;34m\u001b[0m\u001b[0m\n\u001b[0;32m----> 6\u001b[0;31m         \u001b[0mself\u001b[0m\u001b[0;34m.\u001b[0m\u001b[0md\u001b[0m \u001b[0;34m=\u001b[0m \u001b[0;36m4\u001b[0m\u001b[0;34m\u001b[0m\u001b[0;34m\u001b[0m\u001b[0m\n\u001b[0m\u001b[1;32m      7\u001b[0m \u001b[0mX\u001b[0m \u001b[0;34m=\u001b[0m \u001b[0mD\u001b[0m\u001b[0;34m(\u001b[0m\u001b[0;34m)\u001b[0m\u001b[0;34m\u001b[0m\u001b[0;34m\u001b[0m\u001b[0m\n",
      "\u001b[0;31mAttributeError\u001b[0m: 'D' object has no attribute 'd'"
     ]
    }
   ],
   "source": [
    "# Also keep in mind that without an attribute namespace dictionary, it's not possible to assign\n",
    "# new names to instances that are not in the slots list:\n",
    "class D:\n",
    "    __slots__ = ['a', 'b']\n",
    "    def __init__(self):\n",
    "        self.d = 4\n",
    "X = D()             # Cannot add new names if no __dict__"
   ]
  },
  {
   "cell_type": "code",
   "execution_count": 88,
   "metadata": {},
   "outputs": [
    {
     "data": {
      "text/plain": [
       "4"
      ]
     },
     "execution_count": 88,
     "metadata": {},
     "output_type": "execute_result"
    }
   ],
   "source": [
    "# We can still accommodate extra attributes, though, by including __dict__ explicitly in __slots__.\n",
    "# in order to create an attribute namespace dictionary too:\n",
    "class D:\n",
    "    __slots__ = ['a', 'b', '__dict__']       # Name __dict__ to include one too\n",
    "    c = 3                                        # Class attrs work normally\n",
    "    def __init__(self):\n",
    "        self.d = 4\n",
    "X = D()\n",
    "X.d"
   ]
  },
  {
   "cell_type": "markdown",
   "metadata": {},
   "source": [
    "P1013 To Be Continued"
   ]
  },
  {
   "cell_type": "code",
   "execution_count": null,
   "metadata": {},
   "outputs": [],
   "source": []
  },
  {
   "cell_type": "code",
   "execution_count": null,
   "metadata": {},
   "outputs": [],
   "source": []
  },
  {
   "cell_type": "code",
   "execution_count": null,
   "metadata": {},
   "outputs": [],
   "source": []
  },
  {
   "cell_type": "code",
   "execution_count": null,
   "metadata": {},
   "outputs": [],
   "source": []
  },
  {
   "cell_type": "code",
   "execution_count": null,
   "metadata": {},
   "outputs": [],
   "source": []
  },
  {
   "cell_type": "code",
   "execution_count": null,
   "metadata": {},
   "outputs": [],
   "source": []
  },
  {
   "cell_type": "code",
   "execution_count": null,
   "metadata": {},
   "outputs": [],
   "source": []
  },
  {
   "cell_type": "code",
   "execution_count": null,
   "metadata": {},
   "outputs": [],
   "source": []
  },
  {
   "cell_type": "code",
   "execution_count": null,
   "metadata": {},
   "outputs": [],
   "source": []
  },
  {
   "cell_type": "code",
   "execution_count": null,
   "metadata": {},
   "outputs": [],
   "source": []
  },
  {
   "cell_type": "code",
   "execution_count": null,
   "metadata": {},
   "outputs": [],
   "source": []
  },
  {
   "cell_type": "code",
   "execution_count": null,
   "metadata": {},
   "outputs": [],
   "source": []
  },
  {
   "cell_type": "code",
   "execution_count": null,
   "metadata": {},
   "outputs": [],
   "source": []
  },
  {
   "cell_type": "code",
   "execution_count": null,
   "metadata": {},
   "outputs": [],
   "source": []
  },
  {
   "cell_type": "code",
   "execution_count": null,
   "metadata": {},
   "outputs": [],
   "source": []
  },
  {
   "cell_type": "code",
   "execution_count": null,
   "metadata": {},
   "outputs": [],
   "source": []
  },
  {
   "cell_type": "code",
   "execution_count": null,
   "metadata": {},
   "outputs": [],
   "source": []
  },
  {
   "cell_type": "code",
   "execution_count": null,
   "metadata": {},
   "outputs": [],
   "source": []
  },
  {
   "cell_type": "code",
   "execution_count": null,
   "metadata": {},
   "outputs": [],
   "source": []
  },
  {
   "cell_type": "code",
   "execution_count": null,
   "metadata": {},
   "outputs": [],
   "source": []
  },
  {
   "cell_type": "code",
   "execution_count": 7,
   "metadata": {},
   "outputs": [
    {
     "name": "stdout",
     "output_type": "stream",
     "text": [
      "jiayu win!\n",
      "yiyun win!\n",
      "jiayu win!\n",
      "yiyun win!\n",
      "jiayu win!\n",
      "jiayu has longer legs than yiyun's!\n",
      "jiayu win!\n",
      "jiayu win!\n",
      "jiayu win!\n",
      "yiyun win!\n",
      "jiayu win!\n",
      "jiayu has longer legs than yiyun's!\n",
      "jiayu win!\n",
      "yiyun win!\n",
      "jiayu win!\n",
      "jiayu win!\n",
      "yiyun win!\n",
      "jiayu has longer legs than yiyun's!\n",
      "yiyun win!\n",
      "jiayu win!\n",
      "jiayu win!\n",
      "jiayu win!\n",
      "jiayu win!\n",
      "jiayu has longer legs than yiyun's!\n",
      "yiyun win!\n",
      "yiyun win!\n",
      "yiyun win!\n",
      "yiyun win!\n",
      "yiyun win!\n",
      "yiyun has longer legs than jiayu's!\n",
      "jiayu win!\n",
      "jiayu win!\n",
      "yiyun win!\n",
      "yiyun win!\n",
      "yiyun win!\n",
      "yiyun has longer legs than jiayu's!\n",
      "yiyun win!\n",
      "jiayu win!\n",
      "jiayu win!\n",
      "jiayu win!\n",
      "jiayu win!\n",
      "jiayu has longer legs than yiyun's!\n",
      "yiyun win!\n",
      "jiayu win!\n",
      "jiayu win!\n",
      "jiayu win!\n",
      "jiayu win!\n",
      "jiayu has longer legs than yiyun's!\n",
      "yiyun win!\n",
      "jiayu win!\n",
      "yiyun win!\n",
      "yiyun win!\n",
      "jiayu win!\n",
      "yiyun has longer legs than jiayu's!\n",
      "yiyun win!\n",
      "yiyun win!\n",
      "yiyun win!\n",
      "jiayu win!\n",
      "yiyun win!\n",
      "yiyun has longer legs than jiayu's!\n",
      "jiayu win!\n",
      "jiayu win!\n",
      "jiayu win!\n",
      "yiyun win!\n",
      "yiyun win!\n",
      "jiayu has longer legs than yiyun's!\n"
     ]
    },
    {
     "data": {
      "text/plain": [
       "7"
      ]
     },
     "execution_count": 7,
     "metadata": {},
     "output_type": "execute_result"
    }
   ],
   "source": [
    "game()"
   ]
  },
  {
   "cell_type": "code",
   "execution_count": 18,
   "metadata": {},
   "outputs": [
    {
     "name": "stdout",
     "output_type": "stream",
     "text": [
      "yiyun win!\n",
      "yiyun win!\n",
      "yiyun win!\n",
      "yiyun win!\n",
      "yiyun win!\n",
      "yiyun has longer legs than jiayu's!\n",
      "yiyun win!\n",
      "jiayu win!\n",
      "jiayu win!\n",
      "jiayu win!\n",
      "jiayu win!\n",
      "jiayu has longer legs than yiyun's!\n",
      "jiayu win!\n",
      "jiayu win!\n",
      "jiayu win!\n",
      "yiyun win!\n",
      "jiayu win!\n",
      "jiayu has longer legs than yiyun's!\n",
      "jiayu win!\n",
      "yiyun win!\n",
      "jiayu win!\n",
      "yiyun win!\n",
      "yiyun win!\n",
      "yiyun has longer legs than jiayu's!\n",
      "yiyun win!\n",
      "jiayu win!\n",
      "yiyun win!\n",
      "yiyun win!\n",
      "yiyun win!\n",
      "yiyun has longer legs than jiayu's!\n",
      "yiyun win!\n",
      "yiyun win!\n",
      "jiayu win!\n",
      "jiayu win!\n",
      "jiayu win!\n",
      "jiayu has longer legs than yiyun's!\n",
      "jiayu win!\n",
      "jiayu win!\n",
      "jiayu win!\n",
      "yiyun win!\n",
      "yiyun win!\n",
      "jiayu has longer legs than yiyun's!\n",
      "jiayu win!\n",
      "jiayu win!\n",
      "yiyun win!\n",
      "jiayu win!\n",
      "jiayu win!\n",
      "jiayu has longer legs than yiyun's!\n",
      "jiayu win!\n",
      "yiyun win!\n",
      "jiayu win!\n",
      "jiayu win!\n",
      "yiyun win!\n",
      "jiayu has longer legs than yiyun's!\n",
      "yiyun win!\n",
      "jiayu win!\n",
      "yiyun win!\n",
      "jiayu win!\n",
      "yiyun win!\n",
      "yiyun has longer legs than jiayu's!\n",
      "jiayu win!\n",
      "yiyun win!\n",
      "jiayu win!\n",
      "jiayu win!\n",
      "jiayu win!\n",
      "jiayu has longer legs than yiyun's!\n"
     ]
    },
    {
     "data": {
      "text/plain": [
       "7"
      ]
     },
     "execution_count": 18,
     "metadata": {},
     "output_type": "execute_result"
    }
   ],
   "source": [
    "game()"
   ]
  },
  {
   "cell_type": "code",
   "execution_count": 19,
   "metadata": {},
   "outputs": [
    {
     "name": "stdout",
     "output_type": "stream",
     "text": [
      "jiayu win!\n",
      "jiayu win!\n",
      "jiayu win!\n",
      "jiayu win!\n",
      "yiyun win!\n",
      "jiayu has longer legs than yiyun's!\n",
      "jiayu win!\n",
      "jiayu win!\n",
      "jiayu win!\n",
      "jiayu win!\n",
      "jiayu win!\n",
      "jiayu has longer legs than yiyun's!\n",
      "yiyun win!\n",
      "jiayu win!\n",
      "jiayu win!\n",
      "yiyun win!\n",
      "yiyun win!\n",
      "yiyun has longer legs than jiayu's!\n",
      "yiyun win!\n",
      "yiyun win!\n",
      "yiyun win!\n",
      "jiayu win!\n",
      "jiayu win!\n",
      "yiyun has longer legs than jiayu's!\n",
      "jiayu win!\n",
      "jiayu win!\n",
      "jiayu win!\n",
      "jiayu win!\n",
      "jiayu win!\n",
      "jiayu has longer legs than yiyun's!\n",
      "jiayu win!\n",
      "jiayu win!\n",
      "jiayu win!\n",
      "jiayu win!\n",
      "yiyun win!\n",
      "jiayu has longer legs than yiyun's!\n",
      "jiayu win!\n",
      "yiyun win!\n",
      "jiayu win!\n",
      "jiayu win!\n",
      "jiayu win!\n",
      "jiayu has longer legs than yiyun's!\n",
      "jiayu win!\n",
      "jiayu win!\n",
      "yiyun win!\n",
      "jiayu win!\n",
      "yiyun win!\n",
      "jiayu has longer legs than yiyun's!\n",
      "jiayu win!\n",
      "jiayu win!\n",
      "jiayu win!\n",
      "yiyun win!\n",
      "yiyun win!\n",
      "jiayu has longer legs than yiyun's!\n",
      "jiayu win!\n",
      "jiayu win!\n",
      "yiyun win!\n",
      "yiyun win!\n",
      "yiyun win!\n",
      "yiyun has longer legs than jiayu's!\n",
      "jiayu win!\n",
      "jiayu win!\n",
      "yiyun win!\n",
      "yiyun win!\n",
      "jiayu win!\n",
      "jiayu has longer legs than yiyun's!\n"
     ]
    },
    {
     "data": {
      "text/plain": [
       "8"
      ]
     },
     "execution_count": 19,
     "metadata": {},
     "output_type": "execute_result"
    }
   ],
   "source": [
    "game()"
   ]
  },
  {
   "cell_type": "code",
   "execution_count": 24,
   "metadata": {},
   "outputs": [
    {
     "name": "stdout",
     "output_type": "stream",
     "text": [
      "yiyun win!\n",
      "yiyun win!\n",
      "jiayu win!\n",
      "yiyun win!\n",
      "jiayu win!\n",
      "yiyun has longer legs than jiayu's!\n",
      "jiayu win!\n",
      "jiayu win!\n",
      "yiyun win!\n",
      "yiyun win!\n",
      "yiyun win!\n",
      "yiyun has longer legs than jiayu's!\n",
      "jiayu win!\n",
      "jiayu win!\n",
      "jiayu win!\n",
      "jiayu win!\n",
      "yiyun win!\n",
      "jiayu has longer legs than yiyun's!\n",
      "jiayu win!\n",
      "yiyun win!\n",
      "jiayu win!\n",
      "jiayu win!\n",
      "yiyun win!\n",
      "jiayu has longer legs than yiyun's!\n",
      "jiayu win!\n",
      "yiyun win!\n",
      "yiyun win!\n",
      "jiayu win!\n",
      "yiyun win!\n",
      "yiyun has longer legs than jiayu's!\n",
      "yiyun win!\n",
      "yiyun win!\n",
      "jiayu win!\n",
      "jiayu win!\n",
      "jiayu win!\n",
      "jiayu has longer legs than yiyun's!\n",
      "yiyun win!\n",
      "jiayu win!\n",
      "yiyun win!\n",
      "jiayu win!\n",
      "jiayu win!\n",
      "jiayu has longer legs than yiyun's!\n",
      "jiayu win!\n",
      "yiyun win!\n",
      "yiyun win!\n",
      "jiayu win!\n",
      "yiyun win!\n",
      "yiyun has longer legs than jiayu's!\n",
      "yiyun win!\n",
      "jiayu win!\n",
      "jiayu win!\n",
      "yiyun win!\n",
      "yiyun win!\n",
      "yiyun has longer legs than jiayu's!\n",
      "yiyun win!\n",
      "yiyun win!\n",
      "yiyun win!\n",
      "jiayu win!\n",
      "yiyun win!\n",
      "yiyun has longer legs than jiayu's!\n",
      "yiyun win!\n",
      "yiyun win!\n",
      "jiayu win!\n",
      "yiyun win!\n",
      "jiayu win!\n",
      "yiyun has longer legs than jiayu's!\n"
     ]
    },
    {
     "data": {
      "text/plain": [
       "4"
      ]
     },
     "execution_count": 24,
     "metadata": {},
     "output_type": "execute_result"
    }
   ],
   "source": [
    "game()"
   ]
  },
  {
   "cell_type": "code",
   "execution_count": 25,
   "metadata": {},
   "outputs": [
    {
     "name": "stdout",
     "output_type": "stream",
     "text": [
      "jiayu win!\n",
      "yiyun win!\n",
      "jiayu win!\n",
      "yiyun win!\n",
      "yiyun win!\n",
      "yiyun has longer legs than jiayu's!\n",
      "jiayu win!\n",
      "jiayu win!\n",
      "yiyun win!\n",
      "jiayu win!\n",
      "yiyun win!\n",
      "jiayu has longer legs than yiyun's!\n",
      "jiayu win!\n",
      "yiyun win!\n",
      "jiayu win!\n",
      "jiayu win!\n",
      "yiyun win!\n",
      "jiayu has longer legs than yiyun's!\n",
      "yiyun win!\n",
      "yiyun win!\n",
      "jiayu win!\n",
      "yiyun win!\n",
      "yiyun win!\n",
      "yiyun has longer legs than jiayu's!\n",
      "yiyun win!\n",
      "jiayu win!\n",
      "jiayu win!\n",
      "yiyun win!\n",
      "yiyun win!\n",
      "yiyun has longer legs than jiayu's!\n",
      "jiayu win!\n",
      "jiayu win!\n",
      "yiyun win!\n",
      "jiayu win!\n",
      "yiyun win!\n",
      "jiayu has longer legs than yiyun's!\n",
      "jiayu win!\n",
      "jiayu win!\n",
      "yiyun win!\n",
      "yiyun win!\n",
      "jiayu win!\n",
      "jiayu has longer legs than yiyun's!\n",
      "yiyun win!\n",
      "yiyun win!\n",
      "yiyun win!\n",
      "jiayu win!\n",
      "jiayu win!\n",
      "yiyun has longer legs than jiayu's!\n",
      "jiayu win!\n",
      "yiyun win!\n",
      "yiyun win!\n",
      "jiayu win!\n",
      "jiayu win!\n",
      "jiayu has longer legs than yiyun's!\n",
      "yiyun win!\n",
      "jiayu win!\n",
      "jiayu win!\n",
      "yiyun win!\n",
      "jiayu win!\n",
      "jiayu has longer legs than yiyun's!\n",
      "yiyun win!\n",
      "yiyun win!\n",
      "yiyun win!\n",
      "jiayu win!\n",
      "yiyun win!\n",
      "yiyun has longer legs than jiayu's!\n"
     ]
    },
    {
     "data": {
      "text/plain": [
       "6"
      ]
     },
     "execution_count": 25,
     "metadata": {},
     "output_type": "execute_result"
    }
   ],
   "source": [
    "game()"
   ]
  },
  {
   "cell_type": "code",
   "execution_count": null,
   "metadata": {},
   "outputs": [],
   "source": []
  },
  {
   "cell_type": "code",
   "execution_count": null,
   "metadata": {},
   "outputs": [],
   "source": []
  },
  {
   "cell_type": "code",
   "execution_count": null,
   "metadata": {},
   "outputs": [],
   "source": []
  },
  {
   "cell_type": "code",
   "execution_count": null,
   "metadata": {},
   "outputs": [],
   "source": []
  },
  {
   "cell_type": "code",
   "execution_count": null,
   "metadata": {},
   "outputs": [],
   "source": []
  },
  {
   "cell_type": "code",
   "execution_count": null,
   "metadata": {},
   "outputs": [],
   "source": []
  },
  {
   "cell_type": "code",
   "execution_count": null,
   "metadata": {},
   "outputs": [],
   "source": []
  },
  {
   "cell_type": "code",
   "execution_count": null,
   "metadata": {},
   "outputs": [],
   "source": []
  },
  {
   "cell_type": "code",
   "execution_count": null,
   "metadata": {},
   "outputs": [],
   "source": []
  },
  {
   "cell_type": "code",
   "execution_count": null,
   "metadata": {},
   "outputs": [],
   "source": []
  },
  {
   "cell_type": "code",
   "execution_count": null,
   "metadata": {},
   "outputs": [],
   "source": []
  },
  {
   "cell_type": "code",
   "execution_count": null,
   "metadata": {},
   "outputs": [],
   "source": []
  },
  {
   "cell_type": "code",
   "execution_count": null,
   "metadata": {},
   "outputs": [],
   "source": []
  },
  {
   "cell_type": "code",
   "execution_count": null,
   "metadata": {},
   "outputs": [],
   "source": []
  },
  {
   "cell_type": "code",
   "execution_count": null,
   "metadata": {},
   "outputs": [],
   "source": []
  },
  {
   "cell_type": "code",
   "execution_count": 80,
   "metadata": {},
   "outputs": [
    {
     "name": "stdout",
     "output_type": "stream",
     "text": [
      "yiyun win!\n",
      "jiayu win!\n",
      "jiayu win!\n",
      "yiyun win!\n",
      "jiayu win!\n",
      "jiayu has longer legs than yiyun's!\n",
      "yiyun win!\n",
      "yiyun win!\n",
      "yiyun win!\n",
      "jiayu win!\n",
      "jiayu win!\n",
      "yiyun has longer legs than jiayu's!\n",
      "yiyun win!\n",
      "yiyun win!\n",
      "jiayu win!\n",
      "yiyun win!\n",
      "jiayu win!\n",
      "yiyun has longer legs than jiayu's!\n",
      "yiyun win!\n",
      "jiayu win!\n",
      "yiyun win!\n",
      "yiyun win!\n",
      "yiyun win!\n",
      "yiyun has longer legs than jiayu's!\n",
      "jiayu win!\n",
      "jiayu win!\n",
      "yiyun win!\n",
      "yiyun win!\n",
      "jiayu win!\n",
      "jiayu has longer legs than yiyun's!\n",
      "yiyun win!\n",
      "jiayu win!\n",
      "jiayu win!\n",
      "jiayu win!\n",
      "jiayu win!\n",
      "jiayu has longer legs than yiyun's!\n",
      "yiyun win!\n",
      "jiayu win!\n",
      "jiayu win!\n",
      "yiyun win!\n",
      "yiyun win!\n",
      "yiyun has longer legs than jiayu's!\n",
      "yiyun win!\n",
      "jiayu win!\n",
      "yiyun win!\n",
      "yiyun win!\n",
      "jiayu win!\n",
      "yiyun has longer legs than jiayu's!\n",
      "yiyun win!\n",
      "jiayu win!\n",
      "jiayu win!\n",
      "yiyun win!\n",
      "yiyun win!\n",
      "yiyun has longer legs than jiayu's!\n",
      "yiyun win!\n",
      "yiyun win!\n",
      "jiayu win!\n",
      "yiyun win!\n",
      "jiayu win!\n",
      "yiyun has longer legs than jiayu's!\n",
      "jiayu win!\n",
      "jiayu win!\n",
      "jiayu win!\n",
      "jiayu win!\n",
      "yiyun win!\n",
      "jiayu has longer legs than yiyun's!\n"
     ]
    },
    {
     "data": {
      "text/plain": [
       "4"
      ]
     },
     "execution_count": 80,
     "metadata": {},
     "output_type": "execute_result"
    }
   ],
   "source": [
    "game()"
   ]
  },
  {
   "cell_type": "code",
   "execution_count": 81,
   "metadata": {},
   "outputs": [
    {
     "name": "stdout",
     "output_type": "stream",
     "text": [
      "jiayu win!\n",
      "jiayu win!\n",
      "yiyun win!\n",
      "jiayu win!\n",
      "jiayu win!\n",
      "jiayu has longer legs than yiyun's!\n",
      "yiyun win!\n",
      "yiyun win!\n",
      "yiyun win!\n",
      "jiayu win!\n",
      "yiyun win!\n",
      "yiyun has longer legs than jiayu's!\n",
      "yiyun win!\n",
      "yiyun win!\n",
      "yiyun win!\n",
      "jiayu win!\n",
      "yiyun win!\n",
      "yiyun has longer legs than jiayu's!\n",
      "yiyun win!\n",
      "jiayu win!\n",
      "jiayu win!\n",
      "jiayu win!\n",
      "jiayu win!\n",
      "jiayu has longer legs than yiyun's!\n",
      "yiyun win!\n",
      "jiayu win!\n",
      "yiyun win!\n",
      "jiayu win!\n",
      "jiayu win!\n",
      "jiayu has longer legs than yiyun's!\n",
      "yiyun win!\n",
      "yiyun win!\n",
      "jiayu win!\n",
      "jiayu win!\n",
      "yiyun win!\n",
      "yiyun has longer legs than jiayu's!\n",
      "yiyun win!\n",
      "jiayu win!\n",
      "yiyun win!\n",
      "jiayu win!\n",
      "jiayu win!\n",
      "jiayu has longer legs than yiyun's!\n",
      "jiayu win!\n",
      "jiayu win!\n",
      "yiyun win!\n",
      "jiayu win!\n",
      "jiayu win!\n",
      "jiayu has longer legs than yiyun's!\n",
      "yiyun win!\n",
      "jiayu win!\n",
      "yiyun win!\n",
      "yiyun win!\n",
      "jiayu win!\n",
      "yiyun has longer legs than jiayu's!\n",
      "yiyun win!\n",
      "jiayu win!\n",
      "jiayu win!\n",
      "yiyun win!\n",
      "jiayu win!\n",
      "jiayu has longer legs than yiyun's!\n",
      "yiyun win!\n",
      "jiayu win!\n",
      "yiyun win!\n",
      "jiayu win!\n",
      "yiyun win!\n",
      "yiyun has longer legs than jiayu's!\n"
     ]
    },
    {
     "data": {
      "text/plain": [
       "6"
      ]
     },
     "execution_count": 81,
     "metadata": {},
     "output_type": "execute_result"
    }
   ],
   "source": [
    "game()"
   ]
  },
  {
   "cell_type": "code",
   "execution_count": 82,
   "metadata": {},
   "outputs": [
    {
     "name": "stdout",
     "output_type": "stream",
     "text": [
      "yiyun win!\n",
      "jiayu win!\n",
      "jiayu win!\n",
      "yiyun win!\n",
      "yiyun win!\n",
      "yiyun has longer legs than jiayu's!\n",
      "yiyun win!\n",
      "jiayu win!\n",
      "jiayu win!\n",
      "yiyun win!\n",
      "jiayu win!\n",
      "jiayu has longer legs than yiyun's!\n",
      "yiyun win!\n",
      "yiyun win!\n",
      "jiayu win!\n",
      "jiayu win!\n",
      "yiyun win!\n",
      "yiyun has longer legs than jiayu's!\n",
      "jiayu win!\n",
      "jiayu win!\n",
      "jiayu win!\n",
      "yiyun win!\n",
      "yiyun win!\n",
      "jiayu has longer legs than yiyun's!\n",
      "jiayu win!\n",
      "jiayu win!\n",
      "yiyun win!\n",
      "yiyun win!\n",
      "jiayu win!\n",
      "jiayu has longer legs than yiyun's!\n",
      "jiayu win!\n",
      "jiayu win!\n",
      "yiyun win!\n",
      "jiayu win!\n",
      "jiayu win!\n",
      "jiayu has longer legs than yiyun's!\n",
      "yiyun win!\n",
      "jiayu win!\n",
      "jiayu win!\n",
      "jiayu win!\n",
      "jiayu win!\n",
      "jiayu has longer legs than yiyun's!\n",
      "yiyun win!\n",
      "jiayu win!\n",
      "jiayu win!\n",
      "yiyun win!\n",
      "yiyun win!\n",
      "yiyun has longer legs than jiayu's!\n",
      "jiayu win!\n",
      "jiayu win!\n",
      "yiyun win!\n",
      "jiayu win!\n",
      "jiayu win!\n",
      "jiayu has longer legs than yiyun's!\n",
      "jiayu win!\n",
      "yiyun win!\n",
      "jiayu win!\n",
      "jiayu win!\n",
      "jiayu win!\n",
      "jiayu has longer legs than yiyun's!\n",
      "yiyun win!\n",
      "yiyun win!\n",
      "jiayu win!\n",
      "yiyun win!\n",
      "jiayu win!\n",
      "yiyun has longer legs than jiayu's!\n"
     ]
    },
    {
     "data": {
      "text/plain": [
       "7"
      ]
     },
     "execution_count": 82,
     "metadata": {},
     "output_type": "execute_result"
    }
   ],
   "source": [
    "game()"
   ]
  },
  {
   "cell_type": "code",
   "execution_count": 83,
   "metadata": {},
   "outputs": [
    {
     "name": "stdout",
     "output_type": "stream",
     "text": [
      "jiayu win!\n",
      "yiyun win!\n",
      "jiayu win!\n",
      "jiayu win!\n",
      "yiyun win!\n",
      "jiayu has longer legs than yiyun's!\n",
      "jiayu win!\n",
      "jiayu win!\n",
      "yiyun win!\n",
      "jiayu win!\n",
      "jiayu win!\n",
      "jiayu has longer legs than yiyun's!\n",
      "jiayu win!\n",
      "yiyun win!\n",
      "jiayu win!\n",
      "jiayu win!\n",
      "yiyun win!\n",
      "jiayu has longer legs than yiyun's!\n",
      "yiyun win!\n",
      "yiyun win!\n",
      "jiayu win!\n",
      "yiyun win!\n",
      "yiyun win!\n",
      "yiyun has longer legs than jiayu's!\n",
      "jiayu win!\n",
      "jiayu win!\n",
      "jiayu win!\n",
      "jiayu win!\n",
      "yiyun win!\n",
      "jiayu has longer legs than yiyun's!\n",
      "yiyun win!\n",
      "jiayu win!\n",
      "jiayu win!\n",
      "jiayu win!\n",
      "yiyun win!\n",
      "jiayu has longer legs than yiyun's!\n",
      "jiayu win!\n",
      "yiyun win!\n",
      "jiayu win!\n",
      "jiayu win!\n",
      "jiayu win!\n",
      "jiayu has longer legs than yiyun's!\n",
      "jiayu win!\n",
      "jiayu win!\n",
      "yiyun win!\n",
      "yiyun win!\n",
      "jiayu win!\n",
      "jiayu has longer legs than yiyun's!\n",
      "yiyun win!\n",
      "jiayu win!\n",
      "jiayu win!\n",
      "jiayu win!\n",
      "yiyun win!\n",
      "jiayu has longer legs than yiyun's!\n",
      "yiyun win!\n",
      "yiyun win!\n",
      "yiyun win!\n",
      "yiyun win!\n",
      "jiayu win!\n",
      "yiyun has longer legs than jiayu's!\n",
      "jiayu win!\n",
      "yiyun win!\n",
      "jiayu win!\n",
      "yiyun win!\n",
      "yiyun win!\n",
      "yiyun has longer legs than jiayu's!\n"
     ]
    },
    {
     "data": {
      "text/plain": [
       "8"
      ]
     },
     "execution_count": 83,
     "metadata": {},
     "output_type": "execute_result"
    }
   ],
   "source": [
    "game()"
   ]
  },
  {
   "cell_type": "code",
   "execution_count": null,
   "metadata": {},
   "outputs": [],
   "source": []
  },
  {
   "cell_type": "code",
   "execution_count": null,
   "metadata": {},
   "outputs": [],
   "source": []
  },
  {
   "cell_type": "code",
   "execution_count": null,
   "metadata": {},
   "outputs": [],
   "source": []
  },
  {
   "cell_type": "code",
   "execution_count": null,
   "metadata": {},
   "outputs": [],
   "source": []
  },
  {
   "cell_type": "code",
   "execution_count": null,
   "metadata": {},
   "outputs": [],
   "source": []
  },
  {
   "cell_type": "code",
   "execution_count": null,
   "metadata": {},
   "outputs": [],
   "source": []
  }
 ],
 "metadata": {
  "kernelspec": {
   "display_name": "Python 3",
   "language": "python",
   "name": "python3"
  },
  "language_info": {
   "codemirror_mode": {
    "name": "ipython",
    "version": 3
   },
   "file_extension": ".py",
   "mimetype": "text/x-python",
   "name": "python",
   "nbconvert_exporter": "python",
   "pygments_lexer": "ipython3",
   "version": "3.7.2"
  },
  "toc": {
   "base_numbering": 1,
   "nav_menu": {},
   "number_sections": true,
   "sideBar": true,
   "skip_h1_title": false,
   "title_cell": "Table of Contents",
   "title_sidebar": "Contents",
   "toc_cell": false,
   "toc_position": {},
   "toc_section_display": true,
   "toc_window_display": false
  }
 },
 "nbformat": 4,
 "nbformat_minor": 2
}
