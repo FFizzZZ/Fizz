{
 "cells": [
  {
   "cell_type": "code",
   "execution_count": 1,
   "metadata": {},
   "outputs": [],
   "source": [
    "from IPython.core.interactiveshell import InteractiveShell\n",
    "InteractiveShell.ast_node_interactivity = \"all\"\n",
    "\n",
    "import os\n",
    "os.getcwd()\n",
    "os.chdir('/Users/fizz/Document/Notes/Python/codes')"
   ]
  },
  {
   "cell_type": "markdown",
   "metadata": {},
   "source": [
    "# Exception Coding Details"
   ]
  },
  {
   "cell_type": "markdown",
   "metadata": {},
   "source": [
    "For reference, here's the general and most complete format in Python 3.X:"
   ]
  },
  {
   "cell_type": "code",
   "execution_count": null,
   "metadata": {},
   "outputs": [],
   "source": [
    "try:\n",
    "    statements\n",
    "except name1:\n",
    "    statements\n",
    "except (name2, name3):\n",
    "    statements            # Run if any of these exceptions occur\n",
    "except name4 as var:\n",
    "    statements            # Run if name4 is raised, assign instance raised to var\n",
    "except:\n",
    "    statements            # Run for all other exceptions raised\n",
    "else:\n",
    "    statements            # Run if no exception was raised during try block\n",
    "finally:\n",
    "    statements            # Always perform this block on exit"
   ]
  },
  {
   "cell_type": "markdown",
   "metadata": {},
   "source": [
    "* Formally, there may be any number of __except__ clauses, but you can code __else__ only if there is at least one __except__, and there can be only one __else__ and one __finally__.\n",
    "\n",
    "* __Exception__ has almost the same effect as an empty __except__, but ignores exceptions related to system exits."
   ]
  },
  {
   "cell_type": "markdown",
   "metadata": {},
   "source": [
    "No matter what's happened previously, the *finally-block* is executed once the main action block is complete and any raised exceptions have been handled. In fact, the code in the *finally-block* will be run even if there is an error in an exception handler or the *else-block* and a new exception is raised.  \n",
    "The net effect is that the __finally__ is always run, regardless of whether:  \n",
    "* An exception occurred in the main action and was handled\n",
    "* An exception occurred in the main action and was not handled\n",
    "* No exception occurred in the main action\n",
    "* A new exception was triggered in one of the handlers"
   ]
  },
  {
   "cell_type": "code",
   "execution_count": null,
   "metadata": {},
   "outputs": [],
   "source": [
    "raise instance      # Raise instance of class\n",
    "raise class          # Make and raise instance of class: makes an instance\n",
    "raise                  # Reraise the most recent exception"
   ]
  },
  {
   "cell_type": "code",
   "execution_count": null,
   "metadata": {},
   "outputs": [],
   "source": [
    "exc = IndexError()\n",
    "raise exc\n",
    "\n",
    "excs = [IndexError, TypeError]\n",
    "raise excs[0]"
   ]
  },
  {
   "cell_type": "code",
   "execution_count": null,
   "metadata": {},
   "outputs": [],
   "source": [
    "class myExc(Exception): pass\n",
    "raise myExc('spam')\n",
    "\n",
    "try:\n",
    "    ...\n",
    "except MyExc as X:\n",
    "    print(X.args)"
   ]
  },
  {
   "cell_type": "markdown",
   "metadata": {},
   "source": [
    "Python 3.X localizes the exception reference name to the __except__ block - the variable is not available after the block exits, much like a temporary loop variable in 3.X comprehension expressions.  \n",
    "Unlike compression loop variables, though, this variable is *removed* after the __except__ blocks exits in 3.X. It does so because it would otherwise retain a reference to the runtime call stack, which would defer garbage collection and thus retain excess memory space. This removal occurs, though, even if you're using the name elsewhere, and is more extreme policy than that used for comprehensions:"
   ]
  },
  {
   "cell_type": "code",
   "execution_count": 9,
   "metadata": {},
   "outputs": [
    {
     "name": "stdout",
     "output_type": "stream",
     "text": [
      "division by zero\n"
     ]
    },
    {
     "data": {
      "text/plain": [
       "ZeroDivisionError('division by zero')"
      ]
     },
     "execution_count": 9,
     "metadata": {},
     "output_type": "execute_result"
    },
    {
     "ename": "NameError",
     "evalue": "name 'X' is not defined",
     "output_type": "error",
     "traceback": [
      "\u001b[0;31m---------------------------------------------------------------------------\u001b[0m",
      "\u001b[0;31mNameError\u001b[0m                                 Traceback (most recent call last)",
      "\u001b[0;32m<ipython-input-9-9424f8e43d3c>\u001b[0m in \u001b[0;36m<module>\u001b[0;34m()\u001b[0m\n\u001b[1;32m      6\u001b[0m     \u001b[0mSaveit\u001b[0m \u001b[0;34m=\u001b[0m \u001b[0mX\u001b[0m\u001b[0;34m\u001b[0m\u001b[0;34m\u001b[0m\u001b[0m\n\u001b[1;32m      7\u001b[0m \u001b[0mSaveit\u001b[0m\u001b[0;34m\u001b[0m\u001b[0;34m\u001b[0m\u001b[0m\n\u001b[0;32m----> 8\u001b[0;31m \u001b[0mX\u001b[0m\u001b[0;34m\u001b[0m\u001b[0;34m\u001b[0m\u001b[0m\n\u001b[0m",
      "\u001b[0;31mNameError\u001b[0m: name 'X' is not defined"
     ]
    }
   ],
   "source": [
    "# If you need to reference the exception instance after the try statement, assign it to another name\n",
    "try:\n",
    "    1 / 0\n",
    "except Exception as X:\n",
    "    print(X)\n",
    "    Saveit = X\n",
    "Saveit\n",
    "X"
   ]
  },
  {
   "cell_type": "markdown",
   "metadata": {},
   "source": [
    "* Ptyhon 3.X Exception Chaining: raise from"
   ]
  },
  {
   "cell_type": "code",
   "execution_count": 11,
   "metadata": {},
   "outputs": [
    {
     "ename": "TypeError",
     "evalue": "Bad",
     "output_type": "error",
     "traceback": [
      "\u001b[0;31m---------------------------------------------------------------------------\u001b[0m",
      "\u001b[0;31mZeroDivisionError\u001b[0m                         Traceback (most recent call last)",
      "\u001b[0;32m<ipython-input-11-a8a707b4ed97>\u001b[0m in \u001b[0;36m<module>\u001b[0;34m()\u001b[0m\n\u001b[1;32m      1\u001b[0m \u001b[0;32mtry\u001b[0m\u001b[0;34m:\u001b[0m\u001b[0;34m\u001b[0m\u001b[0;34m\u001b[0m\u001b[0m\n\u001b[0;32m----> 2\u001b[0;31m     \u001b[0;36m1\u001b[0m \u001b[0;34m/\u001b[0m \u001b[0;36m0\u001b[0m\u001b[0;34m\u001b[0m\u001b[0;34m\u001b[0m\u001b[0m\n\u001b[0m\u001b[1;32m      3\u001b[0m \u001b[0;32mexcept\u001b[0m \u001b[0mException\u001b[0m \u001b[0;32mas\u001b[0m \u001b[0mE\u001b[0m\u001b[0;34m:\u001b[0m\u001b[0;34m\u001b[0m\u001b[0;34m\u001b[0m\u001b[0m\n",
      "\u001b[0;31mZeroDivisionError\u001b[0m: division by zero",
      "\nThe above exception was the direct cause of the following exception:\n",
      "\u001b[0;31mTypeError\u001b[0m                                 Traceback (most recent call last)",
      "\u001b[0;32m<ipython-input-11-a8a707b4ed97>\u001b[0m in \u001b[0;36m<module>\u001b[0;34m()\u001b[0m\n\u001b[1;32m      2\u001b[0m     \u001b[0;36m1\u001b[0m \u001b[0;34m/\u001b[0m \u001b[0;36m0\u001b[0m\u001b[0;34m\u001b[0m\u001b[0;34m\u001b[0m\u001b[0m\n\u001b[1;32m      3\u001b[0m \u001b[0;32mexcept\u001b[0m \u001b[0mException\u001b[0m \u001b[0;32mas\u001b[0m \u001b[0mE\u001b[0m\u001b[0;34m:\u001b[0m\u001b[0;34m\u001b[0m\u001b[0;34m\u001b[0m\u001b[0m\n\u001b[0;32m----> 4\u001b[0;31m         \u001b[0;32mraise\u001b[0m \u001b[0mTypeError\u001b[0m\u001b[0;34m(\u001b[0m\u001b[0;34m'Bad'\u001b[0m\u001b[0;34m)\u001b[0m \u001b[0;32mfrom\u001b[0m \u001b[0mE\u001b[0m\u001b[0;34m\u001b[0m\u001b[0;34m\u001b[0m\u001b[0m\n\u001b[0m",
      "\u001b[0;31mTypeError\u001b[0m: Bad"
     ]
    }
   ],
   "source": [
    "try:\n",
    "    1 / 0\n",
    "except Exception as E:\n",
    "        raise TypeError('Bad') from E"
   ]
  },
  {
   "cell_type": "code",
   "execution_count": 13,
   "metadata": {},
   "outputs": [
    {
     "ename": "SyntaxError",
     "evalue": "None (<string>)",
     "output_type": "error",
     "traceback": [
      "Traceback \u001b[0;36m(most recent call last)\u001b[0m:\n",
      "  File \u001b[1;32m\"/anaconda3/lib/python3.7/site-packages/IPython/core/interactiveshell.py\"\u001b[0m, line \u001b[1;32m2961\u001b[0m, in \u001b[1;35mrun_code\u001b[0m\n    exec(code_obj, self.user_global_ns, self.user_ns)\n",
      "\u001b[0;36m  File \u001b[0;32m\"<ipython-input-13-2bb7f89337b5>\"\u001b[0;36m, line \u001b[0;32m7\u001b[0;36m, in \u001b[0;35m<module>\u001b[0;36m\u001b[0m\n\u001b[0;31m    raise SyntaxError() from E\u001b[0m\n",
      "\u001b[0;36m  File \u001b[0;32m\"<string>\"\u001b[0;36m, line \u001b[0;32munknown\u001b[0m\n\u001b[0;31mSyntaxError\u001b[0m\n"
     ]
    }
   ],
   "source": [
    "try:\n",
    "    try:\n",
    "        raise IndexError()\n",
    "    except Exception as E:\n",
    "        raise TypeError() from E\n",
    "except Exception as E:\n",
    "    raise SyntaxError() from E"
   ]
  },
  {
   "cell_type": "markdown",
   "metadata": {},
   "source": [
    "## The assert Statement"
   ]
  },
  {
   "cell_type": "code",
   "execution_count": null,
   "metadata": {},
   "outputs": [],
   "source": [
    "assert test, data      # The data part is optional\n",
    "\n",
    "# works like the following code:\n",
    "if __debug__:\n",
    "    if not test:\n",
    "        raise AssertionError(data)"
   ]
  },
  {
   "cell_type": "markdown",
   "metadata": {},
   "source": [
    "In other words, if the __test__ evaluates to false, Python raises an exception: the __data__ item (if it's provided) is used as the exception's constructor argument.\n",
    "\n",
    "As an added feature, __assert__ statements may be removed from a complied program's byte code if the __-0__ Python command-line flag is used, thereby optimizing the program. __AssertionError__ is a bulit-in exception, and the __\\_\\_debug\\_\\___ is a bulit-in name that is automatically set to __True__ unless the __-0__ flag is used. Use a command line like __python -0 main.py__ to run in optimized mode and disable (and hence skip) asserts."
   ]
  },
  {
   "cell_type": "code",
   "execution_count": 4,
   "metadata": {},
   "outputs": [
    {
     "ename": "AssertionError",
     "evalue": "x must be negative",
     "output_type": "error",
     "traceback": [
      "\u001b[0;31m---------------------------------------------------------------------------\u001b[0m",
      "\u001b[0;31mAssertionError\u001b[0m                            Traceback (most recent call last)",
      "\u001b[0;32m<ipython-input-4-705af74665c4>\u001b[0m in \u001b[0;36m<module>\u001b[0;34m()\u001b[0m\n\u001b[1;32m      2\u001b[0m     \u001b[0;32massert\u001b[0m \u001b[0mx\u001b[0m \u001b[0;34m<\u001b[0m \u001b[0;36m0\u001b[0m\u001b[0;34m,\u001b[0m \u001b[0;34m'x must be negative'\u001b[0m\u001b[0;34m\u001b[0m\u001b[0;34m\u001b[0m\u001b[0m\n\u001b[1;32m      3\u001b[0m     \u001b[0;32mreturn\u001b[0m \u001b[0mx\u001b[0m \u001b[0;34m**\u001b[0m \u001b[0;36m2\u001b[0m\u001b[0;34m\u001b[0m\u001b[0;34m\u001b[0m\u001b[0m\n\u001b[0;32m----> 4\u001b[0;31m \u001b[0mf\u001b[0m\u001b[0;34m(\u001b[0m\u001b[0;36m1\u001b[0m\u001b[0;34m)\u001b[0m\u001b[0;34m\u001b[0m\u001b[0;34m\u001b[0m\u001b[0m\n\u001b[0m",
      "\u001b[0;32m<ipython-input-4-705af74665c4>\u001b[0m in \u001b[0;36mf\u001b[0;34m(x)\u001b[0m\n\u001b[1;32m      1\u001b[0m \u001b[0;32mdef\u001b[0m \u001b[0mf\u001b[0m\u001b[0;34m(\u001b[0m\u001b[0mx\u001b[0m\u001b[0;34m)\u001b[0m\u001b[0;34m:\u001b[0m\u001b[0;34m\u001b[0m\u001b[0;34m\u001b[0m\u001b[0m\n\u001b[0;32m----> 2\u001b[0;31m     \u001b[0;32massert\u001b[0m \u001b[0mx\u001b[0m \u001b[0;34m<\u001b[0m \u001b[0;36m0\u001b[0m\u001b[0;34m,\u001b[0m \u001b[0;34m'x must be negative'\u001b[0m\u001b[0;34m\u001b[0m\u001b[0;34m\u001b[0m\u001b[0m\n\u001b[0m\u001b[1;32m      3\u001b[0m     \u001b[0;32mreturn\u001b[0m \u001b[0mx\u001b[0m \u001b[0;34m**\u001b[0m \u001b[0;36m2\u001b[0m\u001b[0;34m\u001b[0m\u001b[0;34m\u001b[0m\u001b[0m\n\u001b[1;32m      4\u001b[0m \u001b[0mf\u001b[0m\u001b[0;34m(\u001b[0m\u001b[0;36m1\u001b[0m\u001b[0;34m)\u001b[0m\u001b[0;34m\u001b[0m\u001b[0;34m\u001b[0m\u001b[0m\n",
      "\u001b[0;31mAssertionError\u001b[0m: x must be negative"
     ]
    }
   ],
   "source": [
    "def f(x):\n",
    "    assert x < 0, 'x must be negative'\n",
    "    return x ** 2\n",
    "f(1)"
   ]
  },
  {
   "cell_type": "markdown",
   "metadata": {},
   "source": [
    "## with/as Context Managers\n",
    "\n",
    "with *expression* [as variable]:  \n",
    "$\\quad$with-block"
   ]
  },
  {
   "cell_type": "code",
   "execution_count": null,
   "metadata": {},
   "outputs": [],
   "source": [
    "with open(r'C:\\misc\\data') as myfile:\n",
    "    for line in myfile:\n",
    "        print(line)\n",
    "        ..."
   ]
  },
  {
   "cell_type": "code",
   "execution_count": null,
   "metadata": {},
   "outputs": [],
   "source": [
    "# the decimal module also uses context managers to simplify saving and restroing the current\n",
    "# decimal context, which specifies the precision and rounding characteristics for calculations:\n",
    "import decimal\n",
    "with decimal.localcontext() as ctx:\n",
    "    ctx.prec = 2\n",
    "    x = decimal.Decimal('1.00') / decimal.Decimal('3.00')"
   ]
  },
  {
   "cell_type": "markdown",
   "metadata": {},
   "source": [
    "Here's how the __with__ statement actually works:  \n",
    "* The expression is evaluated, resulting in an object known as a *context manger* that must have __\\_\\_enter\\_\\___ and __\\_\\_exit\\_\\___ methods.\n",
    "* The context manager's __\\_\\_enter\\_\\___ method is called. The value it returns is assigned to the variable in the __as__ clause if present, or simply discarded otherwise.\n",
    "* The code in the nested __with__ block is executed.\n",
    "* If the __with__ block raises an exception, the __\\_\\_exit\\_\\_(type, value, traceback)__ method is called with the exception details. These are the same three values returned by __sys.exc_info__, described in the Python manuals and later in this part of the book. If this method returns a false value, the exception is reraised; otherwise, the exception is terminated. The exception should normally be reraised so that it is propagated outside the __with__ statement.\n",
    "* If the __with__ block does not raise an exception, the __\\_\\_exit\\_\\___ method is still called, but its __type, value, traceback__ arguments are passed in as __None__."
   ]
  },
  {
   "cell_type": "code",
   "execution_count": 4,
   "metadata": {},
   "outputs": [
    {
     "name": "stdout",
     "output_type": "stream",
     "text": [
      "starting with block\n",
      "running test 1\n",
      "reached\n",
      "exited normally\n",
      "\n",
      "starting with block\n",
      "running test 2\n",
      "raise an exception! <class 'TypeError'>\n"
     ]
    },
    {
     "ename": "TypeError",
     "evalue": "",
     "output_type": "error",
     "traceback": [
      "\u001b[0;31m---------------------------------------------------------------------------\u001b[0m",
      "\u001b[0;31mTypeError\u001b[0m                                 Traceback (most recent call last)",
      "\u001b[0;32m<ipython-input-4-223fb76592c0>\u001b[0m in \u001b[0;36m<module>\u001b[0;34m()\u001b[0m\n\u001b[1;32m     17\u001b[0m     \u001b[0;32mwith\u001b[0m \u001b[0mTraceBlock\u001b[0m\u001b[0;34m(\u001b[0m\u001b[0;34m)\u001b[0m \u001b[0;32mas\u001b[0m \u001b[0maction\u001b[0m\u001b[0;34m:\u001b[0m\u001b[0;34m\u001b[0m\u001b[0;34m\u001b[0m\u001b[0m\n\u001b[1;32m     18\u001b[0m         \u001b[0maction\u001b[0m\u001b[0;34m.\u001b[0m\u001b[0mmessage\u001b[0m\u001b[0;34m(\u001b[0m\u001b[0;34m'test 2'\u001b[0m\u001b[0;34m)\u001b[0m\u001b[0;34m\u001b[0m\u001b[0;34m\u001b[0m\u001b[0m\n\u001b[0;32m---> 19\u001b[0;31m         \u001b[0;32mraise\u001b[0m \u001b[0mTypeError\u001b[0m\u001b[0;34m\u001b[0m\u001b[0;34m\u001b[0m\u001b[0m\n\u001b[0m\u001b[1;32m     20\u001b[0m         \u001b[0mprint\u001b[0m\u001b[0;34m(\u001b[0m\u001b[0;34m'not reached'\u001b[0m\u001b[0;34m)\u001b[0m\u001b[0;34m\u001b[0m\u001b[0;34m\u001b[0m\u001b[0m\n",
      "\u001b[0;31mTypeError\u001b[0m: "
     ]
    }
   ],
   "source": [
    "class TraceBlock:\n",
    "    def message(self, arg):\n",
    "        print('running ' + arg)\n",
    "    def __enter__(self):\n",
    "        print('starting with block')\n",
    "        return self\n",
    "    def __exit__(self, exc_type, exc_value, exc_tb):\n",
    "        if exc_type is None:\n",
    "            print('exited normally\\n')\n",
    "        else:\n",
    "            print('raise an exception! ' + str(exc_type))\n",
    "            return False   # Propagate\n",
    "if __name__ == '__main__':\n",
    "    with TraceBlock() as action:\n",
    "        action.message('test 1')\n",
    "        print('reached')\n",
    "    with TraceBlock() as action:\n",
    "        action.message('test 2')\n",
    "        raise TypeError\n",
    "        print('not reached')"
   ]
  },
  {
   "cell_type": "markdown",
   "metadata": {},
   "source": [
    "* Multiple Context Managers in 3.1, 2.7, and later"
   ]
  },
  {
   "cell_type": "code",
   "execution_count": null,
   "metadata": {},
   "outputs": [],
   "source": [
    "with A() as a, B() as b:\n",
    "    ...statements...\n",
    "# is equivalent to the following:\n",
    "with A() as a:\n",
    "    with B() as b:\n",
    "        ...statements..."
   ]
  },
  {
   "cell_type": "code",
   "execution_count": null,
   "metadata": {},
   "outputs": [],
   "source": [
    "with open('data') as fin, open('res', 'w') as fout:\n",
    "    for line in fin:\n",
    "        if 'some key' in line:\n",
    "            fout.write(line)\n",
    "            \n",
    "# To implement a parallel lines scan of two files\n",
    "with open('script1.py') as f1, open('script2.py') as f2:\n",
    "    for pair in zip(f1, f2):\n",
    "        print(pair)\n",
    "        \n",
    "# To do a line-by-line comparison of two text files\n",
    "with open('script1.py') as f1, open('script2.py') as f2:\n",
    "    for (linenum, (line1, line2)) in enumerate(zip(line1, line2)):\n",
    "        if line1 != line2:\n",
    "            print('%s\\n%r\\n%r' % (linenum, line1, line2))"
   ]
  },
  {
   "cell_type": "markdown",
   "metadata": {},
   "source": [
    "# Exception Objects"
   ]
  },
  {
   "cell_type": "markdown",
   "metadata": {},
   "source": [
    "* Class exception are matched by *superclass relationships*: the raised exception matches an __except__ clause if that __except__ clause names the exception instance's class or any superclass of it.\n",
    "* If we list a class name without paretheses in a __raise__, Python calls the class with no constructor argument to make an instance for us. Exception instances can be created before the __raise__, as done before, or within the __raise__ statement itself."
   ]
  },
  {
   "cell_type": "code",
   "execution_count": 18,
   "metadata": {},
   "outputs": [
    {
     "data": {
      "text/plain": [
       "('spam',)"
      ]
     },
     "execution_count": 18,
     "metadata": {},
     "output_type": "execute_result"
    },
    {
     "name": "stdout",
     "output_type": "stream",
     "text": [
      "spam\n"
     ]
    },
    {
     "ename": "IndexError",
     "evalue": "spam",
     "output_type": "error",
     "traceback": [
      "\u001b[0;31m---------------------------------------------------------------------------\u001b[0m",
      "\u001b[0;31mIndexError\u001b[0m                                Traceback (most recent call last)",
      "\u001b[0;32m<ipython-input-18-71327e6b7913>\u001b[0m in \u001b[0;36m<module>\u001b[0;34m()\u001b[0m\n\u001b[1;32m      2\u001b[0m \u001b[0mI\u001b[0m\u001b[0;34m.\u001b[0m\u001b[0margs\u001b[0m\u001b[0;34m\u001b[0m\u001b[0;34m\u001b[0m\u001b[0m\n\u001b[1;32m      3\u001b[0m \u001b[0mprint\u001b[0m\u001b[0;34m(\u001b[0m\u001b[0mI\u001b[0m\u001b[0;34m)\u001b[0m\u001b[0;34m\u001b[0m\u001b[0;34m\u001b[0m\u001b[0m\n\u001b[0;32m----> 4\u001b[0;31m \u001b[0;32mraise\u001b[0m \u001b[0mI\u001b[0m\u001b[0;34m\u001b[0m\u001b[0;34m\u001b[0m\u001b[0m\n\u001b[0m",
      "\u001b[0;31mIndexError\u001b[0m: spam"
     ]
    }
   ],
   "source": [
    "I = IndexError('spam')\n",
    "I.args\n",
    "print(I)\n",
    "raise I"
   ]
  },
  {
   "cell_type": "code",
   "execution_count": 20,
   "metadata": {},
   "outputs": [
    {
     "name": "stdout",
     "output_type": "stream",
     "text": [
      "spam\n",
      "('spam',)\n",
      "E('spam')\n",
      "('spam', 'eggs', 'ham') ('spam', 'eggs', 'ham')\n"
     ]
    }
   ],
   "source": [
    "class E(Exception): pass\n",
    "try:\n",
    "    raise E('spam')\n",
    "except E as X:\n",
    "    print(X)\n",
    "    print(X.args)\n",
    "    print(repr(X))\n",
    "    \n",
    "try:\n",
    "    raise E('spam', 'eggs', 'ham')\n",
    "except E as X:\n",
    "    print('%s %s' % (X, X.args))"
   ]
  },
  {
   "cell_type": "code",
   "execution_count": 21,
   "metadata": {},
   "outputs": [
    {
     "name": "stdout",
     "output_type": "stream",
     "text": [
      "Always look on the bright side of life ...\n"
     ]
    },
    {
     "ename": "Mybad",
     "evalue": "Always look on the bright side of life ...",
     "output_type": "error",
     "traceback": [
      "\u001b[0;31m---------------------------------------------------------------------------\u001b[0m",
      "\u001b[0;31mMybad\u001b[0m                                     Traceback (most recent call last)",
      "\u001b[0;32m<ipython-input-21-ea69029554cd>\u001b[0m in \u001b[0;36m<module>\u001b[0;34m()\u001b[0m\n\u001b[1;32m      6\u001b[0m \u001b[0;32mexcept\u001b[0m \u001b[0mMybad\u001b[0m \u001b[0;32mas\u001b[0m \u001b[0mX\u001b[0m\u001b[0;34m:\u001b[0m\u001b[0;34m\u001b[0m\u001b[0;34m\u001b[0m\u001b[0m\n\u001b[1;32m      7\u001b[0m     \u001b[0mprint\u001b[0m\u001b[0;34m(\u001b[0m\u001b[0mX\u001b[0m\u001b[0;34m)\u001b[0m\u001b[0;34m\u001b[0m\u001b[0;34m\u001b[0m\u001b[0m\n\u001b[0;32m----> 8\u001b[0;31m \u001b[0;32mraise\u001b[0m \u001b[0mMybad\u001b[0m\u001b[0;34m(\u001b[0m\u001b[0;34m)\u001b[0m\u001b[0;34m\u001b[0m\u001b[0;34m\u001b[0m\u001b[0m\n\u001b[0m",
      "\u001b[0;31mMybad\u001b[0m: Always look on the bright side of life ..."
     ]
    }
   ],
   "source": [
    "class Mybad(Exception):\n",
    "    def __str__(self):\n",
    "        return 'Always look on the bright side of life ...'\n",
    "try:\n",
    "    raise Mybad()\n",
    "except Mybad as X:\n",
    "    print(X)\n",
    "    \n",
    "raise Mybad()"
   ]
  },
  {
   "cell_type": "code",
   "execution_count": null,
   "metadata": {},
   "outputs": [],
   "source": [
    "class FormatError(Exception):\n",
    "    logfile = 'formaterror.py'\n",
    "    def __init__(self, line, file):\n",
    "        self.line = line\n",
    "        self.file = file\n",
    "    def logerror(self):\n",
    "        log = open(self.logfile, 'a')\n",
    "        print('Error at:', self.file, self.line, file=log)\n",
    "def parser():\n",
    "    raise FormatError(40, 'spam.txt')\n",
    "\n",
    "if __name__ == '__main__':\n",
    "    try:\n",
    "        parser()\n",
    "    except FormatError as exc:\n",
    "        exc.logerror()"
   ]
  },
  {
   "cell_type": "code",
   "execution_count": null,
   "metadata": {},
   "outputs": [],
   "source": []
  },
  {
   "cell_type": "code",
   "execution_count": null,
   "metadata": {},
   "outputs": [],
   "source": []
  },
  {
   "cell_type": "code",
   "execution_count": null,
   "metadata": {},
   "outputs": [],
   "source": []
  },
  {
   "cell_type": "code",
   "execution_count": null,
   "metadata": {},
   "outputs": [],
   "source": []
  },
  {
   "cell_type": "code",
   "execution_count": null,
   "metadata": {},
   "outputs": [],
   "source": []
  },
  {
   "cell_type": "code",
   "execution_count": null,
   "metadata": {},
   "outputs": [],
   "source": []
  },
  {
   "cell_type": "code",
   "execution_count": null,
   "metadata": {},
   "outputs": [],
   "source": []
  },
  {
   "cell_type": "code",
   "execution_count": null,
   "metadata": {},
   "outputs": [],
   "source": []
  },
  {
   "cell_type": "code",
   "execution_count": null,
   "metadata": {},
   "outputs": [],
   "source": []
  },
  {
   "cell_type": "code",
   "execution_count": null,
   "metadata": {},
   "outputs": [],
   "source": []
  },
  {
   "cell_type": "code",
   "execution_count": null,
   "metadata": {},
   "outputs": [],
   "source": []
  },
  {
   "cell_type": "code",
   "execution_count": null,
   "metadata": {},
   "outputs": [],
   "source": []
  },
  {
   "cell_type": "code",
   "execution_count": null,
   "metadata": {},
   "outputs": [],
   "source": []
  },
  {
   "cell_type": "code",
   "execution_count": null,
   "metadata": {},
   "outputs": [],
   "source": []
  },
  {
   "cell_type": "code",
   "execution_count": null,
   "metadata": {},
   "outputs": [],
   "source": []
  },
  {
   "cell_type": "code",
   "execution_count": null,
   "metadata": {},
   "outputs": [],
   "source": []
  },
  {
   "cell_type": "code",
   "execution_count": null,
   "metadata": {},
   "outputs": [],
   "source": []
  },
  {
   "cell_type": "code",
   "execution_count": null,
   "metadata": {},
   "outputs": [],
   "source": []
  },
  {
   "cell_type": "code",
   "execution_count": null,
   "metadata": {},
   "outputs": [],
   "source": []
  },
  {
   "cell_type": "code",
   "execution_count": null,
   "metadata": {},
   "outputs": [],
   "source": []
  },
  {
   "cell_type": "code",
   "execution_count": null,
   "metadata": {},
   "outputs": [],
   "source": []
  },
  {
   "cell_type": "code",
   "execution_count": null,
   "metadata": {},
   "outputs": [],
   "source": []
  },
  {
   "cell_type": "code",
   "execution_count": null,
   "metadata": {},
   "outputs": [],
   "source": []
  },
  {
   "cell_type": "code",
   "execution_count": null,
   "metadata": {},
   "outputs": [],
   "source": []
  },
  {
   "cell_type": "code",
   "execution_count": null,
   "metadata": {},
   "outputs": [],
   "source": []
  },
  {
   "cell_type": "code",
   "execution_count": null,
   "metadata": {},
   "outputs": [],
   "source": []
  },
  {
   "cell_type": "code",
   "execution_count": 10,
   "metadata": {},
   "outputs": [],
   "source": [
    "from jiayuvsyiyun import game"
   ]
  },
  {
   "cell_type": "code",
   "execution_count": 5,
   "metadata": {},
   "outputs": [
    {
     "name": "stdout",
     "output_type": "stream",
     "text": [
      "jiayu win!\n",
      "yiyun win!\n",
      "jiayu win!\n",
      "yiyun win!\n",
      "yiyun win!\n",
      "yiyun has longer legs than jiayu's!\n",
      "jiayu win!\n",
      "jiayu win!\n",
      "jiayu win!\n",
      "yiyun win!\n",
      "jiayu win!\n",
      "jiayu has longer legs than yiyun's!\n",
      "yiyun win!\n",
      "yiyun win!\n",
      "yiyun win!\n",
      "yiyun win!\n",
      "yiyun win!\n",
      "yiyun has longer legs than jiayu's!\n",
      "jiayu win!\n",
      "jiayu win!\n",
      "yiyun win!\n",
      "yiyun win!\n",
      "yiyun win!\n",
      "yiyun has longer legs than jiayu's!\n",
      "jiayu win!\n",
      "yiyun win!\n",
      "jiayu win!\n",
      "yiyun win!\n",
      "yiyun win!\n",
      "yiyun has longer legs than jiayu's!\n",
      "yiyun win!\n",
      "jiayu win!\n",
      "jiayu win!\n",
      "yiyun win!\n",
      "yiyun win!\n",
      "yiyun has longer legs than jiayu's!\n",
      "yiyun win!\n",
      "jiayu win!\n",
      "yiyun win!\n",
      "jiayu win!\n",
      "jiayu win!\n",
      "jiayu has longer legs than yiyun's!\n",
      "yiyun win!\n",
      "jiayu win!\n",
      "jiayu win!\n",
      "jiayu win!\n",
      "yiyun win!\n",
      "jiayu has longer legs than yiyun's!\n",
      "yiyun win!\n",
      "yiyun win!\n",
      "yiyun win!\n",
      "yiyun win!\n",
      "yiyun win!\n",
      "yiyun has longer legs than jiayu's!\n",
      "jiayu win!\n",
      "yiyun win!\n",
      "yiyun win!\n",
      "yiyun win!\n",
      "jiayu win!\n",
      "yiyun has longer legs than jiayu's!\n",
      "yiyun win!\n",
      "yiyun win!\n",
      "yiyun win!\n",
      "jiayu win!\n",
      "yiyun win!\n",
      "yiyun has longer legs than jiayu's!\n"
     ]
    },
    {
     "data": {
      "text/plain": [
       "3"
      ]
     },
     "execution_count": 5,
     "metadata": {},
     "output_type": "execute_result"
    }
   ],
   "source": [
    "game()"
   ]
  },
  {
   "cell_type": "code",
   "execution_count": 6,
   "metadata": {},
   "outputs": [
    {
     "name": "stdout",
     "output_type": "stream",
     "text": [
      "jiayu win!\n",
      "jiayu win!\n",
      "yiyun win!\n",
      "yiyun win!\n",
      "yiyun win!\n",
      "yiyun has longer legs than jiayu's!\n",
      "yiyun win!\n",
      "jiayu win!\n",
      "jiayu win!\n",
      "yiyun win!\n",
      "yiyun win!\n",
      "yiyun has longer legs than jiayu's!\n",
      "yiyun win!\n",
      "jiayu win!\n",
      "jiayu win!\n",
      "jiayu win!\n",
      "jiayu win!\n",
      "jiayu has longer legs than yiyun's!\n",
      "yiyun win!\n",
      "jiayu win!\n",
      "jiayu win!\n",
      "jiayu win!\n",
      "yiyun win!\n",
      "jiayu has longer legs than yiyun's!\n",
      "yiyun win!\n",
      "jiayu win!\n",
      "jiayu win!\n",
      "yiyun win!\n",
      "yiyun win!\n",
      "yiyun has longer legs than jiayu's!\n",
      "jiayu win!\n",
      "yiyun win!\n",
      "jiayu win!\n",
      "yiyun win!\n",
      "jiayu win!\n",
      "jiayu has longer legs than yiyun's!\n",
      "yiyun win!\n",
      "yiyun win!\n",
      "jiayu win!\n",
      "yiyun win!\n",
      "yiyun win!\n",
      "yiyun has longer legs than jiayu's!\n",
      "yiyun win!\n",
      "jiayu win!\n",
      "yiyun win!\n",
      "jiayu win!\n",
      "jiayu win!\n",
      "jiayu has longer legs than yiyun's!\n",
      "jiayu win!\n",
      "yiyun win!\n",
      "yiyun win!\n",
      "yiyun win!\n",
      "yiyun win!\n",
      "yiyun has longer legs than jiayu's!\n",
      "yiyun win!\n",
      "yiyun win!\n",
      "jiayu win!\n",
      "jiayu win!\n",
      "jiayu win!\n",
      "jiayu has longer legs than yiyun's!\n",
      "yiyun win!\n",
      "jiayu win!\n",
      "jiayu win!\n",
      "yiyun win!\n",
      "yiyun win!\n",
      "yiyun has longer legs than jiayu's!\n"
     ]
    },
    {
     "data": {
      "text/plain": [
       "5"
      ]
     },
     "execution_count": 6,
     "metadata": {},
     "output_type": "execute_result"
    }
   ],
   "source": [
    "game()"
   ]
  },
  {
   "cell_type": "code",
   "execution_count": 7,
   "metadata": {},
   "outputs": [
    {
     "name": "stdout",
     "output_type": "stream",
     "text": [
      "jiayu win!\n",
      "yiyun win!\n",
      "jiayu win!\n",
      "jiayu win!\n",
      "jiayu win!\n",
      "jiayu has longer legs than yiyun's!\n",
      "jiayu win!\n",
      "yiyun win!\n",
      "jiayu win!\n",
      "jiayu win!\n",
      "yiyun win!\n",
      "jiayu has longer legs than yiyun's!\n",
      "jiayu win!\n",
      "jiayu win!\n",
      "jiayu win!\n",
      "yiyun win!\n",
      "yiyun win!\n",
      "jiayu has longer legs than yiyun's!\n",
      "jiayu win!\n",
      "yiyun win!\n",
      "yiyun win!\n",
      "jiayu win!\n",
      "jiayu win!\n",
      "jiayu has longer legs than yiyun's!\n",
      "yiyun win!\n",
      "jiayu win!\n",
      "jiayu win!\n",
      "yiyun win!\n",
      "yiyun win!\n",
      "yiyun has longer legs than jiayu's!\n",
      "jiayu win!\n",
      "yiyun win!\n",
      "jiayu win!\n",
      "yiyun win!\n",
      "jiayu win!\n",
      "jiayu has longer legs than yiyun's!\n",
      "yiyun win!\n",
      "jiayu win!\n",
      "jiayu win!\n",
      "yiyun win!\n",
      "yiyun win!\n",
      "yiyun has longer legs than jiayu's!\n",
      "yiyun win!\n",
      "yiyun win!\n",
      "jiayu win!\n",
      "yiyun win!\n",
      "yiyun win!\n",
      "yiyun has longer legs than jiayu's!\n",
      "yiyun win!\n",
      "jiayu win!\n",
      "yiyun win!\n",
      "jiayu win!\n",
      "yiyun win!\n",
      "yiyun has longer legs than jiayu's!\n",
      "jiayu win!\n",
      "jiayu win!\n",
      "yiyun win!\n",
      "jiayu win!\n",
      "yiyun win!\n",
      "jiayu has longer legs than yiyun's!\n",
      "jiayu win!\n",
      "jiayu win!\n",
      "jiayu win!\n",
      "jiayu win!\n",
      "yiyun win!\n",
      "jiayu has longer legs than yiyun's!\n"
     ]
    },
    {
     "data": {
      "text/plain": [
       "7"
      ]
     },
     "execution_count": 7,
     "metadata": {},
     "output_type": "execute_result"
    }
   ],
   "source": [
    "game()"
   ]
  },
  {
   "cell_type": "code",
   "execution_count": 8,
   "metadata": {},
   "outputs": [
    {
     "name": "stdout",
     "output_type": "stream",
     "text": [
      "jiayu win!\n",
      "yiyun win!\n",
      "yiyun win!\n",
      "jiayu win!\n",
      "yiyun win!\n",
      "yiyun has longer legs than jiayu's!\n",
      "yiyun win!\n",
      "jiayu win!\n",
      "jiayu win!\n",
      "jiayu win!\n",
      "jiayu win!\n",
      "jiayu has longer legs than yiyun's!\n",
      "yiyun win!\n",
      "jiayu win!\n",
      "yiyun win!\n",
      "jiayu win!\n",
      "yiyun win!\n",
      "yiyun has longer legs than jiayu's!\n",
      "yiyun win!\n",
      "yiyun win!\n",
      "yiyun win!\n",
      "jiayu win!\n",
      "jiayu win!\n",
      "yiyun has longer legs than jiayu's!\n",
      "yiyun win!\n",
      "jiayu win!\n",
      "jiayu win!\n",
      "yiyun win!\n",
      "yiyun win!\n",
      "yiyun has longer legs than jiayu's!\n",
      "yiyun win!\n",
      "jiayu win!\n",
      "jiayu win!\n",
      "jiayu win!\n",
      "jiayu win!\n",
      "jiayu has longer legs than yiyun's!\n",
      "jiayu win!\n",
      "jiayu win!\n",
      "yiyun win!\n",
      "yiyun win!\n",
      "yiyun win!\n",
      "yiyun has longer legs than jiayu's!\n",
      "yiyun win!\n",
      "jiayu win!\n",
      "yiyun win!\n",
      "jiayu win!\n",
      "jiayu win!\n",
      "jiayu has longer legs than yiyun's!\n",
      "yiyun win!\n",
      "yiyun win!\n",
      "jiayu win!\n",
      "jiayu win!\n",
      "jiayu win!\n",
      "jiayu has longer legs than yiyun's!\n",
      "yiyun win!\n",
      "yiyun win!\n",
      "jiayu win!\n",
      "jiayu win!\n",
      "yiyun win!\n",
      "yiyun has longer legs than jiayu's!\n",
      "jiayu win!\n",
      "yiyun win!\n",
      "yiyun win!\n",
      "jiayu win!\n",
      "yiyun win!\n",
      "yiyun has longer legs than jiayu's!\n"
     ]
    },
    {
     "data": {
      "text/plain": [
       "4"
      ]
     },
     "execution_count": 8,
     "metadata": {},
     "output_type": "execute_result"
    }
   ],
   "source": [
    "game()"
   ]
  },
  {
   "cell_type": "code",
   "execution_count": 9,
   "metadata": {},
   "outputs": [
    {
     "name": "stdout",
     "output_type": "stream",
     "text": [
      "jiayu win!\n",
      "yiyun win!\n",
      "yiyun win!\n",
      "yiyun win!\n",
      "yiyun win!\n",
      "yiyun has longer legs than jiayu's!\n",
      "jiayu win!\n",
      "yiyun win!\n",
      "yiyun win!\n",
      "yiyun win!\n",
      "jiayu win!\n",
      "yiyun has longer legs than jiayu's!\n",
      "yiyun win!\n",
      "jiayu win!\n",
      "yiyun win!\n",
      "jiayu win!\n",
      "jiayu win!\n",
      "jiayu has longer legs than yiyun's!\n",
      "yiyun win!\n",
      "yiyun win!\n",
      "yiyun win!\n",
      "jiayu win!\n",
      "yiyun win!\n",
      "yiyun has longer legs than jiayu's!\n",
      "yiyun win!\n",
      "yiyun win!\n",
      "yiyun win!\n",
      "yiyun win!\n",
      "jiayu win!\n",
      "yiyun has longer legs than jiayu's!\n",
      "yiyun win!\n",
      "yiyun win!\n",
      "jiayu win!\n",
      "jiayu win!\n",
      "yiyun win!\n",
      "yiyun has longer legs than jiayu's!\n",
      "yiyun win!\n",
      "yiyun win!\n",
      "yiyun win!\n",
      "jiayu win!\n",
      "jiayu win!\n",
      "yiyun has longer legs than jiayu's!\n",
      "yiyun win!\n",
      "jiayu win!\n",
      "yiyun win!\n",
      "jiayu win!\n",
      "jiayu win!\n",
      "jiayu has longer legs than yiyun's!\n",
      "yiyun win!\n",
      "jiayu win!\n",
      "yiyun win!\n",
      "jiayu win!\n",
      "jiayu win!\n",
      "jiayu has longer legs than yiyun's!\n",
      "jiayu win!\n",
      "jiayu win!\n",
      "jiayu win!\n",
      "jiayu win!\n",
      "yiyun win!\n",
      "jiayu has longer legs than yiyun's!\n",
      "yiyun win!\n",
      "jiayu win!\n",
      "yiyun win!\n",
      "jiayu win!\n",
      "jiayu win!\n",
      "jiayu has longer legs than yiyun's!\n"
     ]
    },
    {
     "data": {
      "text/plain": [
       "5"
      ]
     },
     "execution_count": 9,
     "metadata": {},
     "output_type": "execute_result"
    }
   ],
   "source": [
    "game()"
   ]
  },
  {
   "cell_type": "code",
   "execution_count": null,
   "metadata": {},
   "outputs": [],
   "source": []
  },
  {
   "cell_type": "code",
   "execution_count": null,
   "metadata": {},
   "outputs": [],
   "source": []
  },
  {
   "cell_type": "code",
   "execution_count": null,
   "metadata": {},
   "outputs": [],
   "source": []
  },
  {
   "cell_type": "code",
   "execution_count": null,
   "metadata": {},
   "outputs": [],
   "source": []
  },
  {
   "cell_type": "code",
   "execution_count": 3,
   "metadata": {},
   "outputs": [
    {
     "name": "stdout",
     "output_type": "stream",
     "text": [
      "yiyun win!\n",
      "yiyun win!\n",
      "jiayu win!\n",
      "jiayu win!\n",
      "yiyun win!\n",
      "yiyun has longer legs than jiayu's!\n",
      "jiayu win!\n",
      "jiayu win!\n",
      "yiyun win!\n",
      "jiayu win!\n",
      "yiyun win!\n",
      "jiayu has longer legs than yiyun's!\n",
      "yiyun win!\n",
      "yiyun win!\n",
      "jiayu win!\n",
      "yiyun win!\n",
      "jiayu win!\n",
      "yiyun has longer legs than jiayu's!\n",
      "jiayu win!\n",
      "jiayu win!\n",
      "yiyun win!\n",
      "yiyun win!\n",
      "jiayu win!\n",
      "jiayu has longer legs than yiyun's!\n",
      "yiyun win!\n",
      "yiyun win!\n",
      "jiayu win!\n",
      "jiayu win!\n",
      "yiyun win!\n",
      "yiyun has longer legs than jiayu's!\n",
      "yiyun win!\n",
      "jiayu win!\n",
      "jiayu win!\n",
      "yiyun win!\n",
      "jiayu win!\n",
      "jiayu has longer legs than yiyun's!\n",
      "jiayu win!\n",
      "yiyun win!\n",
      "yiyun win!\n",
      "jiayu win!\n",
      "yiyun win!\n",
      "yiyun has longer legs than jiayu's!\n",
      "jiayu win!\n",
      "jiayu win!\n",
      "jiayu win!\n",
      "yiyun win!\n",
      "jiayu win!\n",
      "jiayu has longer legs than yiyun's!\n",
      "yiyun win!\n",
      "yiyun win!\n",
      "yiyun win!\n",
      "jiayu win!\n",
      "yiyun win!\n",
      "yiyun has longer legs than jiayu's!\n",
      "yiyun win!\n",
      "yiyun win!\n",
      "jiayu win!\n",
      "yiyun win!\n",
      "yiyun win!\n",
      "yiyun has longer legs than jiayu's!\n",
      "jiayu win!\n",
      "yiyun win!\n",
      "yiyun win!\n",
      "yiyun win!\n",
      "jiayu win!\n",
      "yiyun has longer legs than jiayu's!\n"
     ]
    },
    {
     "data": {
      "text/plain": [
       "4"
      ]
     },
     "execution_count": 3,
     "metadata": {},
     "output_type": "execute_result"
    }
   ],
   "source": [
    "game()"
   ]
  },
  {
   "cell_type": "code",
   "execution_count": 4,
   "metadata": {},
   "outputs": [
    {
     "name": "stdout",
     "output_type": "stream",
     "text": [
      "yiyun win!\n",
      "yiyun win!\n",
      "jiayu win!\n",
      "yiyun win!\n",
      "yiyun win!\n",
      "yiyun has longer legs than jiayu's!\n",
      "jiayu win!\n",
      "yiyun win!\n",
      "yiyun win!\n",
      "yiyun win!\n",
      "yiyun win!\n",
      "yiyun has longer legs than jiayu's!\n",
      "yiyun win!\n",
      "yiyun win!\n",
      "jiayu win!\n",
      "yiyun win!\n",
      "yiyun win!\n",
      "yiyun has longer legs than jiayu's!\n",
      "yiyun win!\n",
      "jiayu win!\n",
      "yiyun win!\n",
      "yiyun win!\n",
      "yiyun win!\n",
      "yiyun has longer legs than jiayu's!\n",
      "yiyun win!\n",
      "jiayu win!\n",
      "jiayu win!\n",
      "jiayu win!\n",
      "jiayu win!\n",
      "jiayu has longer legs than yiyun's!\n",
      "jiayu win!\n",
      "yiyun win!\n",
      "yiyun win!\n",
      "yiyun win!\n",
      "jiayu win!\n",
      "yiyun has longer legs than jiayu's!\n",
      "jiayu win!\n",
      "jiayu win!\n",
      "jiayu win!\n",
      "yiyun win!\n",
      "jiayu win!\n",
      "jiayu has longer legs than yiyun's!\n",
      "yiyun win!\n",
      "jiayu win!\n",
      "jiayu win!\n",
      "jiayu win!\n",
      "jiayu win!\n",
      "jiayu has longer legs than yiyun's!\n",
      "yiyun win!\n",
      "jiayu win!\n",
      "yiyun win!\n",
      "jiayu win!\n",
      "yiyun win!\n",
      "yiyun has longer legs than jiayu's!\n",
      "jiayu win!\n",
      "jiayu win!\n",
      "yiyun win!\n",
      "yiyun win!\n",
      "jiayu win!\n",
      "jiayu has longer legs than yiyun's!\n",
      "jiayu win!\n",
      "yiyun win!\n",
      "yiyun win!\n",
      "yiyun win!\n",
      "jiayu win!\n",
      "yiyun has longer legs than jiayu's!\n"
     ]
    },
    {
     "data": {
      "text/plain": [
       "4"
      ]
     },
     "execution_count": 4,
     "metadata": {},
     "output_type": "execute_result"
    }
   ],
   "source": [
    "game()"
   ]
  },
  {
   "cell_type": "code",
   "execution_count": 3,
   "metadata": {},
   "outputs": [
    {
     "name": "stdout",
     "output_type": "stream",
     "text": [
      "yiyun win!\n",
      "yiyun win!\n",
      "yiyun win!\n",
      "jiayu win!\n",
      "yiyun win!\n",
      "yiyun has longer legs than jiayu's!\n",
      "jiayu win!\n",
      "yiyun win!\n",
      "yiyun win!\n",
      "yiyun win!\n",
      "yiyun win!\n",
      "yiyun has longer legs than jiayu's!\n",
      "yiyun win!\n",
      "jiayu win!\n",
      "jiayu win!\n",
      "yiyun win!\n",
      "jiayu win!\n",
      "jiayu has longer legs than yiyun's!\n",
      "yiyun win!\n",
      "jiayu win!\n",
      "jiayu win!\n",
      "jiayu win!\n",
      "jiayu win!\n",
      "jiayu has longer legs than yiyun's!\n",
      "jiayu win!\n",
      "yiyun win!\n",
      "jiayu win!\n",
      "yiyun win!\n",
      "yiyun win!\n",
      "yiyun has longer legs than jiayu's!\n",
      "jiayu win!\n",
      "jiayu win!\n",
      "yiyun win!\n",
      "jiayu win!\n",
      "yiyun win!\n",
      "jiayu has longer legs than yiyun's!\n",
      "yiyun win!\n",
      "jiayu win!\n",
      "jiayu win!\n",
      "jiayu win!\n",
      "jiayu win!\n",
      "jiayu has longer legs than yiyun's!\n",
      "jiayu win!\n",
      "yiyun win!\n",
      "yiyun win!\n",
      "yiyun win!\n",
      "yiyun win!\n",
      "yiyun has longer legs than jiayu's!\n",
      "jiayu win!\n",
      "jiayu win!\n",
      "yiyun win!\n",
      "yiyun win!\n",
      "jiayu win!\n",
      "jiayu has longer legs than yiyun's!\n",
      "jiayu win!\n",
      "jiayu win!\n",
      "jiayu win!\n",
      "jiayu win!\n",
      "jiayu win!\n",
      "jiayu has longer legs than yiyun's!\n",
      "jiayu win!\n",
      "jiayu win!\n",
      "yiyun win!\n",
      "yiyun win!\n",
      "jiayu win!\n",
      "jiayu has longer legs than yiyun's!\n"
     ]
    },
    {
     "data": {
      "text/plain": [
       "7"
      ]
     },
     "execution_count": 3,
     "metadata": {},
     "output_type": "execute_result"
    }
   ],
   "source": [
    "game()"
   ]
  },
  {
   "cell_type": "code",
   "execution_count": 11,
   "metadata": {},
   "outputs": [
    {
     "name": "stdout",
     "output_type": "stream",
     "text": [
      "jiayu win!\n",
      "yiyun win!\n",
      "yiyun win!\n",
      "yiyun win!\n",
      "jiayu win!\n",
      "yiyun has longer legs than jiayu's!\n",
      "yiyun win!\n",
      "jiayu win!\n",
      "yiyun win!\n",
      "yiyun win!\n",
      "yiyun win!\n",
      "yiyun has longer legs than jiayu's!\n",
      "jiayu win!\n",
      "jiayu win!\n",
      "jiayu win!\n",
      "yiyun win!\n",
      "jiayu win!\n",
      "jiayu has longer legs than yiyun's!\n",
      "yiyun win!\n",
      "yiyun win!\n",
      "yiyun win!\n",
      "yiyun win!\n",
      "jiayu win!\n",
      "yiyun has longer legs than jiayu's!\n",
      "jiayu win!\n",
      "yiyun win!\n",
      "jiayu win!\n",
      "yiyun win!\n",
      "yiyun win!\n",
      "yiyun has longer legs than jiayu's!\n",
      "jiayu win!\n",
      "jiayu win!\n",
      "yiyun win!\n",
      "yiyun win!\n",
      "jiayu win!\n",
      "jiayu has longer legs than yiyun's!\n",
      "jiayu win!\n",
      "jiayu win!\n",
      "jiayu win!\n",
      "yiyun win!\n",
      "yiyun win!\n",
      "jiayu has longer legs than yiyun's!\n",
      "jiayu win!\n",
      "jiayu win!\n",
      "jiayu win!\n",
      "jiayu win!\n",
      "jiayu win!\n",
      "jiayu has longer legs than yiyun's!\n",
      "jiayu win!\n",
      "yiyun win!\n",
      "jiayu win!\n",
      "yiyun win!\n",
      "jiayu win!\n",
      "jiayu has longer legs than yiyun's!\n",
      "yiyun win!\n",
      "yiyun win!\n",
      "jiayu win!\n",
      "jiayu win!\n",
      "jiayu win!\n",
      "jiayu has longer legs than yiyun's!\n",
      "jiayu win!\n",
      "yiyun win!\n",
      "jiayu win!\n",
      "jiayu win!\n",
      "yiyun win!\n",
      "jiayu has longer legs than yiyun's!\n"
     ]
    },
    {
     "data": {
      "text/plain": [
       "7"
      ]
     },
     "execution_count": 11,
     "metadata": {},
     "output_type": "execute_result"
    }
   ],
   "source": [
    "game()"
   ]
  },
  {
   "cell_type": "code",
   "execution_count": 12,
   "metadata": {},
   "outputs": [
    {
     "name": "stdout",
     "output_type": "stream",
     "text": [
      "jiayu win!\n",
      "jiayu win!\n",
      "jiayu win!\n",
      "jiayu win!\n",
      "jiayu win!\n",
      "jiayu has longer legs than yiyun's!\n",
      "yiyun win!\n",
      "yiyun win!\n",
      "yiyun win!\n",
      "jiayu win!\n",
      "yiyun win!\n",
      "yiyun has longer legs than jiayu's!\n",
      "yiyun win!\n",
      "yiyun win!\n",
      "yiyun win!\n",
      "yiyun win!\n",
      "yiyun win!\n",
      "yiyun has longer legs than jiayu's!\n",
      "jiayu win!\n",
      "jiayu win!\n",
      "yiyun win!\n",
      "yiyun win!\n",
      "yiyun win!\n",
      "yiyun has longer legs than jiayu's!\n",
      "jiayu win!\n",
      "jiayu win!\n",
      "jiayu win!\n",
      "yiyun win!\n",
      "jiayu win!\n",
      "jiayu has longer legs than yiyun's!\n",
      "yiyun win!\n",
      "yiyun win!\n",
      "jiayu win!\n",
      "yiyun win!\n",
      "jiayu win!\n",
      "yiyun has longer legs than jiayu's!\n",
      "jiayu win!\n",
      "yiyun win!\n",
      "jiayu win!\n",
      "yiyun win!\n",
      "yiyun win!\n",
      "yiyun has longer legs than jiayu's!\n",
      "yiyun win!\n",
      "jiayu win!\n",
      "yiyun win!\n",
      "yiyun win!\n",
      "yiyun win!\n",
      "yiyun has longer legs than jiayu's!\n",
      "jiayu win!\n",
      "jiayu win!\n",
      "yiyun win!\n",
      "jiayu win!\n",
      "yiyun win!\n",
      "jiayu has longer legs than yiyun's!\n",
      "jiayu win!\n",
      "jiayu win!\n",
      "yiyun win!\n",
      "yiyun win!\n",
      "jiayu win!\n",
      "jiayu has longer legs than yiyun's!\n",
      "yiyun win!\n",
      "yiyun win!\n",
      "jiayu win!\n",
      "yiyun win!\n",
      "yiyun win!\n",
      "yiyun has longer legs than jiayu's!\n"
     ]
    },
    {
     "data": {
      "text/plain": [
       "4"
      ]
     },
     "execution_count": 12,
     "metadata": {},
     "output_type": "execute_result"
    }
   ],
   "source": [
    "game()"
   ]
  },
  {
   "cell_type": "code",
   "execution_count": 13,
   "metadata": {},
   "outputs": [
    {
     "name": "stdout",
     "output_type": "stream",
     "text": [
      "jiayu win!\n",
      "yiyun win!\n",
      "yiyun win!\n",
      "yiyun win!\n",
      "jiayu win!\n",
      "yiyun has longer legs than jiayu's!\n",
      "jiayu win!\n",
      "jiayu win!\n",
      "yiyun win!\n",
      "jiayu win!\n",
      "jiayu win!\n",
      "jiayu has longer legs than yiyun's!\n",
      "yiyun win!\n",
      "jiayu win!\n",
      "yiyun win!\n",
      "yiyun win!\n",
      "yiyun win!\n",
      "yiyun has longer legs than jiayu's!\n",
      "jiayu win!\n",
      "yiyun win!\n",
      "jiayu win!\n",
      "jiayu win!\n",
      "jiayu win!\n",
      "jiayu has longer legs than yiyun's!\n",
      "jiayu win!\n",
      "jiayu win!\n",
      "jiayu win!\n",
      "yiyun win!\n",
      "jiayu win!\n",
      "jiayu has longer legs than yiyun's!\n",
      "jiayu win!\n",
      "yiyun win!\n",
      "yiyun win!\n",
      "jiayu win!\n",
      "jiayu win!\n",
      "jiayu has longer legs than yiyun's!\n",
      "yiyun win!\n",
      "yiyun win!\n",
      "yiyun win!\n",
      "yiyun win!\n",
      "jiayu win!\n",
      "yiyun has longer legs than jiayu's!\n",
      "yiyun win!\n",
      "yiyun win!\n",
      "jiayu win!\n",
      "yiyun win!\n",
      "jiayu win!\n",
      "yiyun has longer legs than jiayu's!\n",
      "jiayu win!\n",
      "yiyun win!\n",
      "yiyun win!\n",
      "yiyun win!\n",
      "yiyun win!\n",
      "yiyun has longer legs than jiayu's!\n",
      "jiayu win!\n",
      "yiyun win!\n",
      "jiayu win!\n",
      "jiayu win!\n",
      "jiayu win!\n",
      "jiayu has longer legs than yiyun's!\n",
      "jiayu win!\n",
      "jiayu win!\n",
      "jiayu win!\n",
      "yiyun win!\n",
      "yiyun win!\n",
      "jiayu has longer legs than yiyun's!\n"
     ]
    },
    {
     "data": {
      "text/plain": [
       "6"
      ]
     },
     "execution_count": 13,
     "metadata": {},
     "output_type": "execute_result"
    }
   ],
   "source": [
    "game()"
   ]
  },
  {
   "cell_type": "code",
   "execution_count": 14,
   "metadata": {},
   "outputs": [
    {
     "name": "stdout",
     "output_type": "stream",
     "text": [
      "yiyun win!\n",
      "jiayu win!\n",
      "jiayu win!\n",
      "jiayu win!\n",
      "jiayu win!\n",
      "jiayu has longer legs than yiyun's!\n",
      "jiayu win!\n",
      "yiyun win!\n",
      "yiyun win!\n",
      "jiayu win!\n",
      "jiayu win!\n",
      "jiayu has longer legs than yiyun's!\n",
      "yiyun win!\n",
      "yiyun win!\n",
      "jiayu win!\n",
      "jiayu win!\n",
      "jiayu win!\n",
      "jiayu has longer legs than yiyun's!\n",
      "yiyun win!\n",
      "yiyun win!\n",
      "yiyun win!\n",
      "yiyun win!\n",
      "jiayu win!\n",
      "yiyun has longer legs than jiayu's!\n",
      "yiyun win!\n",
      "jiayu win!\n",
      "yiyun win!\n",
      "jiayu win!\n",
      "jiayu win!\n",
      "jiayu has longer legs than yiyun's!\n",
      "jiayu win!\n",
      "yiyun win!\n",
      "jiayu win!\n",
      "yiyun win!\n",
      "jiayu win!\n",
      "jiayu has longer legs than yiyun's!\n",
      "jiayu win!\n",
      "jiayu win!\n",
      "yiyun win!\n",
      "yiyun win!\n",
      "jiayu win!\n",
      "jiayu has longer legs than yiyun's!\n",
      "jiayu win!\n",
      "yiyun win!\n",
      "jiayu win!\n",
      "jiayu win!\n",
      "yiyun win!\n",
      "jiayu has longer legs than yiyun's!\n",
      "yiyun win!\n",
      "jiayu win!\n",
      "yiyun win!\n",
      "yiyun win!\n",
      "jiayu win!\n",
      "yiyun has longer legs than jiayu's!\n",
      "yiyun win!\n",
      "yiyun win!\n",
      "jiayu win!\n",
      "yiyun win!\n",
      "yiyun win!\n",
      "yiyun has longer legs than jiayu's!\n",
      "jiayu win!\n",
      "jiayu win!\n",
      "jiayu win!\n",
      "yiyun win!\n",
      "yiyun win!\n",
      "jiayu has longer legs than yiyun's!\n"
     ]
    },
    {
     "data": {
      "text/plain": [
       "8"
      ]
     },
     "execution_count": 14,
     "metadata": {},
     "output_type": "execute_result"
    }
   ],
   "source": [
    "game()"
   ]
  },
  {
   "cell_type": "code",
   "execution_count": null,
   "metadata": {},
   "outputs": [],
   "source": []
  },
  {
   "cell_type": "code",
   "execution_count": null,
   "metadata": {},
   "outputs": [],
   "source": []
  },
  {
   "cell_type": "code",
   "execution_count": null,
   "metadata": {},
   "outputs": [],
   "source": []
  },
  {
   "cell_type": "code",
   "execution_count": null,
   "metadata": {},
   "outputs": [],
   "source": []
  },
  {
   "cell_type": "code",
   "execution_count": null,
   "metadata": {},
   "outputs": [],
   "source": []
  },
  {
   "cell_type": "code",
   "execution_count": null,
   "metadata": {},
   "outputs": [],
   "source": []
  },
  {
   "cell_type": "code",
   "execution_count": null,
   "metadata": {},
   "outputs": [],
   "source": []
  },
  {
   "cell_type": "code",
   "execution_count": null,
   "metadata": {},
   "outputs": [],
   "source": []
  },
  {
   "cell_type": "code",
   "execution_count": null,
   "metadata": {},
   "outputs": [],
   "source": []
  },
  {
   "cell_type": "code",
   "execution_count": null,
   "metadata": {},
   "outputs": [],
   "source": []
  },
  {
   "cell_type": "code",
   "execution_count": null,
   "metadata": {},
   "outputs": [],
   "source": []
  },
  {
   "cell_type": "code",
   "execution_count": null,
   "metadata": {},
   "outputs": [],
   "source": []
  },
  {
   "cell_type": "code",
   "execution_count": null,
   "metadata": {},
   "outputs": [],
   "source": []
  },
  {
   "cell_type": "code",
   "execution_count": null,
   "metadata": {},
   "outputs": [],
   "source": []
  },
  {
   "cell_type": "code",
   "execution_count": null,
   "metadata": {},
   "outputs": [],
   "source": []
  },
  {
   "cell_type": "code",
   "execution_count": null,
   "metadata": {},
   "outputs": [],
   "source": []
  },
  {
   "cell_type": "code",
   "execution_count": null,
   "metadata": {},
   "outputs": [],
   "source": []
  }
 ],
 "metadata": {
  "kernelspec": {
   "display_name": "Python 3",
   "language": "python",
   "name": "python3"
  },
  "language_info": {
   "codemirror_mode": {
    "name": "ipython",
    "version": 3
   },
   "file_extension": ".py",
   "mimetype": "text/x-python",
   "name": "python",
   "nbconvert_exporter": "python",
   "pygments_lexer": "ipython3",
   "version": "3.7.2"
  },
  "toc": {
   "base_numbering": 1,
   "nav_menu": {},
   "number_sections": true,
   "sideBar": true,
   "skip_h1_title": false,
   "title_cell": "Table of Contents",
   "title_sidebar": "Contents",
   "toc_cell": false,
   "toc_position": {},
   "toc_section_display": true,
   "toc_window_display": false
  }
 },
 "nbformat": 4,
 "nbformat_minor": 2
}
